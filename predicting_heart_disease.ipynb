{
  "nbformat": 4,
  "nbformat_minor": 0,
  "metadata": {
    "accelerator": "GPU",
    "colab": {
      "name": "DMP - DIGITAL TALENT ",
      "provenance": [],
      "collapsed_sections": [],
      "toc_visible": true
    },
    "kernelspec": {
      "display_name": "Python 3",
      "name": "python3"
    },
    "language_info": {
      "name": "python"
    }
  },
  "cells": [
    {
      "cell_type": "markdown",
      "metadata": {
        "id": "k_e3E_dL_Zij"
      },
      "source": [
        "#Import Library "
      ]
    },
    {
      "cell_type": "code",
      "metadata": {
        "id": "8RrrNoEp6CmS"
      },
      "source": [
        "import pandas as pd\n",
        "import matplotlib.pyplot as plt\n",
        "import seaborn as sns\n",
        "import numpy as np\n",
        "from scipy import stats\n",
        "from sklearn import metrics"
      ],
      "execution_count": null,
      "outputs": []
    },
    {
      "cell_type": "markdown",
      "metadata": {
        "id": "8DNzaXxg600u"
      },
      "source": [
        "#Analyze Data"
      ]
    },
    {
      "cell_type": "code",
      "metadata": {
        "colab": {
          "base_uri": "https://localhost:8080/",
          "height": 206
        },
        "id": "1Y1a_tS0x57K",
        "outputId": "44881fcc-5e4d-4d31-a568-03dcaa0bfc6f"
      },
      "source": [
        "data = pd.read_csv('https://raw.githubusercontent.com/habib238/My-DigitalSkola/main/Dataset_11%20-%20Healthcare%20.csv')\n",
        "data.head()"
      ],
      "execution_count": null,
      "outputs": [
        {
          "output_type": "execute_result",
          "data": {
            "text/html": [
              "<div>\n",
              "<style scoped>\n",
              "    .dataframe tbody tr th:only-of-type {\n",
              "        vertical-align: middle;\n",
              "    }\n",
              "\n",
              "    .dataframe tbody tr th {\n",
              "        vertical-align: top;\n",
              "    }\n",
              "\n",
              "    .dataframe thead th {\n",
              "        text-align: right;\n",
              "    }\n",
              "</style>\n",
              "<table border=\"1\" class=\"dataframe\">\n",
              "  <thead>\n",
              "    <tr style=\"text-align: right;\">\n",
              "      <th></th>\n",
              "      <th>age</th>\n",
              "      <th>sex</th>\n",
              "      <th>cp</th>\n",
              "      <th>trestbps</th>\n",
              "      <th>chol</th>\n",
              "      <th>fbs</th>\n",
              "      <th>restecg</th>\n",
              "      <th>thalach</th>\n",
              "      <th>exang</th>\n",
              "      <th>oldpeak</th>\n",
              "      <th>slope</th>\n",
              "      <th>ca</th>\n",
              "      <th>thal</th>\n",
              "      <th>target</th>\n",
              "    </tr>\n",
              "  </thead>\n",
              "  <tbody>\n",
              "    <tr>\n",
              "      <th>0</th>\n",
              "      <td>63</td>\n",
              "      <td>1</td>\n",
              "      <td>3</td>\n",
              "      <td>145</td>\n",
              "      <td>233</td>\n",
              "      <td>1</td>\n",
              "      <td>0</td>\n",
              "      <td>150</td>\n",
              "      <td>0</td>\n",
              "      <td>2.3</td>\n",
              "      <td>0</td>\n",
              "      <td>0</td>\n",
              "      <td>1</td>\n",
              "      <td>1</td>\n",
              "    </tr>\n",
              "    <tr>\n",
              "      <th>1</th>\n",
              "      <td>37</td>\n",
              "      <td>1</td>\n",
              "      <td>2</td>\n",
              "      <td>130</td>\n",
              "      <td>250</td>\n",
              "      <td>0</td>\n",
              "      <td>1</td>\n",
              "      <td>187</td>\n",
              "      <td>0</td>\n",
              "      <td>3.5</td>\n",
              "      <td>0</td>\n",
              "      <td>0</td>\n",
              "      <td>2</td>\n",
              "      <td>1</td>\n",
              "    </tr>\n",
              "    <tr>\n",
              "      <th>2</th>\n",
              "      <td>41</td>\n",
              "      <td>0</td>\n",
              "      <td>1</td>\n",
              "      <td>130</td>\n",
              "      <td>204</td>\n",
              "      <td>0</td>\n",
              "      <td>0</td>\n",
              "      <td>172</td>\n",
              "      <td>0</td>\n",
              "      <td>1.4</td>\n",
              "      <td>2</td>\n",
              "      <td>0</td>\n",
              "      <td>2</td>\n",
              "      <td>1</td>\n",
              "    </tr>\n",
              "    <tr>\n",
              "      <th>3</th>\n",
              "      <td>56</td>\n",
              "      <td>1</td>\n",
              "      <td>1</td>\n",
              "      <td>120</td>\n",
              "      <td>236</td>\n",
              "      <td>0</td>\n",
              "      <td>1</td>\n",
              "      <td>178</td>\n",
              "      <td>0</td>\n",
              "      <td>0.8</td>\n",
              "      <td>2</td>\n",
              "      <td>0</td>\n",
              "      <td>2</td>\n",
              "      <td>1</td>\n",
              "    </tr>\n",
              "    <tr>\n",
              "      <th>4</th>\n",
              "      <td>57</td>\n",
              "      <td>0</td>\n",
              "      <td>0</td>\n",
              "      <td>120</td>\n",
              "      <td>354</td>\n",
              "      <td>0</td>\n",
              "      <td>1</td>\n",
              "      <td>163</td>\n",
              "      <td>1</td>\n",
              "      <td>0.6</td>\n",
              "      <td>2</td>\n",
              "      <td>0</td>\n",
              "      <td>2</td>\n",
              "      <td>1</td>\n",
              "    </tr>\n",
              "  </tbody>\n",
              "</table>\n",
              "</div>"
            ],
            "text/plain": [
              "   age  sex  cp  trestbps  chol  fbs  ...  exang  oldpeak  slope  ca  thal  target\n",
              "0   63    1   3       145   233    1  ...      0      2.3      0   0     1       1\n",
              "1   37    1   2       130   250    0  ...      0      3.5      0   0     2       1\n",
              "2   41    0   1       130   204    0  ...      0      1.4      2   0     2       1\n",
              "3   56    1   1       120   236    0  ...      0      0.8      2   0     2       1\n",
              "4   57    0   0       120   354    0  ...      1      0.6      2   0     2       1\n",
              "\n",
              "[5 rows x 14 columns]"
            ]
          },
          "metadata": {},
          "execution_count": 2
        }
      ]
    },
    {
      "cell_type": "markdown",
      "metadata": {
        "id": "sKagUl4nI7aP"
      },
      "source": [
        "## Features (Data Dictionary)"
      ]
    },
    {
      "cell_type": "markdown",
      "metadata": {
        "id": "GZrSMM-pHapF"
      },
      "source": [
        "**1.** age - age in years\n",
        "\n",
        "**2.** sex - (1 = male; 0 = female)\n",
        "\n",
        "**3.** cp - chest pain type\n",
        "* 0: Typical angina: chest pain related decrease blood supply to the heart\n",
        "* 1: Atypical angina: chest pain not related to heart\n",
        "* 2: Non-anginal pain: typically esophageal spasms (non heart related)\n",
        "* 3: Asymptomatic: chest pain not showing signs of disease\n",
        "\n",
        "**4.** trestbps - resting blood pressure (in mm Hg on admission to the hospital) anything above 130-140 is typically cause for concern\n",
        "\n",
        "**5.** chol - serum cholestoral in mg/dl\n",
        "* serum = LDL + HDL + .2 * triglycerides\n",
        "* above 200 is cause for concern\n",
        "\n",
        "**6.** fbs - (fasting blood sugar > 120 mg/dl) (1 = true; 0 = false)\n",
        "* '>126' mg/dL signals diabetes\n",
        "\n",
        "**7.** restecg - resting electrocardiographic results\n",
        "* 0: Nothing to note\n",
        "* 1: ST-T Wave abnormality\n",
        "  * can range from mild symptoms to severe problems\n",
        "  * signals non-normal heart beat\n",
        "* 2: Possible or definite left ventricular hypertrophy\n",
        "  * Enlarged heart's main pumping chamber\n",
        "\n",
        "**8.** thalach - maximum heart rate achieved\n",
        "\n",
        "**9.** exang - exercise induced angina (1 = yes; 0 = no)\n",
        "\n",
        "**10.** oldpeak - ST depression induced by exercise relative to rest looks at stress of heart during excercise unhealthy heart will stress more\n",
        "\n",
        "**11.** slope - the slope of the peak exercise ST segment\n",
        "* 0: Upsloping: better heart rate with excercise (uncommon)\n",
        "* 1: Flatsloping: minimal change (typical healthy heart)\n",
        "* 2: Downslopins: signs of unhealthy heart\n",
        "\n",
        "**12.** ca - number of major vessels (0-3) colored by flourosopy\n",
        "colored vessel means the doctor can see the blood passing through\n",
        "the more blood movement the better (no clots)\n",
        "\n",
        "**13.** thal - thalium stress result\n",
        "* 1: normal\n",
        "* 2: fixed defect: used to be defect but ok now\n",
        "* 3: reversable defect: no proper blood movement when excercising\n",
        "\n",
        "**14.** target - have disease or not (1=yes, 0=no) (= the predicted attribute)"
      ]
    },
    {
      "cell_type": "markdown",
      "metadata": {
        "id": "grr8tRaNyFO5"
      },
      "source": [
        " ## Exploratory & Visualization Data Analyst\n",
        "\n"
      ]
    },
    {
      "cell_type": "code",
      "metadata": {
        "colab": {
          "base_uri": "https://localhost:8080/"
        },
        "id": "cescRb4XyIuY",
        "outputId": "060b91d7-cfc8-420e-9c67-1210407ff3bc"
      },
      "source": [
        "data.info()"
      ],
      "execution_count": null,
      "outputs": [
        {
          "output_type": "stream",
          "name": "stdout",
          "text": [
            "<class 'pandas.core.frame.DataFrame'>\n",
            "RangeIndex: 303 entries, 0 to 302\n",
            "Data columns (total 14 columns):\n",
            " #   Column    Non-Null Count  Dtype  \n",
            "---  ------    --------------  -----  \n",
            " 0   age       303 non-null    int64  \n",
            " 1   sex       303 non-null    int64  \n",
            " 2   cp        303 non-null    int64  \n",
            " 3   trestbps  303 non-null    int64  \n",
            " 4   chol      303 non-null    int64  \n",
            " 5   fbs       303 non-null    int64  \n",
            " 6   restecg   303 non-null    int64  \n",
            " 7   thalach   303 non-null    int64  \n",
            " 8   exang     303 non-null    int64  \n",
            " 9   oldpeak   303 non-null    float64\n",
            " 10  slope     303 non-null    int64  \n",
            " 11  ca        303 non-null    int64  \n",
            " 12  thal      303 non-null    int64  \n",
            " 13  target    303 non-null    int64  \n",
            "dtypes: float64(1), int64(13)\n",
            "memory usage: 33.3 KB\n"
          ]
        }
      ]
    },
    {
      "cell_type": "code",
      "metadata": {
        "colab": {
          "base_uri": "https://localhost:8080/"
        },
        "id": "OXwbTEFIAXFH",
        "outputId": "bfe63430-030c-4a28-9eac-818f5769702b"
      },
      "source": [
        "data.dtypes"
      ],
      "execution_count": null,
      "outputs": [
        {
          "output_type": "execute_result",
          "data": {
            "text/plain": [
              "age           int64\n",
              "sex           int64\n",
              "cp            int64\n",
              "trestbps      int64\n",
              "chol          int64\n",
              "fbs           int64\n",
              "restecg       int64\n",
              "thalach       int64\n",
              "exang         int64\n",
              "oldpeak     float64\n",
              "slope         int64\n",
              "ca            int64\n",
              "thal          int64\n",
              "target        int64\n",
              "dtype: object"
            ]
          },
          "metadata": {},
          "execution_count": 6
        }
      ]
    },
    {
      "cell_type": "code",
      "metadata": {
        "colab": {
          "base_uri": "https://localhost:8080/"
        },
        "id": "j1rHx65nyDyw",
        "outputId": "b746a029-d2ef-4df4-b60f-d7267fefa0ba"
      },
      "source": [
        "data.shape"
      ],
      "execution_count": null,
      "outputs": [
        {
          "output_type": "execute_result",
          "data": {
            "text/plain": [
              "(303, 14)"
            ]
          },
          "metadata": {},
          "execution_count": 7
        }
      ]
    },
    {
      "cell_type": "markdown",
      "metadata": {
        "id": "ILwjkLMsGdR3"
      },
      "source": [
        "Data memiliki 303 baris dan 14 kolom"
      ]
    },
    {
      "cell_type": "code",
      "metadata": {
        "colab": {
          "base_uri": "https://localhost:8080/",
          "height": 300
        },
        "id": "utObHQvQ68lm",
        "outputId": "bbce2b0c-5495-48de-b344-ef2b785e1346"
      },
      "source": [
        "data.describe()"
      ],
      "execution_count": null,
      "outputs": [
        {
          "output_type": "execute_result",
          "data": {
            "text/html": [
              "<div>\n",
              "<style scoped>\n",
              "    .dataframe tbody tr th:only-of-type {\n",
              "        vertical-align: middle;\n",
              "    }\n",
              "\n",
              "    .dataframe tbody tr th {\n",
              "        vertical-align: top;\n",
              "    }\n",
              "\n",
              "    .dataframe thead th {\n",
              "        text-align: right;\n",
              "    }\n",
              "</style>\n",
              "<table border=\"1\" class=\"dataframe\">\n",
              "  <thead>\n",
              "    <tr style=\"text-align: right;\">\n",
              "      <th></th>\n",
              "      <th>age</th>\n",
              "      <th>sex</th>\n",
              "      <th>cp</th>\n",
              "      <th>trestbps</th>\n",
              "      <th>chol</th>\n",
              "      <th>fbs</th>\n",
              "      <th>restecg</th>\n",
              "      <th>thalach</th>\n",
              "      <th>exang</th>\n",
              "      <th>oldpeak</th>\n",
              "      <th>slope</th>\n",
              "      <th>ca</th>\n",
              "      <th>thal</th>\n",
              "      <th>target</th>\n",
              "    </tr>\n",
              "  </thead>\n",
              "  <tbody>\n",
              "    <tr>\n",
              "      <th>count</th>\n",
              "      <td>303.000000</td>\n",
              "      <td>303.000000</td>\n",
              "      <td>303.000000</td>\n",
              "      <td>303.000000</td>\n",
              "      <td>303.000000</td>\n",
              "      <td>303.000000</td>\n",
              "      <td>303.000000</td>\n",
              "      <td>303.000000</td>\n",
              "      <td>303.000000</td>\n",
              "      <td>303.000000</td>\n",
              "      <td>303.000000</td>\n",
              "      <td>303.000000</td>\n",
              "      <td>303.000000</td>\n",
              "      <td>303.000000</td>\n",
              "    </tr>\n",
              "    <tr>\n",
              "      <th>mean</th>\n",
              "      <td>54.366337</td>\n",
              "      <td>0.683168</td>\n",
              "      <td>0.966997</td>\n",
              "      <td>131.623762</td>\n",
              "      <td>246.264026</td>\n",
              "      <td>0.148515</td>\n",
              "      <td>0.528053</td>\n",
              "      <td>149.646865</td>\n",
              "      <td>0.326733</td>\n",
              "      <td>1.039604</td>\n",
              "      <td>1.399340</td>\n",
              "      <td>0.729373</td>\n",
              "      <td>2.313531</td>\n",
              "      <td>0.544554</td>\n",
              "    </tr>\n",
              "    <tr>\n",
              "      <th>std</th>\n",
              "      <td>9.082101</td>\n",
              "      <td>0.466011</td>\n",
              "      <td>1.032052</td>\n",
              "      <td>17.538143</td>\n",
              "      <td>51.830751</td>\n",
              "      <td>0.356198</td>\n",
              "      <td>0.525860</td>\n",
              "      <td>22.905161</td>\n",
              "      <td>0.469794</td>\n",
              "      <td>1.161075</td>\n",
              "      <td>0.616226</td>\n",
              "      <td>1.022606</td>\n",
              "      <td>0.612277</td>\n",
              "      <td>0.498835</td>\n",
              "    </tr>\n",
              "    <tr>\n",
              "      <th>min</th>\n",
              "      <td>29.000000</td>\n",
              "      <td>0.000000</td>\n",
              "      <td>0.000000</td>\n",
              "      <td>94.000000</td>\n",
              "      <td>126.000000</td>\n",
              "      <td>0.000000</td>\n",
              "      <td>0.000000</td>\n",
              "      <td>71.000000</td>\n",
              "      <td>0.000000</td>\n",
              "      <td>0.000000</td>\n",
              "      <td>0.000000</td>\n",
              "      <td>0.000000</td>\n",
              "      <td>0.000000</td>\n",
              "      <td>0.000000</td>\n",
              "    </tr>\n",
              "    <tr>\n",
              "      <th>25%</th>\n",
              "      <td>47.500000</td>\n",
              "      <td>0.000000</td>\n",
              "      <td>0.000000</td>\n",
              "      <td>120.000000</td>\n",
              "      <td>211.000000</td>\n",
              "      <td>0.000000</td>\n",
              "      <td>0.000000</td>\n",
              "      <td>133.500000</td>\n",
              "      <td>0.000000</td>\n",
              "      <td>0.000000</td>\n",
              "      <td>1.000000</td>\n",
              "      <td>0.000000</td>\n",
              "      <td>2.000000</td>\n",
              "      <td>0.000000</td>\n",
              "    </tr>\n",
              "    <tr>\n",
              "      <th>50%</th>\n",
              "      <td>55.000000</td>\n",
              "      <td>1.000000</td>\n",
              "      <td>1.000000</td>\n",
              "      <td>130.000000</td>\n",
              "      <td>240.000000</td>\n",
              "      <td>0.000000</td>\n",
              "      <td>1.000000</td>\n",
              "      <td>153.000000</td>\n",
              "      <td>0.000000</td>\n",
              "      <td>0.800000</td>\n",
              "      <td>1.000000</td>\n",
              "      <td>0.000000</td>\n",
              "      <td>2.000000</td>\n",
              "      <td>1.000000</td>\n",
              "    </tr>\n",
              "    <tr>\n",
              "      <th>75%</th>\n",
              "      <td>61.000000</td>\n",
              "      <td>1.000000</td>\n",
              "      <td>2.000000</td>\n",
              "      <td>140.000000</td>\n",
              "      <td>274.500000</td>\n",
              "      <td>0.000000</td>\n",
              "      <td>1.000000</td>\n",
              "      <td>166.000000</td>\n",
              "      <td>1.000000</td>\n",
              "      <td>1.600000</td>\n",
              "      <td>2.000000</td>\n",
              "      <td>1.000000</td>\n",
              "      <td>3.000000</td>\n",
              "      <td>1.000000</td>\n",
              "    </tr>\n",
              "    <tr>\n",
              "      <th>max</th>\n",
              "      <td>77.000000</td>\n",
              "      <td>1.000000</td>\n",
              "      <td>3.000000</td>\n",
              "      <td>200.000000</td>\n",
              "      <td>564.000000</td>\n",
              "      <td>1.000000</td>\n",
              "      <td>2.000000</td>\n",
              "      <td>202.000000</td>\n",
              "      <td>1.000000</td>\n",
              "      <td>6.200000</td>\n",
              "      <td>2.000000</td>\n",
              "      <td>4.000000</td>\n",
              "      <td>3.000000</td>\n",
              "      <td>1.000000</td>\n",
              "    </tr>\n",
              "  </tbody>\n",
              "</table>\n",
              "</div>"
            ],
            "text/plain": [
              "              age         sex          cp  ...          ca        thal      target\n",
              "count  303.000000  303.000000  303.000000  ...  303.000000  303.000000  303.000000\n",
              "mean    54.366337    0.683168    0.966997  ...    0.729373    2.313531    0.544554\n",
              "std      9.082101    0.466011    1.032052  ...    1.022606    0.612277    0.498835\n",
              "min     29.000000    0.000000    0.000000  ...    0.000000    0.000000    0.000000\n",
              "25%     47.500000    0.000000    0.000000  ...    0.000000    2.000000    0.000000\n",
              "50%     55.000000    1.000000    1.000000  ...    0.000000    2.000000    1.000000\n",
              "75%     61.000000    1.000000    2.000000  ...    1.000000    3.000000    1.000000\n",
              "max     77.000000    1.000000    3.000000  ...    4.000000    3.000000    1.000000\n",
              "\n",
              "[8 rows x 14 columns]"
            ]
          },
          "metadata": {},
          "execution_count": 8
        }
      ]
    },
    {
      "cell_type": "markdown",
      "metadata": {
        "id": "xqI4GpwVSHQw"
      },
      "source": [
        "###Data Target"
      ]
    },
    {
      "cell_type": "code",
      "metadata": {
        "colab": {
          "base_uri": "https://localhost:8080/"
        },
        "id": "URidtS1QSHQy",
        "outputId": "848e0eed-d037-44e6-e35d-a3809651189a"
      },
      "source": [
        "data.target.value_counts()"
      ],
      "execution_count": null,
      "outputs": [
        {
          "output_type": "execute_result",
          "data": {
            "text/plain": [
              "1    165\n",
              "0    138\n",
              "Name: target, dtype: int64"
            ]
          },
          "metadata": {},
          "execution_count": 23
        }
      ]
    },
    {
      "cell_type": "code",
      "metadata": {
        "colab": {
          "base_uri": "https://localhost:8080/",
          "height": 312
        },
        "id": "C8GWQTM1SHQz",
        "outputId": "8cc2001c-19ec-4c46-92ca-18980dff982d"
      },
      "source": [
        "data_target= pd.DataFrame(data.target.value_counts())\n",
        "data_target.plot(kind='bar')\n",
        "plt.xlabel('Heart Disease');\n",
        "plt.ylabel('Count')\n",
        "plt.title(\"Heart Disease Count\", fontsize=15)"
      ],
      "execution_count": null,
      "outputs": [
        {
          "output_type": "execute_result",
          "data": {
            "text/plain": [
              "Text(0.5, 1.0, 'Heart Disease Count')"
            ]
          },
          "metadata": {},
          "execution_count": 24
        },
        {
          "output_type": "display_data",
          "data": {
            "image/png": "[encoded data removed]",
            "text/plain": [
              "<Figure size 432x288 with 1 Axes>"
            ]
          },
          "metadata": {
            "needs_background": "light"
          }
        }
      ]
    },
    {
      "cell_type": "code",
      "metadata": {
        "colab": {
          "base_uri": "https://localhost:8080/",
          "height": 317
        },
        "id": "o5BFG-HNSHQz",
        "outputId": "7d0caa73-adab-4de8-8106-e206be1b122d"
      },
      "source": [
        "data[data[\"target\"] == 0][column].hist(bins=5, color='blue', label='Have Heart Disease = NO', alpha=0.6)\n",
        "data[data[\"target\"] == 1][column].hist(bins=5, color='red', label='Have Heart Disease = YES', alpha=0.6)\n",
        "plt.legend()\n",
        "plt.xlabel(column)\n",
        "plt.title(\"Heart Disease Count\", fontsize=20)"
      ],
      "execution_count": 38,
      "outputs": [
        {
          "output_type": "execute_result",
          "data": {
            "text/plain": [
              "Text(0.5, 1.0, 'Heart Disease Count')"
            ]
          },
          "metadata": {},
          "execution_count": 38
        },
        {
          "output_type": "display_data",
          "data": {
            "image/png": "[encoded data removed]",
            "text/plain": [
              "<Figure size 432x288 with 1 Axes>"
            ]
          },
          "metadata": {
            "needs_background": "light"
          }
        }
      ]
    },
    {
      "cell_type": "markdown",
      "metadata": {
        "id": "Zf49DdgsSHQ0"
      },
      "source": [
        "Dapat disimpulkan bahwa person with heart disease = 165 dan person without heart disease= 138"
      ]
    },
    {
      "cell_type": "markdown",
      "metadata": {
        "id": "S2VsUX3-EdzQ"
      },
      "source": [
        "###Mengecek Missing Values"
      ]
    },
    {
      "cell_type": "code",
      "metadata": {
        "colab": {
          "base_uri": "https://localhost:8080/"
        },
        "id": "ynsUaztQ8pH0",
        "outputId": "0a4622d3-000c-4cb3-a15a-e4d45ca124f0"
      },
      "source": [
        "data.isna().sum()"
      ],
      "execution_count": null,
      "outputs": [
        {
          "output_type": "execute_result",
          "data": {
            "text/plain": [
              "age         0\n",
              "sex         0\n",
              "cp          0\n",
              "trestbps    0\n",
              "chol        0\n",
              "fbs         0\n",
              "restecg     0\n",
              "thalach     0\n",
              "exang       0\n",
              "oldpeak     0\n",
              "slope       0\n",
              "ca          0\n",
              "thal        0\n",
              "target      0\n",
              "dtype: int64"
            ]
          },
          "metadata": {},
          "execution_count": 44
        }
      ]
    },
    {
      "cell_type": "markdown",
      "metadata": {
        "id": "v6TIQyAL-Xjp"
      },
      "source": [
        "Dapat dilihat bahwa tidak ada data null, sehingga data sudah dikatakan bersih."
      ]
    },
    {
      "cell_type": "markdown",
      "metadata": {
        "id": "jaR3VDYdSg_2"
      },
      "source": [
        "###Mengecek Data Duplicated"
      ]
    },
    {
      "cell_type": "code",
      "metadata": {
        "colab": {
          "base_uri": "https://localhost:8080/"
        },
        "id": "okHluIzfSkgU",
        "outputId": "776c4994-2578-45fd-fbf2-61d298db2e4c"
      },
      "source": [
        "data.duplicated().sum()"
      ],
      "execution_count": null,
      "outputs": [
        {
          "output_type": "execute_result",
          "data": {
            "text/plain": [
              "1"
            ]
          },
          "metadata": {},
          "execution_count": 3
        }
      ]
    },
    {
      "cell_type": "code",
      "metadata": {
        "colab": {
          "base_uri": "https://localhost:8080/",
          "height": 81
        },
        "id": "jCitXp-MtjK9",
        "outputId": "5ce2bac0-56d5-436c-fdf9-d2fa9308d151"
      },
      "source": [
        "data[data.duplicated()]"
      ],
      "execution_count": null,
      "outputs": [
        {
          "output_type": "execute_result",
          "data": {
            "text/html": [
              "<div>\n",
              "<style scoped>\n",
              "    .dataframe tbody tr th:only-of-type {\n",
              "        vertical-align: middle;\n",
              "    }\n",
              "\n",
              "    .dataframe tbody tr th {\n",
              "        vertical-align: top;\n",
              "    }\n",
              "\n",
              "    .dataframe thead th {\n",
              "        text-align: right;\n",
              "    }\n",
              "</style>\n",
              "<table border=\"1\" class=\"dataframe\">\n",
              "  <thead>\n",
              "    <tr style=\"text-align: right;\">\n",
              "      <th></th>\n",
              "      <th>age</th>\n",
              "      <th>sex</th>\n",
              "      <th>cp</th>\n",
              "      <th>trestbps</th>\n",
              "      <th>chol</th>\n",
              "      <th>fbs</th>\n",
              "      <th>restecg</th>\n",
              "      <th>thalach</th>\n",
              "      <th>exang</th>\n",
              "      <th>oldpeak</th>\n",
              "      <th>slope</th>\n",
              "      <th>ca</th>\n",
              "      <th>thal</th>\n",
              "      <th>target</th>\n",
              "    </tr>\n",
              "  </thead>\n",
              "  <tbody>\n",
              "    <tr>\n",
              "      <th>164</th>\n",
              "      <td>38</td>\n",
              "      <td>1</td>\n",
              "      <td>2</td>\n",
              "      <td>138</td>\n",
              "      <td>175</td>\n",
              "      <td>0</td>\n",
              "      <td>1</td>\n",
              "      <td>173</td>\n",
              "      <td>0</td>\n",
              "      <td>0.0</td>\n",
              "      <td>2</td>\n",
              "      <td>4</td>\n",
              "      <td>2</td>\n",
              "      <td>1</td>\n",
              "    </tr>\n",
              "  </tbody>\n",
              "</table>\n",
              "</div>"
            ],
            "text/plain": [
              "     age  sex  cp  trestbps  chol  fbs  ...  exang  oldpeak  slope  ca  thal  target\n",
              "164   38    1   2       138   175    0  ...      0      0.0      2   4     2       1\n",
              "\n",
              "[1 rows x 14 columns]"
            ]
          },
          "metadata": {},
          "execution_count": 4
        }
      ]
    },
    {
      "cell_type": "code",
      "metadata": {
        "id": "gKjFq9EJieVj"
      },
      "source": [
        "data = data.drop_duplicates(subset=None, keep='first', inplace=False)"
      ],
      "execution_count": null,
      "outputs": []
    },
    {
      "cell_type": "code",
      "metadata": {
        "colab": {
          "base_uri": "https://localhost:8080/",
          "height": 424
        },
        "id": "74017RO2irLu",
        "outputId": "0d9cbe19-1406-4504-d94a-691aeef486c6"
      },
      "source": [
        "data"
      ],
      "execution_count": null,
      "outputs": [
        {
          "output_type": "execute_result",
          "data": {
            "text/html": [
              "<div>\n",
              "<style scoped>\n",
              "    .dataframe tbody tr th:only-of-type {\n",
              "        vertical-align: middle;\n",
              "    }\n",
              "\n",
              "    .dataframe tbody tr th {\n",
              "        vertical-align: top;\n",
              "    }\n",
              "\n",
              "    .dataframe thead th {\n",
              "        text-align: right;\n",
              "    }\n",
              "</style>\n",
              "<table border=\"1\" class=\"dataframe\">\n",
              "  <thead>\n",
              "    <tr style=\"text-align: right;\">\n",
              "      <th></th>\n",
              "      <th>age</th>\n",
              "      <th>sex</th>\n",
              "      <th>cp</th>\n",
              "      <th>trestbps</th>\n",
              "      <th>chol</th>\n",
              "      <th>fbs</th>\n",
              "      <th>restecg</th>\n",
              "      <th>thalach</th>\n",
              "      <th>exang</th>\n",
              "      <th>oldpeak</th>\n",
              "      <th>slope</th>\n",
              "      <th>ca</th>\n",
              "      <th>thal</th>\n",
              "      <th>target</th>\n",
              "    </tr>\n",
              "  </thead>\n",
              "  <tbody>\n",
              "    <tr>\n",
              "      <th>0</th>\n",
              "      <td>63</td>\n",
              "      <td>1</td>\n",
              "      <td>3</td>\n",
              "      <td>145</td>\n",
              "      <td>233</td>\n",
              "      <td>1</td>\n",
              "      <td>0</td>\n",
              "      <td>150</td>\n",
              "      <td>0</td>\n",
              "      <td>2.3</td>\n",
              "      <td>0</td>\n",
              "      <td>0</td>\n",
              "      <td>1</td>\n",
              "      <td>1</td>\n",
              "    </tr>\n",
              "    <tr>\n",
              "      <th>1</th>\n",
              "      <td>37</td>\n",
              "      <td>1</td>\n",
              "      <td>2</td>\n",
              "      <td>130</td>\n",
              "      <td>250</td>\n",
              "      <td>0</td>\n",
              "      <td>1</td>\n",
              "      <td>187</td>\n",
              "      <td>0</td>\n",
              "      <td>3.5</td>\n",
              "      <td>0</td>\n",
              "      <td>0</td>\n",
              "      <td>2</td>\n",
              "      <td>1</td>\n",
              "    </tr>\n",
              "    <tr>\n",
              "      <th>2</th>\n",
              "      <td>41</td>\n",
              "      <td>0</td>\n",
              "      <td>1</td>\n",
              "      <td>130</td>\n",
              "      <td>204</td>\n",
              "      <td>0</td>\n",
              "      <td>0</td>\n",
              "      <td>172</td>\n",
              "      <td>0</td>\n",
              "      <td>1.4</td>\n",
              "      <td>2</td>\n",
              "      <td>0</td>\n",
              "      <td>2</td>\n",
              "      <td>1</td>\n",
              "    </tr>\n",
              "    <tr>\n",
              "      <th>3</th>\n",
              "      <td>56</td>\n",
              "      <td>1</td>\n",
              "      <td>1</td>\n",
              "      <td>120</td>\n",
              "      <td>236</td>\n",
              "      <td>0</td>\n",
              "      <td>1</td>\n",
              "      <td>178</td>\n",
              "      <td>0</td>\n",
              "      <td>0.8</td>\n",
              "      <td>2</td>\n",
              "      <td>0</td>\n",
              "      <td>2</td>\n",
              "      <td>1</td>\n",
              "    </tr>\n",
              "    <tr>\n",
              "      <th>4</th>\n",
              "      <td>57</td>\n",
              "      <td>0</td>\n",
              "      <td>0</td>\n",
              "      <td>120</td>\n",
              "      <td>354</td>\n",
              "      <td>0</td>\n",
              "      <td>1</td>\n",
              "      <td>163</td>\n",
              "      <td>1</td>\n",
              "      <td>0.6</td>\n",
              "      <td>2</td>\n",
              "      <td>0</td>\n",
              "      <td>2</td>\n",
              "      <td>1</td>\n",
              "    </tr>\n",
              "    <tr>\n",
              "      <th>...</th>\n",
              "      <td>...</td>\n",
              "      <td>...</td>\n",
              "      <td>...</td>\n",
              "      <td>...</td>\n",
              "      <td>...</td>\n",
              "      <td>...</td>\n",
              "      <td>...</td>\n",
              "      <td>...</td>\n",
              "      <td>...</td>\n",
              "      <td>...</td>\n",
              "      <td>...</td>\n",
              "      <td>...</td>\n",
              "      <td>...</td>\n",
              "      <td>...</td>\n",
              "    </tr>\n",
              "    <tr>\n",
              "      <th>298</th>\n",
              "      <td>57</td>\n",
              "      <td>0</td>\n",
              "      <td>0</td>\n",
              "      <td>140</td>\n",
              "      <td>241</td>\n",
              "      <td>0</td>\n",
              "      <td>1</td>\n",
              "      <td>123</td>\n",
              "      <td>1</td>\n",
              "      <td>0.2</td>\n",
              "      <td>1</td>\n",
              "      <td>0</td>\n",
              "      <td>3</td>\n",
              "      <td>0</td>\n",
              "    </tr>\n",
              "    <tr>\n",
              "      <th>299</th>\n",
              "      <td>45</td>\n",
              "      <td>1</td>\n",
              "      <td>3</td>\n",
              "      <td>110</td>\n",
              "      <td>264</td>\n",
              "      <td>0</td>\n",
              "      <td>1</td>\n",
              "      <td>132</td>\n",
              "      <td>0</td>\n",
              "      <td>1.2</td>\n",
              "      <td>1</td>\n",
              "      <td>0</td>\n",
              "      <td>3</td>\n",
              "      <td>0</td>\n",
              "    </tr>\n",
              "    <tr>\n",
              "      <th>300</th>\n",
              "      <td>68</td>\n",
              "      <td>1</td>\n",
              "      <td>0</td>\n",
              "      <td>144</td>\n",
              "      <td>193</td>\n",
              "      <td>1</td>\n",
              "      <td>1</td>\n",
              "      <td>141</td>\n",
              "      <td>0</td>\n",
              "      <td>3.4</td>\n",
              "      <td>1</td>\n",
              "      <td>2</td>\n",
              "      <td>3</td>\n",
              "      <td>0</td>\n",
              "    </tr>\n",
              "    <tr>\n",
              "      <th>301</th>\n",
              "      <td>57</td>\n",
              "      <td>1</td>\n",
              "      <td>0</td>\n",
              "      <td>130</td>\n",
              "      <td>131</td>\n",
              "      <td>0</td>\n",
              "      <td>1</td>\n",
              "      <td>115</td>\n",
              "      <td>1</td>\n",
              "      <td>1.2</td>\n",
              "      <td>1</td>\n",
              "      <td>1</td>\n",
              "      <td>3</td>\n",
              "      <td>0</td>\n",
              "    </tr>\n",
              "    <tr>\n",
              "      <th>302</th>\n",
              "      <td>57</td>\n",
              "      <td>0</td>\n",
              "      <td>1</td>\n",
              "      <td>130</td>\n",
              "      <td>236</td>\n",
              "      <td>0</td>\n",
              "      <td>0</td>\n",
              "      <td>174</td>\n",
              "      <td>0</td>\n",
              "      <td>0.0</td>\n",
              "      <td>1</td>\n",
              "      <td>1</td>\n",
              "      <td>2</td>\n",
              "      <td>0</td>\n",
              "    </tr>\n",
              "  </tbody>\n",
              "</table>\n",
              "<p>302 rows × 14 columns</p>\n",
              "</div>"
            ],
            "text/plain": [
              "     age  sex  cp  trestbps  chol  fbs  ...  exang  oldpeak  slope  ca  thal  target\n",
              "0     63    1   3       145   233    1  ...      0      2.3      0   0     1       1\n",
              "1     37    1   2       130   250    0  ...      0      3.5      0   0     2       1\n",
              "2     41    0   1       130   204    0  ...      0      1.4      2   0     2       1\n",
              "3     56    1   1       120   236    0  ...      0      0.8      2   0     2       1\n",
              "4     57    0   0       120   354    0  ...      1      0.6      2   0     2       1\n",
              "..   ...  ...  ..       ...   ...  ...  ...    ...      ...    ...  ..   ...     ...\n",
              "298   57    0   0       140   241    0  ...      1      0.2      1   0     3       0\n",
              "299   45    1   3       110   264    0  ...      0      1.2      1   0     3       0\n",
              "300   68    1   0       144   193    1  ...      0      3.4      1   2     3       0\n",
              "301   57    1   0       130   131    0  ...      1      1.2      1   1     3       0\n",
              "302   57    0   1       130   236    0  ...      0      0.0      1   1     2       0\n",
              "\n",
              "[302 rows x 14 columns]"
            ]
          },
          "metadata": {},
          "execution_count": 6
        }
      ]
    },
    {
      "cell_type": "code",
      "metadata": {
        "colab": {
          "base_uri": "https://localhost:8080/"
        },
        "id": "14iRam7SoVPp",
        "outputId": "e91e853f-d65c-46a4-dd7b-b5939d7d8cc8"
      },
      "source": [
        "data.duplicated().sum()"
      ],
      "execution_count": null,
      "outputs": [
        {
          "output_type": "execute_result",
          "data": {
            "text/plain": [
              "0"
            ]
          },
          "metadata": {},
          "execution_count": 7
        }
      ]
    },
    {
      "cell_type": "markdown",
      "metadata": {
        "id": "grwKDG_Tms1r"
      },
      "source": [
        "###Mengecek Data Unique"
      ]
    },
    {
      "cell_type": "code",
      "metadata": {
        "colab": {
          "base_uri": "https://localhost:8080/"
        },
        "id": "Skb00gXnmr_4",
        "outputId": "f7746ab3-bb4b-4319-af4d-ddfbc9a5371e"
      },
      "source": [
        "data.nunique()"
      ],
      "execution_count": null,
      "outputs": [
        {
          "output_type": "execute_result",
          "data": {
            "text/plain": [
              "age          41\n",
              "sex           2\n",
              "cp            4\n",
              "trestbps     49\n",
              "chol        152\n",
              "fbs           2\n",
              "restecg       3\n",
              "thalach      91\n",
              "exang         2\n",
              "oldpeak      40\n",
              "slope         3\n",
              "ca            5\n",
              "thal          4\n",
              "target        2\n",
              "dtype: int64"
            ]
          },
          "metadata": {},
          "execution_count": 50
        }
      ]
    },
    {
      "cell_type": "markdown",
      "metadata": {
        "id": "a4TGilR7Iaic"
      },
      "source": [
        "### Data Kategorik & Data Numerik (Kontinu)"
      ]
    },
    {
      "cell_type": "code",
      "metadata": {
        "id": "U8bPFxDBAYGl"
      },
      "source": [
        "#Membedakan data yang kategorik dan kontinu\n",
        "categorical_val = []\n",
        "continous_val = []\n",
        "for column in data.columns:\n",
        "    if len(data[column].unique()) <= 10:\n",
        "        categorical_val.append(column)\n",
        "    else:\n",
        "        continous_val.append(column)"
      ],
      "execution_count": null,
      "outputs": []
    },
    {
      "cell_type": "markdown",
      "metadata": {
        "id": "xgT9nnwCRAq5"
      },
      "source": [
        "#### Data Kategorik"
      ]
    },
    {
      "cell_type": "code",
      "metadata": {
        "colab": {
          "base_uri": "https://localhost:8080/"
        },
        "id": "eQGwKx-GAa2t",
        "outputId": "fc727198-4216-49e5-937a-bf8a6ae90ce2"
      },
      "source": [
        "categorical_val"
      ],
      "execution_count": null,
      "outputs": [
        {
          "output_type": "execute_result",
          "data": {
            "text/plain": [
              "['sex', 'cp', 'fbs', 'restecg', 'exang', 'slope', 'ca', 'thal', 'target']"
            ]
          },
          "metadata": {},
          "execution_count": 9
        }
      ]
    },
    {
      "cell_type": "code",
      "metadata": {
        "colab": {
          "base_uri": "https://localhost:8080/",
          "height": 873
        },
        "id": "VfCWPkoO70pb",
        "outputId": "be91693f-f8ea-4d20-91b7-c1f2dc24046f"
      },
      "source": [
        "# Your code goes here\n",
        "fig, ax = plt.subplots(3, 3, figsize=(14, 12))\n",
        "sns.countplot(data=data, x='sex', hue='target',ax=ax[0][0])\n",
        "sns.countplot(data=data, x='cp', hue='target',ax=ax[0][1])\n",
        "sns.countplot(data=data, x='fbs', hue='target',ax=ax[0][2])\n",
        "sns.countplot(data=data, x='restecg', hue='target',ax=ax[1][0])\n",
        "sns.countplot(data=data, x='exang', hue='target',ax=ax[1][1])\n",
        "sns.countplot(data=data, x='slope', hue='target',ax=ax[1][2])\n",
        "sns.countplot(data=data, x='ca', hue='target',ax=ax[2][0])\n",
        "sns.countplot(data=data, x='thal', hue='target',ax=ax[2][1])\n",
        "sns.countplot(data=data, x='target', hue='target',ax=ax[2][2])\n",
        "plt.tight_layout()\n",
        "plt.show()"
      ],
      "execution_count": null,
      "outputs": [
        {
          "output_type": "display_data",
          "data": {
            "image/png": "[encoded data removed]",
            "text/plain": [
              "<Figure size 1008x864 with 9 Axes>"
            ]
          },
          "metadata": {
            "needs_background": "light"
          }
        }
      ]
    },
    {
      "cell_type": "code",
      "metadata": {
        "id": "_kIbw9dnHAeK",
        "colab": {
          "base_uri": "https://localhost:8080/",
          "height": 877
        },
        "outputId": "28068c61-c2ef-4987-a305-694116006854"
      },
      "source": [
        "plt.figure(figsize=(15, 15))\n",
        "\n",
        "for i, column in enumerate(categorical_val, 1):\n",
        "    plt.subplot(3, 3, i)\n",
        "    data[data[\"target\"] == 0][column].hist(bins=35, color='blue', label='Have Heart Disease = NO', alpha=0.6)\n",
        "    data[data[\"target\"] == 1][column].hist(bins=35, color='red', label='Have Heart Disease = YES', alpha=0.6)\n",
        "    plt.legend()\n",
        "    plt.xlabel(column)"
      ],
      "execution_count": null,
      "outputs": [
        {
          "output_type": "display_data",
          "data": {
            "image/png": "[encoded data removed]",
            "text/plain": [
              "<Figure size 1080x1080 with 9 Axes>"
            ]
          },
          "metadata": {
            "needs_background": "light"
          }
        }
      ]
    },
    {
      "cell_type": "markdown",
      "metadata": {
        "id": "A-GZJpACr3cb"
      },
      "source": [
        "**cp** {Chest Pain} \n",
        "* Orang dengan kategori **cp = 1, 2, 3** lebih memiliki kemungkinan untuk terkena penyakit jantung daripada orang dengan **cp = 0**.\n",
        "\n",
        "**restecg** {resting electrocardiographic results}\n",
        "* Orang dengan kategori **restcg = 1** (menandakan detak jantung tidak normal, dan dapat berkisar dari gejala ringan hingga masalah berat) lebih mungkin untuk memiliki penyakit jantung daripada kategori **restcg = 0**.\n",
        "\n",
        "**exang** {exercise induced angina} : \n",
        "* Orang dengan kategori **exang = 0** (exercice induced angina = No) lebih mungkin untuk memiliki penyakit jantung daripada kategori **exang = 1** (exercice induced angina = Yes)\n",
        "\n",
        "**slope** {the slope of the peak exercise ST segment} : .\n",
        "* Orang dengan kategori **slope = 2** (Downslopins: tanda-tanda jantung tidak sehat) lebih mungkin untuk memiliki penyakit jantung daripada kategori **slope = 0** (Upsloping: detak jantung yang lebih baik dengan olahraga) atau **slope = 1** (Flatsloping: detak jantung normal atau tipikal jantung yang sehat))\n",
        "\n",
        "**ca** {number of major vessels (0-3) colored by flourosopy} : \n",
        "* semakin banyak pergerakan darah semakin baik, sehingga orang dengan **ca = 0** lebih mungkin untuk memiliki penyakit jantung daripada kategori **ca = 1-4**\n",
        "\n",
        "**thal** {thalium stress result} : \n",
        "* Orang dengan kategori thal = 2 (fixed defect: dulu terkena tapi sekarang sudah tidak) lebih mungkin untuk memiliki penyakit jantung daripada **thal = 1** atau **thal = 3**"
      ]
    },
    {
      "cell_type": "markdown",
      "metadata": {
        "id": "kQkIrx98RF70"
      },
      "source": [
        "#### Data Numerik (Kontinu)"
      ]
    },
    {
      "cell_type": "code",
      "metadata": {
        "colab": {
          "base_uri": "https://localhost:8080/"
        },
        "id": "NEqsj2PnbTQY",
        "outputId": "7f94c4c8-e751-4405-c151-f8ac33b962c8"
      },
      "source": [
        "continous_val"
      ],
      "execution_count": null,
      "outputs": [
        {
          "output_type": "execute_result",
          "data": {
            "text/plain": [
              "['age', 'trestbps', 'chol', 'thalach', 'oldpeak']"
            ]
          },
          "metadata": {},
          "execution_count": 11
        }
      ]
    },
    {
      "cell_type": "code",
      "metadata": {
        "colab": {
          "base_uri": "https://localhost:8080/",
          "height": 424
        },
        "id": "Gsix5tNL2UVN",
        "outputId": "a6f845ce-f94f-4a74-d109-37bd53f0e59e"
      },
      "source": [
        "data_continous = data.drop(['sex', 'cp', 'fbs', 'restecg', 'exang', 'slope', 'ca', 'thal', 'target'], axis=1)\n",
        "data_continous"
      ],
      "execution_count": null,
      "outputs": [
        {
          "output_type": "execute_result",
          "data": {
            "text/html": [
              "<div>\n",
              "<style scoped>\n",
              "    .dataframe tbody tr th:only-of-type {\n",
              "        vertical-align: middle;\n",
              "    }\n",
              "\n",
              "    .dataframe tbody tr th {\n",
              "        vertical-align: top;\n",
              "    }\n",
              "\n",
              "    .dataframe thead th {\n",
              "        text-align: right;\n",
              "    }\n",
              "</style>\n",
              "<table border=\"1\" class=\"dataframe\">\n",
              "  <thead>\n",
              "    <tr style=\"text-align: right;\">\n",
              "      <th></th>\n",
              "      <th>age</th>\n",
              "      <th>trestbps</th>\n",
              "      <th>chol</th>\n",
              "      <th>thalach</th>\n",
              "      <th>oldpeak</th>\n",
              "    </tr>\n",
              "  </thead>\n",
              "  <tbody>\n",
              "    <tr>\n",
              "      <th>0</th>\n",
              "      <td>63</td>\n",
              "      <td>145</td>\n",
              "      <td>233</td>\n",
              "      <td>150</td>\n",
              "      <td>2.3</td>\n",
              "    </tr>\n",
              "    <tr>\n",
              "      <th>1</th>\n",
              "      <td>37</td>\n",
              "      <td>130</td>\n",
              "      <td>250</td>\n",
              "      <td>187</td>\n",
              "      <td>3.5</td>\n",
              "    </tr>\n",
              "    <tr>\n",
              "      <th>2</th>\n",
              "      <td>41</td>\n",
              "      <td>130</td>\n",
              "      <td>204</td>\n",
              "      <td>172</td>\n",
              "      <td>1.4</td>\n",
              "    </tr>\n",
              "    <tr>\n",
              "      <th>3</th>\n",
              "      <td>56</td>\n",
              "      <td>120</td>\n",
              "      <td>236</td>\n",
              "      <td>178</td>\n",
              "      <td>0.8</td>\n",
              "    </tr>\n",
              "    <tr>\n",
              "      <th>4</th>\n",
              "      <td>57</td>\n",
              "      <td>120</td>\n",
              "      <td>354</td>\n",
              "      <td>163</td>\n",
              "      <td>0.6</td>\n",
              "    </tr>\n",
              "    <tr>\n",
              "      <th>...</th>\n",
              "      <td>...</td>\n",
              "      <td>...</td>\n",
              "      <td>...</td>\n",
              "      <td>...</td>\n",
              "      <td>...</td>\n",
              "    </tr>\n",
              "    <tr>\n",
              "      <th>298</th>\n",
              "      <td>57</td>\n",
              "      <td>140</td>\n",
              "      <td>241</td>\n",
              "      <td>123</td>\n",
              "      <td>0.2</td>\n",
              "    </tr>\n",
              "    <tr>\n",
              "      <th>299</th>\n",
              "      <td>45</td>\n",
              "      <td>110</td>\n",
              "      <td>264</td>\n",
              "      <td>132</td>\n",
              "      <td>1.2</td>\n",
              "    </tr>\n",
              "    <tr>\n",
              "      <th>300</th>\n",
              "      <td>68</td>\n",
              "      <td>144</td>\n",
              "      <td>193</td>\n",
              "      <td>141</td>\n",
              "      <td>3.4</td>\n",
              "    </tr>\n",
              "    <tr>\n",
              "      <th>301</th>\n",
              "      <td>57</td>\n",
              "      <td>130</td>\n",
              "      <td>131</td>\n",
              "      <td>115</td>\n",
              "      <td>1.2</td>\n",
              "    </tr>\n",
              "    <tr>\n",
              "      <th>302</th>\n",
              "      <td>57</td>\n",
              "      <td>130</td>\n",
              "      <td>236</td>\n",
              "      <td>174</td>\n",
              "      <td>0.0</td>\n",
              "    </tr>\n",
              "  </tbody>\n",
              "</table>\n",
              "<p>302 rows × 5 columns</p>\n",
              "</div>"
            ],
            "text/plain": [
              "     age  trestbps  chol  thalach  oldpeak\n",
              "0     63       145   233      150      2.3\n",
              "1     37       130   250      187      3.5\n",
              "2     41       130   204      172      1.4\n",
              "3     56       120   236      178      0.8\n",
              "4     57       120   354      163      0.6\n",
              "..   ...       ...   ...      ...      ...\n",
              "298   57       140   241      123      0.2\n",
              "299   45       110   264      132      1.2\n",
              "300   68       144   193      141      3.4\n",
              "301   57       130   131      115      1.2\n",
              "302   57       130   236      174      0.0\n",
              "\n",
              "[302 rows x 5 columns]"
            ]
          },
          "metadata": {},
          "execution_count": 12
        }
      ]
    },
    {
      "cell_type": "code",
      "metadata": {
        "colab": {
          "base_uri": "https://localhost:8080/",
          "height": 879
        },
        "id": "oiKoxOXMr80h",
        "outputId": "92b923c9-f459-4b84-ac19-46e0038006e8"
      },
      "source": [
        "plt.figure(figsize=(15, 15))\n",
        "\n",
        "for i, column in enumerate(continous_val, 1):\n",
        "    plt.subplot(3, 2, i)\n",
        "    data[data[\"target\"] == 0][column].hist(bins=35, color='blue', label='Have Heart Disease = NO', alpha=0.6)\n",
        "    data[data[\"target\"] == 1][column].hist(bins=35, color='red', label='Have Heart Disease = YES', alpha=0.6)\n",
        "    plt.legend()\n",
        "    plt.xlabel(column)"
      ],
      "execution_count": null,
      "outputs": [
        {
          "output_type": "display_data",
          "data": {
            "image/png": "[encoded data removed]",
            "text/plain": [
              "<Figure size 1080x1080 with 5 Axes>"
            ]
          },
          "metadata": {
            "needs_background": "light"
          }
        }
      ]
    },
    {
      "cell_type": "code",
      "metadata": {
        "colab": {
          "base_uri": "https://localhost:8080/",
          "height": 876
        },
        "id": "6GcHlzafU_jA",
        "outputId": "c4a09243-7d8b-482c-8186-69ea487a51bd"
      },
      "source": [
        "plt.figure(figsize=(15, 15))\n",
        "\n",
        "for i, column in enumerate(continous_val, 1):\n",
        "    plt.subplot(3, 2, i)\n",
        "    data[data[\"target\"] == 0][column].hist(bins=35, color='blue', label='Have Heart Disease = NO', alpha=0.6)\n",
        "    plt.legend()\n",
        "    plt.xlabel(column)"
      ],
      "execution_count": null,
      "outputs": [
        {
          "output_type": "display_data",
          "data": {
            "image/png": "[encoded data removed]",
            "text/plain": [
              "<Figure size 1080x1080 with 5 Axes>"
            ]
          },
          "metadata": {
            "needs_background": "light"
          }
        }
      ]
    },
    {
      "cell_type": "code",
      "metadata": {
        "colab": {
          "base_uri": "https://localhost:8080/",
          "height": 878
        },
        "id": "Fea9pN8nV2cb",
        "outputId": "a55c8191-c1b1-40d5-a6ae-c176e502bdfd"
      },
      "source": [
        "plt.figure(figsize=(15, 15))\n",
        "\n",
        "for i, column in enumerate(continous_val, 1):\n",
        "    plt.subplot(3, 2, i)\n",
        "    data[data[\"target\"] == 1][column].hist(bins=35, color='red', label='Have Heart Disease = YES', alpha=0.6)\n",
        "    plt.legend()\n",
        "    plt.xlabel(column)"
      ],
      "execution_count": null,
      "outputs": [
        {
          "output_type": "display_data",
          "data": {
            "image/png": "[encoded data removed]",
            "text/plain": [
              "<Figure size 1080x1080 with 5 Axes>"
            ]
          },
          "metadata": {
            "needs_background": "light"
          }
        }
      ]
    },
    {
      "cell_type": "markdown",
      "metadata": {
        "id": "BnlulINns3i_"
      },
      "source": [
        "**trestbps** : \n",
        "* resting blood pressure (in mm Hg on admission to the hospital) diatas 100 , terutama di rentang 120-140 berpengaruh terhadap kemungkinan terkena penyakit jantung.\n",
        "\n",
        "**chol** {serum cholestoral in mg/dl} : \n",
        "* diatas 200 menjadi sebuah perhatian dalam kemungkinan terkena penyakit jantung.\n",
        "\n",
        "**thalach** {maximum heart rate achieved} : \n",
        "* Orang dengan maximum heart rate >140 lebih mungkin untuk memiliki penyakit jantung.\n",
        "\n",
        "**oldpeak** :\n",
        "* depresi ST yang disebabkan oleh olahraga terlihat pada tekanan jantung / bagaimana kerja jantung dalam memompa darah dan oksigen selama latihan, maka jantung yang tidak sehat akan lebih tertekan."
      ]
    },
    {
      "cell_type": "code",
      "metadata": {
        "colab": {
          "base_uri": "https://localhost:8080/",
          "height": 539
        },
        "id": "Xvi6_-PwYUsC",
        "outputId": "08f5c58a-c2a1-4df6-978b-3afd03183ef5"
      },
      "source": [
        "#Menampilkan Outlier\n",
        "outlier = ['age', 'trestbps', 'chol', 'thalach', 'oldpeak']\n",
        "plt.figure(figsize = (30,10))\n",
        "\n",
        "for i in enumerate(outlier):\n",
        "  plt.subplot(1,5,i[0]+1)\n",
        "  sns.boxplot(x = i[1], data=data)"
      ],
      "execution_count": null,
      "outputs": [
        {
          "output_type": "display_data",
          "data": {
            "image/png": "[encoded data removed]",
            "text/plain": [
              "<Figure size 2160x720 with 5 Axes>"
            ]
          },
          "metadata": {
            "needs_background": "light"
          }
        }
      ]
    },
    {
      "cell_type": "markdown",
      "metadata": {
        "id": "5BgCJdm-xvzg"
      },
      "source": [
        "Visualisasi **Age vs. Max Heart Rate for Heart Disease**\n",
        "\n"
      ]
    },
    {
      "cell_type": "code",
      "metadata": {
        "colab": {
          "base_uri": "https://localhost:8080/",
          "height": 458
        },
        "id": "G0y82utbxrZ7",
        "outputId": "d16ea1ce-e001-4d2d-ec35-c67b648a2319"
      },
      "source": [
        "plt.figure(figsize=(9, 7))\n",
        "\n",
        "# Scatter dengan target 1 (Mengalami Penyakit Jantung)\n",
        "plt.scatter(data.age[data.target==1],\n",
        "            data.thalach[data.target==1],\n",
        "            c=\"salmon\")\n",
        "\n",
        "# Scatter dengan target 1 (Tidak Mengalami Penyakit Jantung)\n",
        "plt.scatter(data.age[data.target==0],\n",
        "            data.thalach[data.target==0],\n",
        "            c=\"lightblue\")\n",
        "\n",
        "plt.title(\"Heart Disease in function of Age and Max Heart Rate\")\n",
        "plt.xlabel(\"Age\")\n",
        "plt.ylabel(\"Max Heart Rate\")\n",
        "plt.legend([\"Disease\", \"No Disease\"]);"
      ],
      "execution_count": null,
      "outputs": [
        {
          "output_type": "display_data",
          "data": {
            "image/png": "[encoded data removed]",
            "text/plain": [
              "<Figure size 648x504 with 1 Axes>"
            ]
          },
          "metadata": {
            "needs_background": "light"
          }
        }
      ]
    },
    {
      "cell_type": "markdown",
      "metadata": {
        "id": "gbHVtwOiHSBd"
      },
      "source": [
        "Dapat dilihat bahwa penyakit jantung (Heart Disease) banyak diderita oleh orang yang berusia rentang 30-70+ tahun, secara visual dapat dilihat juga bahwa rentang usia 40-60 lebih rentan terkena penyakit jantung disertai dengan max heart rate yang tinggi."
      ]
    },
    {
      "cell_type": "markdown",
      "metadata": {
        "id": "UpFLjqGYekqr"
      },
      "source": [
        "###Correlation Matrix"
      ]
    },
    {
      "cell_type": "code",
      "metadata": {
        "colab": {
          "base_uri": "https://localhost:8080/",
          "height": 613
        },
        "id": "sjMsXN6PekB5",
        "outputId": "454da801-2348-4823-b81c-35fa99cf88ad"
      },
      "source": [
        "corr_matrix = data_continous.corr()\n",
        "fig, ax = plt.subplots(figsize=(10, 10))\n",
        "ax = sns.heatmap(corr_matrix,\n",
        "                 annot=True,\n",
        "                 linewidths=0.5,\n",
        "                 fmt=\".2f\",\n",
        "                 cmap=\"YlGnBu\");\n",
        "bottom, top = ax.get_ylim()\n",
        "ax.set_ylim(bottom + 0.5, top - 0.5)"
      ],
      "execution_count": null,
      "outputs": [
        {
          "output_type": "execute_result",
          "data": {
            "text/plain": [
              "(5.5, -0.5)"
            ]
          },
          "metadata": {},
          "execution_count": 118
        },
        {
          "output_type": "display_data",
          "data": {
            "image/png": "[encoded data removed]",
            "text/plain": [
              "<Figure size 720x720 with 2 Axes>"
            ]
          },
          "metadata": {
            "needs_background": "light"
          }
        }
      ]
    },
    {
      "cell_type": "code",
      "metadata": {
        "colab": {
          "base_uri": "https://localhost:8080/",
          "height": 314
        },
        "id": "ja8bsCbFVXxW",
        "outputId": "13bf429b-627f-4683-d092-9436e10404d1"
      },
      "source": [
        "data.drop(['sex', 'cp', 'fbs', 'restecg', 'exang', 'slope', 'ca', 'thal', 'target'], axis=1).corrwith(data.target).plot(kind='barh',width=0.5)\n",
        "plt.xlabel('Correlation')\n",
        "plt.ylabel('Continous Features');\n",
        "plt.title('Correlation of Continous Features', fontsize=15)"
      ],
      "execution_count": null,
      "outputs": [
        {
          "output_type": "execute_result",
          "data": {
            "text/plain": [
              "Text(0.5, 1.0, 'Correlation of Continous Features')"
            ]
          },
          "metadata": {},
          "execution_count": 119
        },
        {
          "output_type": "display_data",
          "data": {
            "image/png": "[encoded data removed]",
            "text/plain": [
              "<Figure size 432x288 with 1 Axes>"
            ]
          },
          "metadata": {
            "needs_background": "light"
          }
        }
      ]
    },
    {
      "cell_type": "markdown",
      "metadata": {
        "id": "_YSj4C61Yhaq"
      },
      "source": [
        "#Data Prepocessing"
      ]
    },
    {
      "cell_type": "markdown",
      "metadata": {
        "id": "uhDHLbfLIPOR"
      },
      "source": [
        "## Membuat Variabel Dummy"
      ]
    },
    {
      "cell_type": "code",
      "metadata": {
        "id": "gw0p4ldf2m5A"
      },
      "source": [
        "#Convert Categorical Variables into Dummy \n",
        "categorical_val.remove('target')\n",
        "dataset = pd.get_dummies(data, columns = categorical_val)"
      ],
      "execution_count": null,
      "outputs": []
    },
    {
      "cell_type": "code",
      "metadata": {
        "colab": {
          "base_uri": "https://localhost:8080/",
          "height": 226
        },
        "id": "Kl7yH7DL3QQ9",
        "outputId": "53ac5e72-bdf4-48cf-969d-d4e0f35565ae"
      },
      "source": [
        "dataset.head()"
      ],
      "execution_count": null,
      "outputs": [
        {
          "output_type": "execute_result",
          "data": {
            "text/html": [
              "<div>\n",
              "<style scoped>\n",
              "    .dataframe tbody tr th:only-of-type {\n",
              "        vertical-align: middle;\n",
              "    }\n",
              "\n",
              "    .dataframe tbody tr th {\n",
              "        vertical-align: top;\n",
              "    }\n",
              "\n",
              "    .dataframe thead th {\n",
              "        text-align: right;\n",
              "    }\n",
              "</style>\n",
              "<table border=\"1\" class=\"dataframe\">\n",
              "  <thead>\n",
              "    <tr style=\"text-align: right;\">\n",
              "      <th></th>\n",
              "      <th>age</th>\n",
              "      <th>trestbps</th>\n",
              "      <th>chol</th>\n",
              "      <th>thalach</th>\n",
              "      <th>oldpeak</th>\n",
              "      <th>target</th>\n",
              "      <th>sex_0</th>\n",
              "      <th>sex_1</th>\n",
              "      <th>cp_0</th>\n",
              "      <th>cp_1</th>\n",
              "      <th>cp_2</th>\n",
              "      <th>cp_3</th>\n",
              "      <th>fbs_0</th>\n",
              "      <th>fbs_1</th>\n",
              "      <th>restecg_0</th>\n",
              "      <th>restecg_1</th>\n",
              "      <th>restecg_2</th>\n",
              "      <th>exang_0</th>\n",
              "      <th>exang_1</th>\n",
              "      <th>slope_0</th>\n",
              "      <th>slope_1</th>\n",
              "      <th>slope_2</th>\n",
              "      <th>ca_0</th>\n",
              "      <th>ca_1</th>\n",
              "      <th>ca_2</th>\n",
              "      <th>ca_3</th>\n",
              "      <th>ca_4</th>\n",
              "      <th>thal_0</th>\n",
              "      <th>thal_1</th>\n",
              "      <th>thal_2</th>\n",
              "      <th>thal_3</th>\n",
              "    </tr>\n",
              "  </thead>\n",
              "  <tbody>\n",
              "    <tr>\n",
              "      <th>0</th>\n",
              "      <td>63</td>\n",
              "      <td>145</td>\n",
              "      <td>233</td>\n",
              "      <td>150</td>\n",
              "      <td>2.3</td>\n",
              "      <td>1</td>\n",
              "      <td>0</td>\n",
              "      <td>1</td>\n",
              "      <td>0</td>\n",
              "      <td>0</td>\n",
              "      <td>0</td>\n",
              "      <td>1</td>\n",
              "      <td>0</td>\n",
              "      <td>1</td>\n",
              "      <td>1</td>\n",
              "      <td>0</td>\n",
              "      <td>0</td>\n",
              "      <td>1</td>\n",
              "      <td>0</td>\n",
              "      <td>1</td>\n",
              "      <td>0</td>\n",
              "      <td>0</td>\n",
              "      <td>1</td>\n",
              "      <td>0</td>\n",
              "      <td>0</td>\n",
              "      <td>0</td>\n",
              "      <td>0</td>\n",
              "      <td>0</td>\n",
              "      <td>1</td>\n",
              "      <td>0</td>\n",
              "      <td>0</td>\n",
              "    </tr>\n",
              "    <tr>\n",
              "      <th>1</th>\n",
              "      <td>37</td>\n",
              "      <td>130</td>\n",
              "      <td>250</td>\n",
              "      <td>187</td>\n",
              "      <td>3.5</td>\n",
              "      <td>1</td>\n",
              "      <td>0</td>\n",
              "      <td>1</td>\n",
              "      <td>0</td>\n",
              "      <td>0</td>\n",
              "      <td>1</td>\n",
              "      <td>0</td>\n",
              "      <td>1</td>\n",
              "      <td>0</td>\n",
              "      <td>0</td>\n",
              "      <td>1</td>\n",
              "      <td>0</td>\n",
              "      <td>1</td>\n",
              "      <td>0</td>\n",
              "      <td>1</td>\n",
              "      <td>0</td>\n",
              "      <td>0</td>\n",
              "      <td>1</td>\n",
              "      <td>0</td>\n",
              "      <td>0</td>\n",
              "      <td>0</td>\n",
              "      <td>0</td>\n",
              "      <td>0</td>\n",
              "      <td>0</td>\n",
              "      <td>1</td>\n",
              "      <td>0</td>\n",
              "    </tr>\n",
              "    <tr>\n",
              "      <th>2</th>\n",
              "      <td>41</td>\n",
              "      <td>130</td>\n",
              "      <td>204</td>\n",
              "      <td>172</td>\n",
              "      <td>1.4</td>\n",
              "      <td>1</td>\n",
              "      <td>1</td>\n",
              "      <td>0</td>\n",
              "      <td>0</td>\n",
              "      <td>1</td>\n",
              "      <td>0</td>\n",
              "      <td>0</td>\n",
              "      <td>1</td>\n",
              "      <td>0</td>\n",
              "      <td>1</td>\n",
              "      <td>0</td>\n",
              "      <td>0</td>\n",
              "      <td>1</td>\n",
              "      <td>0</td>\n",
              "      <td>0</td>\n",
              "      <td>0</td>\n",
              "      <td>1</td>\n",
              "      <td>1</td>\n",
              "      <td>0</td>\n",
              "      <td>0</td>\n",
              "      <td>0</td>\n",
              "      <td>0</td>\n",
              "      <td>0</td>\n",
              "      <td>0</td>\n",
              "      <td>1</td>\n",
              "      <td>0</td>\n",
              "    </tr>\n",
              "    <tr>\n",
              "      <th>3</th>\n",
              "      <td>56</td>\n",
              "      <td>120</td>\n",
              "      <td>236</td>\n",
              "      <td>178</td>\n",
              "      <td>0.8</td>\n",
              "      <td>1</td>\n",
              "      <td>0</td>\n",
              "      <td>1</td>\n",
              "      <td>0</td>\n",
              "      <td>1</td>\n",
              "      <td>0</td>\n",
              "      <td>0</td>\n",
              "      <td>1</td>\n",
              "      <td>0</td>\n",
              "      <td>0</td>\n",
              "      <td>1</td>\n",
              "      <td>0</td>\n",
              "      <td>1</td>\n",
              "      <td>0</td>\n",
              "      <td>0</td>\n",
              "      <td>0</td>\n",
              "      <td>1</td>\n",
              "      <td>1</td>\n",
              "      <td>0</td>\n",
              "      <td>0</td>\n",
              "      <td>0</td>\n",
              "      <td>0</td>\n",
              "      <td>0</td>\n",
              "      <td>0</td>\n",
              "      <td>1</td>\n",
              "      <td>0</td>\n",
              "    </tr>\n",
              "    <tr>\n",
              "      <th>4</th>\n",
              "      <td>57</td>\n",
              "      <td>120</td>\n",
              "      <td>354</td>\n",
              "      <td>163</td>\n",
              "      <td>0.6</td>\n",
              "      <td>1</td>\n",
              "      <td>1</td>\n",
              "      <td>0</td>\n",
              "      <td>1</td>\n",
              "      <td>0</td>\n",
              "      <td>0</td>\n",
              "      <td>0</td>\n",
              "      <td>1</td>\n",
              "      <td>0</td>\n",
              "      <td>0</td>\n",
              "      <td>1</td>\n",
              "      <td>0</td>\n",
              "      <td>0</td>\n",
              "      <td>1</td>\n",
              "      <td>0</td>\n",
              "      <td>0</td>\n",
              "      <td>1</td>\n",
              "      <td>1</td>\n",
              "      <td>0</td>\n",
              "      <td>0</td>\n",
              "      <td>0</td>\n",
              "      <td>0</td>\n",
              "      <td>0</td>\n",
              "      <td>0</td>\n",
              "      <td>1</td>\n",
              "      <td>0</td>\n",
              "    </tr>\n",
              "  </tbody>\n",
              "</table>\n",
              "</div>"
            ],
            "text/plain": [
              "   age  trestbps  chol  thalach  oldpeak  ...  ca_4  thal_0  thal_1  thal_2  thal_3\n",
              "0   63       145   233      150      2.3  ...     0       0       1       0       0\n",
              "1   37       130   250      187      3.5  ...     0       0       0       1       0\n",
              "2   41       130   204      172      1.4  ...     0       0       0       1       0\n",
              "3   56       120   236      178      0.8  ...     0       0       0       1       0\n",
              "4   57       120   354      163      0.6  ...     0       0       0       1       0\n",
              "\n",
              "[5 rows x 31 columns]"
            ]
          },
          "metadata": {},
          "execution_count": 11
        }
      ]
    },
    {
      "cell_type": "code",
      "metadata": {
        "colab": {
          "base_uri": "https://localhost:8080/"
        },
        "id": "5sWuzmOJ3fOX",
        "outputId": "8aac7e7c-f8d5-4123-d470-b79e81fbc1cd"
      },
      "source": [
        "print(data.columns)\n",
        "print(dataset.columns)"
      ],
      "execution_count": null,
      "outputs": [
        {
          "output_type": "stream",
          "name": "stdout",
          "text": [
            "Index(['age', 'sex', 'cp', 'trestbps', 'chol', 'fbs', 'restecg', 'thalach',\n",
            "       'exang', 'oldpeak', 'slope', 'ca', 'thal', 'target'],\n",
            "      dtype='object')\n",
            "Index(['age', 'trestbps', 'chol', 'thalach', 'oldpeak', 'target', 'sex_0',\n",
            "       'sex_1', 'cp_0', 'cp_1', 'cp_2', 'cp_3', 'fbs_0', 'fbs_1', 'restecg_0',\n",
            "       'restecg_1', 'restecg_2', 'exang_0', 'exang_1', 'slope_0', 'slope_1',\n",
            "       'slope_2', 'ca_0', 'ca_1', 'ca_2', 'ca_3', 'ca_4', 'thal_0', 'thal_1',\n",
            "       'thal_2', 'thal_3'],\n",
            "      dtype='object')\n"
          ]
        }
      ]
    },
    {
      "cell_type": "markdown",
      "metadata": {
        "id": "8AdCUMPrIVJE"
      },
      "source": [
        "## Feature Scaling (StandarScaler)"
      ]
    },
    {
      "cell_type": "code",
      "metadata": {
        "id": "scniu3bz3qAI"
      },
      "source": [
        "from sklearn.preprocessing import StandardScaler\n",
        "\n",
        "s_sc = StandardScaler()\n",
        "col_scaled = ['age', 'trestbps', 'chol', 'thalach', 'oldpeak']\n",
        "dataset[col_scaled] = s_sc.fit_transform(dataset[col_scaled])"
      ],
      "execution_count": null,
      "outputs": []
    },
    {
      "cell_type": "code",
      "metadata": {
        "colab": {
          "base_uri": "https://localhost:8080/",
          "height": 226
        },
        "id": "XNIlLlf84oA7",
        "outputId": "f44b5180-292c-424b-c905-94dbe5593585"
      },
      "source": [
        "dataset.head()"
      ],
      "execution_count": null,
      "outputs": [
        {
          "output_type": "execute_result",
          "data": {
            "text/html": [
              "<div>\n",
              "<style scoped>\n",
              "    .dataframe tbody tr th:only-of-type {\n",
              "        vertical-align: middle;\n",
              "    }\n",
              "\n",
              "    .dataframe tbody tr th {\n",
              "        vertical-align: top;\n",
              "    }\n",
              "\n",
              "    .dataframe thead th {\n",
              "        text-align: right;\n",
              "    }\n",
              "</style>\n",
              "<table border=\"1\" class=\"dataframe\">\n",
              "  <thead>\n",
              "    <tr style=\"text-align: right;\">\n",
              "      <th></th>\n",
              "      <th>age</th>\n",
              "      <th>trestbps</th>\n",
              "      <th>chol</th>\n",
              "      <th>thalach</th>\n",
              "      <th>oldpeak</th>\n",
              "      <th>target</th>\n",
              "      <th>sex_0</th>\n",
              "      <th>sex_1</th>\n",
              "      <th>cp_0</th>\n",
              "      <th>cp_1</th>\n",
              "      <th>cp_2</th>\n",
              "      <th>cp_3</th>\n",
              "      <th>fbs_0</th>\n",
              "      <th>fbs_1</th>\n",
              "      <th>restecg_0</th>\n",
              "      <th>restecg_1</th>\n",
              "      <th>restecg_2</th>\n",
              "      <th>exang_0</th>\n",
              "      <th>exang_1</th>\n",
              "      <th>slope_0</th>\n",
              "      <th>slope_1</th>\n",
              "      <th>slope_2</th>\n",
              "      <th>ca_0</th>\n",
              "      <th>ca_1</th>\n",
              "      <th>ca_2</th>\n",
              "      <th>ca_3</th>\n",
              "      <th>ca_4</th>\n",
              "      <th>thal_0</th>\n",
              "      <th>thal_1</th>\n",
              "      <th>thal_2</th>\n",
              "      <th>thal_3</th>\n",
              "    </tr>\n",
              "  </thead>\n",
              "  <tbody>\n",
              "    <tr>\n",
              "      <th>0</th>\n",
              "      <td>0.949794</td>\n",
              "      <td>0.764066</td>\n",
              "      <td>-0.261285</td>\n",
              "      <td>0.018826</td>\n",
              "      <td>1.084022</td>\n",
              "      <td>1</td>\n",
              "      <td>0</td>\n",
              "      <td>1</td>\n",
              "      <td>0</td>\n",
              "      <td>0</td>\n",
              "      <td>0</td>\n",
              "      <td>1</td>\n",
              "      <td>0</td>\n",
              "      <td>1</td>\n",
              "      <td>1</td>\n",
              "      <td>0</td>\n",
              "      <td>0</td>\n",
              "      <td>1</td>\n",
              "      <td>0</td>\n",
              "      <td>1</td>\n",
              "      <td>0</td>\n",
              "      <td>0</td>\n",
              "      <td>1</td>\n",
              "      <td>0</td>\n",
              "      <td>0</td>\n",
              "      <td>0</td>\n",
              "      <td>0</td>\n",
              "      <td>0</td>\n",
              "      <td>1</td>\n",
              "      <td>0</td>\n",
              "      <td>0</td>\n",
              "    </tr>\n",
              "    <tr>\n",
              "      <th>1</th>\n",
              "      <td>-1.928548</td>\n",
              "      <td>-0.091401</td>\n",
              "      <td>0.067741</td>\n",
              "      <td>1.636979</td>\n",
              "      <td>2.118926</td>\n",
              "      <td>1</td>\n",
              "      <td>0</td>\n",
              "      <td>1</td>\n",
              "      <td>0</td>\n",
              "      <td>0</td>\n",
              "      <td>1</td>\n",
              "      <td>0</td>\n",
              "      <td>1</td>\n",
              "      <td>0</td>\n",
              "      <td>0</td>\n",
              "      <td>1</td>\n",
              "      <td>0</td>\n",
              "      <td>1</td>\n",
              "      <td>0</td>\n",
              "      <td>1</td>\n",
              "      <td>0</td>\n",
              "      <td>0</td>\n",
              "      <td>1</td>\n",
              "      <td>0</td>\n",
              "      <td>0</td>\n",
              "      <td>0</td>\n",
              "      <td>0</td>\n",
              "      <td>0</td>\n",
              "      <td>0</td>\n",
              "      <td>1</td>\n",
              "      <td>0</td>\n",
              "    </tr>\n",
              "    <tr>\n",
              "      <th>2</th>\n",
              "      <td>-1.485726</td>\n",
              "      <td>-0.091401</td>\n",
              "      <td>-0.822564</td>\n",
              "      <td>0.980971</td>\n",
              "      <td>0.307844</td>\n",
              "      <td>1</td>\n",
              "      <td>1</td>\n",
              "      <td>0</td>\n",
              "      <td>0</td>\n",
              "      <td>1</td>\n",
              "      <td>0</td>\n",
              "      <td>0</td>\n",
              "      <td>1</td>\n",
              "      <td>0</td>\n",
              "      <td>1</td>\n",
              "      <td>0</td>\n",
              "      <td>0</td>\n",
              "      <td>1</td>\n",
              "      <td>0</td>\n",
              "      <td>0</td>\n",
              "      <td>0</td>\n",
              "      <td>1</td>\n",
              "      <td>1</td>\n",
              "      <td>0</td>\n",
              "      <td>0</td>\n",
              "      <td>0</td>\n",
              "      <td>0</td>\n",
              "      <td>0</td>\n",
              "      <td>0</td>\n",
              "      <td>1</td>\n",
              "      <td>0</td>\n",
              "    </tr>\n",
              "    <tr>\n",
              "      <th>3</th>\n",
              "      <td>0.174856</td>\n",
              "      <td>-0.661712</td>\n",
              "      <td>-0.203222</td>\n",
              "      <td>1.243374</td>\n",
              "      <td>-0.209608</td>\n",
              "      <td>1</td>\n",
              "      <td>0</td>\n",
              "      <td>1</td>\n",
              "      <td>0</td>\n",
              "      <td>1</td>\n",
              "      <td>0</td>\n",
              "      <td>0</td>\n",
              "      <td>1</td>\n",
              "      <td>0</td>\n",
              "      <td>0</td>\n",
              "      <td>1</td>\n",
              "      <td>0</td>\n",
              "      <td>1</td>\n",
              "      <td>0</td>\n",
              "      <td>0</td>\n",
              "      <td>0</td>\n",
              "      <td>1</td>\n",
              "      <td>1</td>\n",
              "      <td>0</td>\n",
              "      <td>0</td>\n",
              "      <td>0</td>\n",
              "      <td>0</td>\n",
              "      <td>0</td>\n",
              "      <td>0</td>\n",
              "      <td>1</td>\n",
              "      <td>0</td>\n",
              "    </tr>\n",
              "    <tr>\n",
              "      <th>4</th>\n",
              "      <td>0.285561</td>\n",
              "      <td>-0.661712</td>\n",
              "      <td>2.080602</td>\n",
              "      <td>0.587366</td>\n",
              "      <td>-0.382092</td>\n",
              "      <td>1</td>\n",
              "      <td>1</td>\n",
              "      <td>0</td>\n",
              "      <td>1</td>\n",
              "      <td>0</td>\n",
              "      <td>0</td>\n",
              "      <td>0</td>\n",
              "      <td>1</td>\n",
              "      <td>0</td>\n",
              "      <td>0</td>\n",
              "      <td>1</td>\n",
              "      <td>0</td>\n",
              "      <td>0</td>\n",
              "      <td>1</td>\n",
              "      <td>0</td>\n",
              "      <td>0</td>\n",
              "      <td>1</td>\n",
              "      <td>1</td>\n",
              "      <td>0</td>\n",
              "      <td>0</td>\n",
              "      <td>0</td>\n",
              "      <td>0</td>\n",
              "      <td>0</td>\n",
              "      <td>0</td>\n",
              "      <td>1</td>\n",
              "      <td>0</td>\n",
              "    </tr>\n",
              "  </tbody>\n",
              "</table>\n",
              "</div>"
            ],
            "text/plain": [
              "        age  trestbps      chol   thalach  ...  thal_0  thal_1  thal_2  thal_3\n",
              "0  0.949794  0.764066 -0.261285  0.018826  ...       0       1       0       0\n",
              "1 -1.928548 -0.091401  0.067741  1.636979  ...       0       0       1       0\n",
              "2 -1.485726 -0.091401 -0.822564  0.980971  ...       0       0       1       0\n",
              "3  0.174856 -0.661712 -0.203222  1.243374  ...       0       0       1       0\n",
              "4  0.285561 -0.661712  2.080602  0.587366  ...       0       0       1       0\n",
              "\n",
              "[5 rows x 31 columns]"
            ]
          },
          "metadata": {},
          "execution_count": 14
        }
      ]
    },
    {
      "cell_type": "markdown",
      "metadata": {
        "id": "OkAF6RihUSee"
      },
      "source": [
        "## Train-test split"
      ]
    },
    {
      "cell_type": "code",
      "metadata": {
        "colab": {
          "base_uri": "https://localhost:8080/"
        },
        "id": "YlU7AMJzUSef",
        "outputId": "984a8d2c-6feb-4d3f-8216-9c405debc561"
      },
      "source": [
        "from sklearn.model_selection import train_test_split\n",
        "\n",
        "X = dataset.drop('target', axis=1)\n",
        "y = dataset.target\n",
        "\n",
        "X_train, X_test, y_train, y_test = train_test_split(X, y, test_size=0.3, random_state=42)\n",
        "y_train.value_counts()"
      ],
      "execution_count": null,
      "outputs": [
        {
          "output_type": "execute_result",
          "data": {
            "text/plain": [
              "1    115\n",
              "0     96\n",
              "Name: target, dtype: int64"
            ]
          },
          "metadata": {},
          "execution_count": 15
        }
      ]
    },
    {
      "cell_type": "code",
      "metadata": {
        "colab": {
          "base_uri": "https://localhost:8080/"
        },
        "id": "gJb5HweaUSef",
        "outputId": "4fd9e1bc-430e-42f7-8474-e33266ab54b0"
      },
      "source": [
        "X_train.shape"
      ],
      "execution_count": null,
      "outputs": [
        {
          "output_type": "execute_result",
          "data": {
            "text/plain": [
              "(211, 30)"
            ]
          },
          "metadata": {},
          "execution_count": 209
        }
      ]
    },
    {
      "cell_type": "code",
      "metadata": {
        "colab": {
          "base_uri": "https://localhost:8080/"
        },
        "id": "RdkWta_LUSeg",
        "outputId": "b0de8e26-1639-4b30-c9be-9c3563eb2b6e"
      },
      "source": [
        "y_train.shape"
      ],
      "execution_count": null,
      "outputs": [
        {
          "output_type": "execute_result",
          "data": {
            "text/plain": [
              "(211,)"
            ]
          },
          "metadata": {},
          "execution_count": 210
        }
      ]
    },
    {
      "cell_type": "code",
      "metadata": {
        "colab": {
          "base_uri": "https://localhost:8080/"
        },
        "id": "lU9E2sQfUSeh",
        "outputId": "137be9cc-4dc4-461a-8857-0ea677d67a24"
      },
      "source": [
        "X_test.shape"
      ],
      "execution_count": null,
      "outputs": [
        {
          "output_type": "execute_result",
          "data": {
            "text/plain": [
              "(91, 30)"
            ]
          },
          "metadata": {},
          "execution_count": 211
        }
      ]
    },
    {
      "cell_type": "code",
      "metadata": {
        "colab": {
          "base_uri": "https://localhost:8080/"
        },
        "id": "Uxi01mPaUSei",
        "outputId": "968aa199-3a81-4526-db59-1ec5e08a7014"
      },
      "source": [
        "y_test.shape"
      ],
      "execution_count": null,
      "outputs": [
        {
          "output_type": "execute_result",
          "data": {
            "text/plain": [
              "(91,)"
            ]
          },
          "metadata": {},
          "execution_count": 212
        }
      ]
    },
    {
      "cell_type": "markdown",
      "metadata": {
        "id": "SLekb0lNPqQB"
      },
      "source": [
        "##Mengatasi Imbalanced Data"
      ]
    },
    {
      "cell_type": "code",
      "metadata": {
        "colab": {
          "base_uri": "https://localhost:8080/"
        },
        "id": "k0vqrxN3ELfz",
        "outputId": "b245c10c-0d96-4c81-f95e-1e5b72a18093"
      },
      "source": [
        "from imblearn.over_sampling import SMOTE \n",
        "\n",
        "sm = SMOTE()\n",
        "X_train_sm, y_train_sm = sm.fit_resample(X_train, y_train)\n",
        "y_train_sm.value_counts()"
      ],
      "execution_count": null,
      "outputs": [
        {
          "output_type": "execute_result",
          "data": {
            "text/plain": [
              "1    115\n",
              "0    115\n",
              "Name: target, dtype: int64"
            ]
          },
          "metadata": {},
          "execution_count": 16
        }
      ]
    },
    {
      "cell_type": "markdown",
      "metadata": {
        "id": "-AsNTBwmBIEO"
      },
      "source": [
        "#Data Modelling"
      ]
    },
    {
      "cell_type": "markdown",
      "metadata": {
        "id": "ymtMaYg6s9Gq"
      },
      "source": [
        "**Mendefinisikan Program print_score**"
      ]
    },
    {
      "cell_type": "code",
      "metadata": {
        "id": "r8KAQZvshpbr"
      },
      "source": [
        "#Program print_score\n",
        "from sklearn.metrics import accuracy_score, confusion_matrix, classification_report\n",
        "\n",
        "def print_score(clf, X_train, y_train, X_test, y_test, train=True):\n",
        "    if train:\n",
        "        pred = clf.predict(X_train)\n",
        "        clf_report = pd.DataFrame(classification_report(y_train, pred, output_dict=True))\n",
        "        print(\"Train Result:\\n================================================\")\n",
        "        print(f\"Accuracy Score: {accuracy_score(y_train, pred) * 100:.2f}%\")\n",
        "        print(\"_______________________________________________\")\n",
        "        print(f\"CLASSIFICATION REPORT:\\n{clf_report}\")\n",
        "        print(\"_______________________________________________\")\n",
        "        print(f\"Confusion Matrix: \\n {confusion_matrix(y_train, pred)}\\n\")\n",
        "        \n",
        "    elif train==False:\n",
        "        pred = clf.predict(X_test)\n",
        "        clf_report = pd.DataFrame(classification_report(y_test, pred, output_dict=True))\n",
        "        print(\"Test Result:\\n================================================\")        \n",
        "        print(f\"Accuracy Score: {accuracy_score(y_test, pred) * 100:.2f}%\")\n",
        "        print(\"_______________________________________________\")\n",
        "        print(f\"CLASSIFICATION REPORT:\\n{clf_report}\")\n",
        "        print(\"_______________________________________________\")\n",
        "        print(f\"Confusion Matrix: \\n {confusion_matrix(y_test, pred)}\\n\")"
      ],
      "execution_count": null,
      "outputs": []
    },
    {
      "cell_type": "code",
      "metadata": {
        "id": "B0fa1qzu-Bp0"
      },
      "source": [
        "#Program cm_heatmap\n",
        "\n",
        "def cm_heatmap(clf, X_train, y_train, X_test, y_test, train=True):\n",
        "    if train:\n",
        "        pred = clf.predict(X_train)\n",
        "        clf_report = pd.DataFrame(classification_report(y_train, pred, output_dict=True))\n",
        "        cm = confusion_matrix(y_train, pred)\n",
        "        print(f\"Confusion Matrix: \\n {sns.heatmap(cm, annot=True)}\\n\")\n",
        "\n",
        "    elif train==False:\n",
        "        pred = clf.predict(X_test)\n",
        "        clf_report = pd.DataFrame(classification_report(y_test, pred, output_dict=True))\n",
        "        cm = confusion_matrix(y_test, pred)\n",
        "        print(f\"Confusion Matrix: \\n {sns.heatmap(cm, annot=True)}\\n\")"
      ],
      "execution_count": null,
      "outputs": []
    },
    {
      "cell_type": "markdown",
      "metadata": {
        "id": "SEnMOHfEd8Oa"
      },
      "source": [
        "##Tahap 1 (BEFORE SMOTE)"
      ]
    },
    {
      "cell_type": "markdown",
      "metadata": {
        "id": "LOdSvQiWreMx"
      },
      "source": [
        "###Logistic Regression"
      ]
    },
    {
      "cell_type": "code",
      "metadata": {
        "colab": {
          "base_uri": "https://localhost:8080/"
        },
        "id": "_IFoeYLNhc5W",
        "outputId": "7d6080f5-e3de-413e-8bd6-6bb33d7839b8"
      },
      "source": [
        "#Logistic Regression\n",
        "\n",
        "from sklearn.linear_model import LogisticRegression\n",
        "\n",
        "lr_clf = LogisticRegression()\n",
        "lr_clf.fit(X_train, y_train)\n",
        "\n",
        "print_score(lr_clf, X_train, y_train, X_test, y_test, train=True)\n",
        "print_score(lr_clf, X_train, y_train, X_test, y_test, train=False)"
      ],
      "execution_count": null,
      "outputs": [
        {
          "output_type": "stream",
          "name": "stdout",
          "text": [
            "Train Result:\n",
            "================================================\n",
            "Accuracy Score: 85.78%\n",
            "_______________________________________________\n",
            "CLASSIFICATION REPORT:\n",
            "                   0           1  accuracy   macro avg  weighted avg\n",
            "precision   0.866667    0.851240   0.85782    0.858953      0.858259\n",
            "recall      0.812500    0.895652   0.85782    0.854076      0.857820\n",
            "f1-score    0.838710    0.872881   0.85782    0.855796      0.857334\n",
            "support    96.000000  115.000000   0.85782  211.000000    211.000000\n",
            "_______________________________________________\n",
            "Confusion Matrix: \n",
            " [[ 78  18]\n",
            " [ 12 103]]\n",
            "\n",
            "Test Result:\n",
            "================================================\n",
            "Accuracy Score: 86.81%\n",
            "_______________________________________________\n",
            "CLASSIFICATION REPORT:\n",
            "                   0          1  accuracy  macro avg  weighted avg\n",
            "precision   0.840909   0.893617  0.868132   0.867263      0.869290\n",
            "recall      0.880952   0.857143  0.868132   0.869048      0.868132\n",
            "f1-score    0.860465   0.875000  0.868132   0.867733      0.868292\n",
            "support    42.000000  49.000000  0.868132  91.000000     91.000000\n",
            "_______________________________________________\n",
            "Confusion Matrix: \n",
            " [[37  5]\n",
            " [ 7 42]]\n",
            "\n"
          ]
        }
      ]
    },
    {
      "cell_type": "code",
      "metadata": {
        "colab": {
          "base_uri": "https://localhost:8080/",
          "height": 317
        },
        "id": "xOTEv8AJA-WP",
        "outputId": "b42f1d2a-1107-4646-d44c-77e6622247b7"
      },
      "source": [
        "#Confusion Matrix LR (Train)\n",
        "cm_heatmap(lr_clf, X_train, y_train, X_test, y_test, train=True)"
      ],
      "execution_count": null,
      "outputs": [
        {
          "output_type": "stream",
          "name": "stdout",
          "text": [
            "Confusion Matrix: \n",
            " AxesSubplot(0.125,0.125;0.62x0.755)\n",
            "\n"
          ]
        },
        {
          "output_type": "display_data",
          "data": {
            "image/png": "[encoded data removed]",
            "text/plain": [
              "<Figure size 432x288 with 2 Axes>"
            ]
          },
          "metadata": {
            "needs_background": "light"
          }
        }
      ]
    },
    {
      "cell_type": "code",
      "metadata": {
        "colab": {
          "base_uri": "https://localhost:8080/",
          "height": 317
        },
        "id": "1hzhpreZBKw6",
        "outputId": "63f8d80b-575e-4f2d-fa45-a120b42b643b"
      },
      "source": [
        "#Confusion Matrix LR (Test)\n",
        "cm_heatmap(lr_clf, X_train, y_train, X_test, y_test, train=False)"
      ],
      "execution_count": null,
      "outputs": [
        {
          "output_type": "stream",
          "name": "stdout",
          "text": [
            "Confusion Matrix: \n",
            " AxesSubplot(0.125,0.125;0.62x0.755)\n",
            "\n"
          ]
        },
        {
          "output_type": "display_data",
          "data": {
            "image/png": "[encoded data removed]",
            "text/plain": [
              "<Figure size 432x288 with 2 Axes>"
            ]
          },
          "metadata": {
            "needs_background": "light"
          }
        }
      ]
    },
    {
      "cell_type": "code",
      "metadata": {
        "id": "SYrhWka4jxpA"
      },
      "source": [
        "lr_clf = LogisticRegression()\n",
        "lr_clf.fit(X_train, y_train)\n",
        "\n",
        "pred = lr_clf.predict(X_test)\n",
        "lr_clf_report = pd.DataFrame(classification_report(y_test, pred, output_dict=True))\n",
        "\n"
      ],
      "execution_count": null,
      "outputs": []
    },
    {
      "cell_type": "code",
      "metadata": {
        "colab": {
          "base_uri": "https://localhost:8080/"
        },
        "id": "nRej7h0fjO4C",
        "outputId": "c76d6e9b-1f8a-426f-e463-681e44f7c7b3"
      },
      "source": [
        "print(\"Precision:\",metrics.precision_score(y_test, pred))"
      ],
      "execution_count": null,
      "outputs": [
        {
          "output_type": "stream",
          "name": "stdout",
          "text": [
            "Precision: 0.8936170212765957\n"
          ]
        }
      ]
    },
    {
      "cell_type": "code",
      "metadata": {
        "colab": {
          "base_uri": "https://localhost:8080/"
        },
        "id": "P9MyBJO8kGh_",
        "outputId": "ad9fcd2b-6fb6-47a6-dbfb-d11e2e7a15f1"
      },
      "source": [
        "print(\"Precision:\",metrics.recall_score(y_test, pred))"
      ],
      "execution_count": null,
      "outputs": [
        {
          "output_type": "stream",
          "name": "stdout",
          "text": [
            "Precision: 0.8571428571428571\n"
          ]
        }
      ]
    },
    {
      "cell_type": "markdown",
      "metadata": {
        "id": "s2RQy0mztF2U"
      },
      "source": [
        "Summary #1"
      ]
    },
    {
      "cell_type": "code",
      "metadata": {
        "colab": {
          "base_uri": "https://localhost:8080/",
          "height": 81
        },
        "id": "gW-t49AztO0O",
        "outputId": "458ef465-fd02-4b6f-c019-0238593de61e"
      },
      "source": [
        "test_score = (accuracy_score(y_test, lr_clf.predict(X_test))*100).round(2)\n",
        "train_score = (accuracy_score(y_train, lr_clf.predict(X_train))*100).round(2)\n",
        "\n",
        "results_df = pd.DataFrame(data=[[\"Logistic Regression\", train_score, test_score]], \n",
        "                          columns=['Model', 'Training Accuracy %', 'Testing Accuracy %'])\n",
        "results_df"
      ],
      "execution_count": null,
      "outputs": [
        {
          "output_type": "execute_result",
          "data": {
            "text/html": [
              "<div>\n",
              "<style scoped>\n",
              "    .dataframe tbody tr th:only-of-type {\n",
              "        vertical-align: middle;\n",
              "    }\n",
              "\n",
              "    .dataframe tbody tr th {\n",
              "        vertical-align: top;\n",
              "    }\n",
              "\n",
              "    .dataframe thead th {\n",
              "        text-align: right;\n",
              "    }\n",
              "</style>\n",
              "<table border=\"1\" class=\"dataframe\">\n",
              "  <thead>\n",
              "    <tr style=\"text-align: right;\">\n",
              "      <th></th>\n",
              "      <th>Model</th>\n",
              "      <th>Training Accuracy %</th>\n",
              "      <th>Testing Accuracy %</th>\n",
              "    </tr>\n",
              "  </thead>\n",
              "  <tbody>\n",
              "    <tr>\n",
              "      <th>0</th>\n",
              "      <td>Logistic Regression</td>\n",
              "      <td>85.78</td>\n",
              "      <td>86.81</td>\n",
              "    </tr>\n",
              "  </tbody>\n",
              "</table>\n",
              "</div>"
            ],
            "text/plain": [
              "                 Model  Training Accuracy %  Testing Accuracy %\n",
              "0  Logistic Regression                85.78               86.81"
            ]
          },
          "metadata": {},
          "execution_count": 140
        }
      ]
    },
    {
      "cell_type": "markdown",
      "metadata": {
        "id": "PrQ4yT53rip0"
      },
      "source": [
        "###Support Vector Machine (SVM) Classification"
      ]
    },
    {
      "cell_type": "code",
      "metadata": {
        "colab": {
          "base_uri": "https://localhost:8080/"
        },
        "id": "bL35bGunrhYP",
        "outputId": "1d349cf7-a7b6-4182-8cab-891ad25dcd23"
      },
      "source": [
        "#SVM\n",
        "from sklearn.svm import SVC\n",
        "\n",
        "svm_clf = SVC(kernel='rbf', random_state=42, C=1)\n",
        "svm_clf.fit(X_train, y_train)\n",
        "\n",
        "print_score(svm_clf, X_train, y_train, X_test, y_test, train=True)\n",
        "print_score(svm_clf, X_train, y_train, X_test, y_test, train=False)"
      ],
      "execution_count": null,
      "outputs": [
        {
          "output_type": "stream",
          "name": "stdout",
          "text": [
            "Train Result:\n",
            "================================================\n",
            "Accuracy Score: 91.94%\n",
            "_______________________________________________\n",
            "CLASSIFICATION REPORT:\n",
            "                   0           1  accuracy   macro avg  weighted avg\n",
            "precision   0.934066    0.908333  0.919431    0.921200      0.920041\n",
            "recall      0.885417    0.947826  0.919431    0.916621      0.919431\n",
            "f1-score    0.909091    0.927660  0.919431    0.918375      0.919211\n",
            "support    96.000000  115.000000  0.919431  211.000000    211.000000\n",
            "_______________________________________________\n",
            "Confusion Matrix: \n",
            " [[ 85  11]\n",
            " [  6 109]]\n",
            "\n",
            "Test Result:\n",
            "================================================\n",
            "Accuracy Score: 86.81%\n",
            "_______________________________________________\n",
            "CLASSIFICATION REPORT:\n",
            "                   0          1  accuracy  macro avg  weighted avg\n",
            "precision   0.840909   0.893617  0.868132   0.867263      0.869290\n",
            "recall      0.880952   0.857143  0.868132   0.869048      0.868132\n",
            "f1-score    0.860465   0.875000  0.868132   0.867733      0.868292\n",
            "support    42.000000  49.000000  0.868132  91.000000     91.000000\n",
            "_______________________________________________\n",
            "Confusion Matrix: \n",
            " [[37  5]\n",
            " [ 7 42]]\n",
            "\n"
          ]
        }
      ]
    },
    {
      "cell_type": "code",
      "metadata": {
        "colab": {
          "base_uri": "https://localhost:8080/",
          "height": 317
        },
        "id": "smkAVQTF3id4",
        "outputId": "bc0f9e81-c982-49a2-a5ef-63488a49e6af"
      },
      "source": [
        "#Confusion Matrix SVM (Train)\n",
        "cm_heatmap(svm_clf, X_train, y_train, X_test, y_test, train=True)"
      ],
      "execution_count": null,
      "outputs": [
        {
          "output_type": "stream",
          "name": "stdout",
          "text": [
            "Confusion Matrix: \n",
            " AxesSubplot(0.125,0.125;0.62x0.755)\n",
            "\n"
          ]
        },
        {
          "output_type": "display_data",
          "data": {
            "image/png": "[encoded data removed]",
            "text/plain": [
              "<Figure size 432x288 with 2 Axes>"
            ]
          },
          "metadata": {
            "needs_background": "light"
          }
        }
      ]
    },
    {
      "cell_type": "code",
      "metadata": {
        "colab": {
          "base_uri": "https://localhost:8080/",
          "height": 317
        },
        "id": "gj1kRXLtER3l",
        "outputId": "dd95bc19-67c4-493b-dca7-d0289aff6d25"
      },
      "source": [
        "#Confusion Matrix SVM (Test)\n",
        "cm_heatmap(svm_clf, X_train, y_train, X_test, y_test, train=False)"
      ],
      "execution_count": null,
      "outputs": [
        {
          "output_type": "stream",
          "name": "stdout",
          "text": [
            "Confusion Matrix: \n",
            " AxesSubplot(0.125,0.125;0.62x0.755)\n",
            "\n"
          ]
        },
        {
          "output_type": "display_data",
          "data": {
            "image/png": "[encoded data removed]",
            "text/plain": [
              "<Figure size 432x288 with 2 Axes>"
            ]
          },
          "metadata": {
            "needs_background": "light"
          }
        }
      ]
    },
    {
      "cell_type": "markdown",
      "metadata": {
        "id": "ZBbcep99tZct"
      },
      "source": [
        "Summary #2"
      ]
    },
    {
      "cell_type": "code",
      "metadata": {
        "colab": {
          "base_uri": "https://localhost:8080/",
          "height": 112
        },
        "id": "vs4TOwR8tanH",
        "outputId": "1c301288-d9c2-4aea-8586-309b485fc921"
      },
      "source": [
        "test_score = (accuracy_score(y_test, svm_clf.predict(X_test))*100).round(2)\n",
        "train_score = (accuracy_score(y_train, svm_clf.predict(X_train))*100).round(2)\n",
        "\n",
        "results_df_2 = pd.DataFrame(data=[[\"Support Vector Machine\", train_score, test_score]], \n",
        "                          columns=['Model', 'Training Accuracy %', 'Testing Accuracy %'])\n",
        "results_df = results_df.append(results_df_2, ignore_index=True)\n",
        "results_df"
      ],
      "execution_count": null,
      "outputs": [
        {
          "output_type": "execute_result",
          "data": {
            "text/html": [
              "<div>\n",
              "<style scoped>\n",
              "    .dataframe tbody tr th:only-of-type {\n",
              "        vertical-align: middle;\n",
              "    }\n",
              "\n",
              "    .dataframe tbody tr th {\n",
              "        vertical-align: top;\n",
              "    }\n",
              "\n",
              "    .dataframe thead th {\n",
              "        text-align: right;\n",
              "    }\n",
              "</style>\n",
              "<table border=\"1\" class=\"dataframe\">\n",
              "  <thead>\n",
              "    <tr style=\"text-align: right;\">\n",
              "      <th></th>\n",
              "      <th>Model</th>\n",
              "      <th>Training Accuracy %</th>\n",
              "      <th>Testing Accuracy %</th>\n",
              "    </tr>\n",
              "  </thead>\n",
              "  <tbody>\n",
              "    <tr>\n",
              "      <th>0</th>\n",
              "      <td>Logistic Regression</td>\n",
              "      <td>85.78</td>\n",
              "      <td>86.81</td>\n",
              "    </tr>\n",
              "    <tr>\n",
              "      <th>1</th>\n",
              "      <td>Support Vector Machine</td>\n",
              "      <td>91.94</td>\n",
              "      <td>86.81</td>\n",
              "    </tr>\n",
              "  </tbody>\n",
              "</table>\n",
              "</div>"
            ],
            "text/plain": [
              "                    Model  Training Accuracy %  Testing Accuracy %\n",
              "0     Logistic Regression                85.78               86.81\n",
              "1  Support Vector Machine                91.94               86.81"
            ]
          },
          "metadata": {},
          "execution_count": 144
        }
      ]
    },
    {
      "cell_type": "markdown",
      "metadata": {
        "id": "V6j_dB15sXlI"
      },
      "source": [
        "###Decision Tree Classifier"
      ]
    },
    {
      "cell_type": "code",
      "metadata": {
        "colab": {
          "base_uri": "https://localhost:8080/"
        },
        "id": "rIdm1WrRse32",
        "outputId": "87895b2d-3807-420b-de1d-21acfbda92e6"
      },
      "source": [
        "#Decision Tree\n",
        "from sklearn.tree import DecisionTreeClassifier\n",
        "\n",
        "tree_clf = DecisionTreeClassifier(random_state=42)\n",
        "tree_clf.fit(X_train, y_train)\n",
        "\n",
        "print_score(tree_clf, X_train, y_train, X_test, y_test, train=True)\n",
        "print_score(tree_clf, X_train, y_train, X_test, y_test, train=False)"
      ],
      "execution_count": 52,
      "outputs": [
        {
          "output_type": "stream",
          "name": "stdout",
          "text": [
            "Train Result:\n",
            "================================================\n",
            "Accuracy Score: 100.00%\n",
            "_______________________________________________\n",
            "CLASSIFICATION REPORT:\n",
            "              0      1  accuracy  macro avg  weighted avg\n",
            "precision   1.0    1.0       1.0        1.0           1.0\n",
            "recall      1.0    1.0       1.0        1.0           1.0\n",
            "f1-score    1.0    1.0       1.0        1.0           1.0\n",
            "support    96.0  115.0       1.0      211.0         211.0\n",
            "_______________________________________________\n",
            "Confusion Matrix: \n",
            " [[ 96   0]\n",
            " [  0 115]]\n",
            "\n",
            "Test Result:\n",
            "================================================\n",
            "Accuracy Score: 80.22%\n",
            "_______________________________________________\n",
            "CLASSIFICATION REPORT:\n",
            "                   0          1  accuracy  macro avg  weighted avg\n",
            "precision   0.785714   0.816327  0.802198    0.80102      0.802198\n",
            "recall      0.785714   0.816327  0.802198    0.80102      0.802198\n",
            "f1-score    0.785714   0.816327  0.802198    0.80102      0.802198\n",
            "support    42.000000  49.000000  0.802198   91.00000     91.000000\n",
            "_______________________________________________\n",
            "Confusion Matrix: \n",
            " [[33  9]\n",
            " [ 9 40]]\n",
            "\n"
          ]
        }
      ]
    },
    {
      "cell_type": "code",
      "metadata": {
        "colab": {
          "base_uri": "https://localhost:8080/",
          "height": 317
        },
        "id": "WW-_GJvUEsbh",
        "outputId": "0befd717-e574-4aac-e8b2-d574245c1504"
      },
      "source": [
        "#Confusion Matrix DTC (Train)\n",
        "cm_heatmap(tree_clf, X_train, y_train, X_test, y_test, train=True)"
      ],
      "execution_count": null,
      "outputs": [
        {
          "output_type": "stream",
          "name": "stdout",
          "text": [
            "Confusion Matrix: \n",
            " AxesSubplot(0.125,0.125;0.62x0.755)\n",
            "\n"
          ]
        },
        {
          "output_type": "display_data",
          "data": {
            "image/png": "[encoded data removed]",
            "text/plain": [
              "<Figure size 432x288 with 2 Axes>"
            ]
          },
          "metadata": {
            "needs_background": "light"
          }
        }
      ]
    },
    {
      "cell_type": "code",
      "metadata": {
        "colab": {
          "base_uri": "https://localhost:8080/",
          "height": 321
        },
        "id": "GEx3kI3dExpm",
        "outputId": "655bbe93-c955-46ae-e1d2-6f8790295c78"
      },
      "source": [
        "#Confusion Matrix DTC (Test)\n",
        "cm_heatmap(tree_clf, X_train, y_train, X_test, y_test, train=False)"
      ],
      "execution_count": null,
      "outputs": [
        {
          "output_type": "stream",
          "name": "stdout",
          "text": [
            "Confusion Matrix: \n",
            " AxesSubplot(0.125,0.125;0.62x0.755)\n",
            "\n"
          ]
        },
        {
          "output_type": "display_data",
          "data": {
            "image/png": "[encoded data removed]",
            "text/plain": [
              "<Figure size 432x288 with 2 Axes>"
            ]
          },
          "metadata": {
            "needs_background": "light"
          }
        }
      ]
    },
    {
      "cell_type": "markdown",
      "metadata": {
        "id": "DmawUdUQtqih"
      },
      "source": [
        "Summary #3"
      ]
    },
    {
      "cell_type": "code",
      "metadata": {
        "colab": {
          "base_uri": "https://localhost:8080/",
          "height": 143
        },
        "id": "-2w6OROMtse0",
        "outputId": "43820dda-ddf2-47d5-d0e3-e90827af186a"
      },
      "source": [
        "test_score = (accuracy_score(y_test, tree_clf.predict(X_test))*100).round(2)\n",
        "train_score = (accuracy_score(y_train, tree_clf.predict(X_train))*100).round(2)\n",
        "\n",
        "results_df_3 = pd.DataFrame(data=[[\"Decision Tree Classifier\", train_score, test_score]], \n",
        "                          columns=['Model', 'Training Accuracy %', 'Testing Accuracy %'])\n",
        "results_df = results_df.append(results_df_3, ignore_index=True)\n",
        "results_df"
      ],
      "execution_count": null,
      "outputs": [
        {
          "output_type": "execute_result",
          "data": {
            "text/html": [
              "<div>\n",
              "<style scoped>\n",
              "    .dataframe tbody tr th:only-of-type {\n",
              "        vertical-align: middle;\n",
              "    }\n",
              "\n",
              "    .dataframe tbody tr th {\n",
              "        vertical-align: top;\n",
              "    }\n",
              "\n",
              "    .dataframe thead th {\n",
              "        text-align: right;\n",
              "    }\n",
              "</style>\n",
              "<table border=\"1\" class=\"dataframe\">\n",
              "  <thead>\n",
              "    <tr style=\"text-align: right;\">\n",
              "      <th></th>\n",
              "      <th>Model</th>\n",
              "      <th>Training Accuracy %</th>\n",
              "      <th>Testing Accuracy %</th>\n",
              "    </tr>\n",
              "  </thead>\n",
              "  <tbody>\n",
              "    <tr>\n",
              "      <th>0</th>\n",
              "      <td>Logistic Regression</td>\n",
              "      <td>85.78</td>\n",
              "      <td>86.81</td>\n",
              "    </tr>\n",
              "    <tr>\n",
              "      <th>1</th>\n",
              "      <td>Support Vector Machine</td>\n",
              "      <td>91.94</td>\n",
              "      <td>86.81</td>\n",
              "    </tr>\n",
              "    <tr>\n",
              "      <th>2</th>\n",
              "      <td>Decision Tree Classifier</td>\n",
              "      <td>100.00</td>\n",
              "      <td>80.22</td>\n",
              "    </tr>\n",
              "  </tbody>\n",
              "</table>\n",
              "</div>"
            ],
            "text/plain": [
              "                      Model  Training Accuracy %  Testing Accuracy %\n",
              "0       Logistic Regression                85.78               86.81\n",
              "1    Support Vector Machine                91.94               86.81\n",
              "2  Decision Tree Classifier               100.00               80.22"
            ]
          },
          "metadata": {},
          "execution_count": 148
        }
      ]
    },
    {
      "cell_type": "markdown",
      "metadata": {
        "id": "1wogQ6AdeDnO"
      },
      "source": [
        "### Summary #1"
      ]
    },
    {
      "cell_type": "code",
      "metadata": {
        "colab": {
          "base_uri": "https://localhost:8080/",
          "height": 143
        },
        "id": "RjItex20eF_0",
        "outputId": "59eca711-69ec-4e9d-ae45-afa4f5288ab9"
      },
      "source": [
        "results_df"
      ],
      "execution_count": null,
      "outputs": [
        {
          "output_type": "execute_result",
          "data": {
            "text/html": [
              "<div>\n",
              "<style scoped>\n",
              "    .dataframe tbody tr th:only-of-type {\n",
              "        vertical-align: middle;\n",
              "    }\n",
              "\n",
              "    .dataframe tbody tr th {\n",
              "        vertical-align: top;\n",
              "    }\n",
              "\n",
              "    .dataframe thead th {\n",
              "        text-align: right;\n",
              "    }\n",
              "</style>\n",
              "<table border=\"1\" class=\"dataframe\">\n",
              "  <thead>\n",
              "    <tr style=\"text-align: right;\">\n",
              "      <th></th>\n",
              "      <th>Model</th>\n",
              "      <th>Training Accuracy %</th>\n",
              "      <th>Testing Accuracy %</th>\n",
              "    </tr>\n",
              "  </thead>\n",
              "  <tbody>\n",
              "    <tr>\n",
              "      <th>0</th>\n",
              "      <td>Logistic Regression</td>\n",
              "      <td>85.78</td>\n",
              "      <td>86.81</td>\n",
              "    </tr>\n",
              "    <tr>\n",
              "      <th>1</th>\n",
              "      <td>Support Vector Machine</td>\n",
              "      <td>91.94</td>\n",
              "      <td>86.81</td>\n",
              "    </tr>\n",
              "    <tr>\n",
              "      <th>2</th>\n",
              "      <td>Decision Tree Classifier</td>\n",
              "      <td>100.00</td>\n",
              "      <td>80.22</td>\n",
              "    </tr>\n",
              "  </tbody>\n",
              "</table>\n",
              "</div>"
            ],
            "text/plain": [
              "                      Model  Training Accuracy %  Testing Accuracy %\n",
              "0       Logistic Regression                85.78               86.81\n",
              "1    Support Vector Machine                91.94               86.81\n",
              "2  Decision Tree Classifier               100.00               80.22"
            ]
          },
          "metadata": {},
          "execution_count": 149
        }
      ]
    },
    {
      "cell_type": "markdown",
      "metadata": {
        "id": "l7hK9W1DuCbl"
      },
      "source": [
        "##Hyperparameter Tuning (before smote)"
      ]
    },
    {
      "cell_type": "markdown",
      "metadata": {
        "id": "vO6LELM8uHJZ"
      },
      "source": [
        "###Logistic Regression Hyperparameter Tuning"
      ]
    },
    {
      "cell_type": "code",
      "metadata": {
        "colab": {
          "base_uri": "https://localhost:8080/"
        },
        "id": "8pIUsdYquCBJ",
        "outputId": "9da1685b-65e9-4fda-91fe-2ae8485811be"
      },
      "source": [
        "from sklearn.model_selection import GridSearchCV\n",
        "\n",
        "params = {\"C\": np.logspace(-4, 4, 20),\n",
        "          \"solver\": [\"liblinear\"]}\n",
        "\n",
        "lr_clf = LogisticRegression()\n",
        "\n",
        "lr_cv = GridSearchCV(lr_clf, params, scoring=\"accuracy\", n_jobs=-1, verbose=1, cv=3)\n",
        "lr_cv.fit(X_train, y_train)\n",
        "best_params = lr_cv.best_params_\n",
        "print(f\"Best parameters: {best_params}\")\n",
        "lr_clf = LogisticRegression(**best_params)\n",
        "\n",
        "lr_clf.fit(X_train, y_train)\n",
        "\n",
        "print_score(lr_clf, X_train, y_train, X_test, y_test, train=True)\n",
        "print_score(lr_clf, X_train, y_train, X_test, y_test, train=False)"
      ],
      "execution_count": null,
      "outputs": [
        {
          "output_type": "stream",
          "name": "stdout",
          "text": [
            "Fitting 3 folds for each of 20 candidates, totalling 60 fits\n",
            "Best parameters: {'C': 0.23357214690901212, 'solver': 'liblinear'}\n",
            "Train Result:\n",
            "================================================\n",
            "Accuracy Score: 85.31%\n",
            "_______________________________________________\n",
            "CLASSIFICATION REPORT:\n",
            "                   0           1  accuracy   macro avg  weighted avg\n",
            "precision   0.865169    0.844262  0.853081    0.854715      0.853774\n",
            "recall      0.802083    0.895652  0.853081    0.848868      0.853081\n",
            "f1-score    0.832432    0.869198  0.853081    0.850815      0.852471\n",
            "support    96.000000  115.000000  0.853081  211.000000    211.000000\n",
            "_______________________________________________\n",
            "Confusion Matrix: \n",
            " [[ 77  19]\n",
            " [ 12 103]]\n",
            "\n",
            "Test Result:\n",
            "================================================\n",
            "Accuracy Score: 89.01%\n",
            "_______________________________________________\n",
            "CLASSIFICATION REPORT:\n",
            "                   0          1  accuracy  macro avg  weighted avg\n",
            "precision   0.863636   0.914894   0.89011   0.889265      0.891236\n",
            "recall      0.904762   0.877551   0.89011   0.891156      0.890110\n",
            "f1-score    0.883721   0.895833   0.89011   0.889777      0.890243\n",
            "support    42.000000  49.000000   0.89011  91.000000     91.000000\n",
            "_______________________________________________\n",
            "Confusion Matrix: \n",
            " [[38  4]\n",
            " [ 6 43]]\n",
            "\n"
          ]
        }
      ]
    },
    {
      "cell_type": "code",
      "metadata": {
        "colab": {
          "base_uri": "https://localhost:8080/",
          "height": 317
        },
        "id": "VDavlIs7XW1y",
        "outputId": "3794fd02-b3f3-46c2-dd16-ecec4aae6bb6"
      },
      "source": [
        "#Confusion Matrix LR (Train)\n",
        "cm_heatmap(lr_clf, X_train, y_train, X_test, y_test, train=True)"
      ],
      "execution_count": null,
      "outputs": [
        {
          "output_type": "stream",
          "name": "stdout",
          "text": [
            "Confusion Matrix: \n",
            " AxesSubplot(0.125,0.125;0.62x0.755)\n",
            "\n"
          ]
        },
        {
          "output_type": "display_data",
          "data": {
            "image/png": "[encoded data removed]",
            "text/plain": [
              "<Figure size 432x288 with 2 Axes>"
            ]
          },
          "metadata": {
            "needs_background": "light"
          }
        }
      ]
    },
    {
      "cell_type": "code",
      "metadata": {
        "colab": {
          "base_uri": "https://localhost:8080/",
          "height": 317
        },
        "id": "ZAS2TT3EXfc6",
        "outputId": "82305eb5-fcc5-471a-af13-d8180b790446"
      },
      "source": [
        "#Confusion Matrix LR (Test)\n",
        "cm_heatmap(lr_clf, X_train, y_train, X_test, y_test, train=False)"
      ],
      "execution_count": null,
      "outputs": [
        {
          "output_type": "stream",
          "name": "stdout",
          "text": [
            "Confusion Matrix: \n",
            " AxesSubplot(0.125,0.125;0.62x0.755)\n",
            "\n"
          ]
        },
        {
          "output_type": "display_data",
          "data": {
            "image/png": "[encoded data removed]",
            "text/plain": [
              "<Figure size 432x288 with 2 Axes>"
            ]
          },
          "metadata": {
            "needs_background": "light"
          }
        }
      ]
    },
    {
      "cell_type": "markdown",
      "metadata": {
        "id": "PmUIUl48uYo1"
      },
      "source": [
        "Summary of **Logistic Regression** Hyperparameter Tuning"
      ]
    },
    {
      "cell_type": "code",
      "metadata": {
        "colab": {
          "base_uri": "https://localhost:8080/",
          "height": 81
        },
        "id": "pDt1-ZxvucUW",
        "outputId": "49c20398-3ca0-4e8f-d865-b59d51da3e69"
      },
      "source": [
        "test_score = (accuracy_score(y_test, lr_clf.predict(X_test))*100).round(2)\n",
        "train_score = (accuracy_score(y_train, lr_clf.predict(X_train))*100).round(2)\n",
        "\n",
        "tuning_results_df = pd.DataFrame(data=[[\"Tuned Logistic Regression\", train_score, test_score]], \n",
        "                          columns=['Model', 'Training Accuracy %', 'Testing Accuracy %'])\n",
        "tuning_results_df"
      ],
      "execution_count": null,
      "outputs": [
        {
          "output_type": "execute_result",
          "data": {
            "text/html": [
              "<div>\n",
              "<style scoped>\n",
              "    .dataframe tbody tr th:only-of-type {\n",
              "        vertical-align: middle;\n",
              "    }\n",
              "\n",
              "    .dataframe tbody tr th {\n",
              "        vertical-align: top;\n",
              "    }\n",
              "\n",
              "    .dataframe thead th {\n",
              "        text-align: right;\n",
              "    }\n",
              "</style>\n",
              "<table border=\"1\" class=\"dataframe\">\n",
              "  <thead>\n",
              "    <tr style=\"text-align: right;\">\n",
              "      <th></th>\n",
              "      <th>Model</th>\n",
              "      <th>Training Accuracy %</th>\n",
              "      <th>Testing Accuracy %</th>\n",
              "    </tr>\n",
              "  </thead>\n",
              "  <tbody>\n",
              "    <tr>\n",
              "      <th>0</th>\n",
              "      <td>Tuned Logistic Regression</td>\n",
              "      <td>85.31</td>\n",
              "      <td>89.01</td>\n",
              "    </tr>\n",
              "  </tbody>\n",
              "</table>\n",
              "</div>"
            ],
            "text/plain": [
              "                       Model  Training Accuracy %  Testing Accuracy %\n",
              "0  Tuned Logistic Regression                85.31               89.01"
            ]
          },
          "metadata": {},
          "execution_count": 153
        }
      ]
    },
    {
      "cell_type": "markdown",
      "metadata": {
        "id": "-KWfliffuyY5"
      },
      "source": [
        "###Support Vector Machine Hyperparameter Tuning"
      ]
    },
    {
      "cell_type": "code",
      "metadata": {
        "colab": {
          "base_uri": "https://localhost:8080/"
        },
        "id": "TBSBvVplu1Xl",
        "outputId": "922957a4-496c-4786-cffb-e14396fe9242"
      },
      "source": [
        "svm_clf = SVC(kernel='rbf', gamma=0.1, C=1.0)\n",
        "\n",
        "params = {\"C\":(0.1, 0.5, 1, 2, 5, 10, 20), \n",
        "          \"gamma\":(0.001, 0.01, 0.1, 0.25, 0.5, 0.75, 1), \n",
        "          \"kernel\":('linear', 'poly', 'rbf')}\n",
        "\n",
        "svm_cv = GridSearchCV(svm_clf, params, n_jobs=-1, cv=3, verbose=1, scoring=\"accuracy\")\n",
        "svm_cv.fit(X_train, y_train)\n",
        "best_params = svm_cv.best_params_\n",
        "print(f\"Best params: {best_params}\")\n",
        "\n",
        "svm_clf = SVC(**best_params)\n",
        "svm_clf.fit(X_train, y_train)\n",
        "\n",
        "print_score(svm_clf, X_train, y_train, X_test, y_test, train=True)\n",
        "print_score(svm_clf, X_train, y_train, X_test, y_test, train=False)"
      ],
      "execution_count": null,
      "outputs": [
        {
          "output_type": "stream",
          "name": "stdout",
          "text": [
            "Fitting 3 folds for each of 147 candidates, totalling 441 fits\n",
            "Best params: {'C': 1, 'gamma': 0.01, 'kernel': 'rbf'}\n",
            "Train Result:\n",
            "================================================\n",
            "Accuracy Score: 85.78%\n",
            "_______________________________________________\n",
            "CLASSIFICATION REPORT:\n",
            "                   0           1  accuracy   macro avg  weighted avg\n",
            "precision   0.866667    0.851240   0.85782    0.858953      0.858259\n",
            "recall      0.812500    0.895652   0.85782    0.854076      0.857820\n",
            "f1-score    0.838710    0.872881   0.85782    0.855796      0.857334\n",
            "support    96.000000  115.000000   0.85782  211.000000    211.000000\n",
            "_______________________________________________\n",
            "Confusion Matrix: \n",
            " [[ 78  18]\n",
            " [ 12 103]]\n",
            "\n",
            "Test Result:\n",
            "================================================\n",
            "Accuracy Score: 87.91%\n",
            "_______________________________________________\n",
            "CLASSIFICATION REPORT:\n",
            "                   0          1  accuracy  macro avg  weighted avg\n",
            "precision   0.860465   0.895833  0.879121   0.878149      0.879510\n",
            "recall      0.880952   0.877551  0.879121   0.879252      0.879121\n",
            "f1-score    0.870588   0.886598  0.879121   0.878593      0.879209\n",
            "support    42.000000  49.000000  0.879121  91.000000     91.000000\n",
            "_______________________________________________\n",
            "Confusion Matrix: \n",
            " [[37  5]\n",
            " [ 6 43]]\n",
            "\n"
          ]
        }
      ]
    },
    {
      "cell_type": "code",
      "metadata": {
        "colab": {
          "base_uri": "https://localhost:8080/",
          "height": 317
        },
        "id": "7N2d_y7cXnHe",
        "outputId": "3f3cff42-aa3e-498d-bae1-06d6f272ceac"
      },
      "source": [
        "#Confusion Matrix SVM (Train)\n",
        "cm_heatmap(svm_clf, X_train, y_train, X_test, y_test, train=True)"
      ],
      "execution_count": null,
      "outputs": [
        {
          "output_type": "stream",
          "name": "stdout",
          "text": [
            "Confusion Matrix: \n",
            " AxesSubplot(0.125,0.125;0.62x0.755)\n",
            "\n"
          ]
        },
        {
          "output_type": "display_data",
          "data": {
            "image/png": "[encoded data removed]",
            "text/plain": [
              "<Figure size 432x288 with 2 Axes>"
            ]
          },
          "metadata": {
            "needs_background": "light"
          }
        }
      ]
    },
    {
      "cell_type": "code",
      "metadata": {
        "colab": {
          "base_uri": "https://localhost:8080/",
          "height": 317
        },
        "id": "Run6oUHbXp2q",
        "outputId": "7cbd71f4-c859-436e-b9f7-1a3308b3906f"
      },
      "source": [
        "#Confusion Matrix SVM (Test)\n",
        "cm_heatmap(svm_clf, X_train, y_train, X_test, y_test, train=False)"
      ],
      "execution_count": null,
      "outputs": [
        {
          "output_type": "stream",
          "name": "stdout",
          "text": [
            "Confusion Matrix: \n",
            " AxesSubplot(0.125,0.125;0.62x0.755)\n",
            "\n"
          ]
        },
        {
          "output_type": "display_data",
          "data": {
            "image/png": "[encoded data removed]",
            "text/plain": [
              "<Figure size 432x288 with 2 Axes>"
            ]
          },
          "metadata": {
            "needs_background": "light"
          }
        }
      ]
    },
    {
      "cell_type": "markdown",
      "metadata": {
        "id": "p5rch4Yz_Taq"
      },
      "source": [
        "Summary until **Support Vectore Machine** Hyperparameter Tuning"
      ]
    },
    {
      "cell_type": "code",
      "metadata": {
        "id": "Vyzbw1Ay_ThY",
        "colab": {
          "base_uri": "https://localhost:8080/",
          "height": 112
        },
        "outputId": "8cfdf40d-7773-487d-c2db-130eb77d83b7"
      },
      "source": [
        "test_score = (accuracy_score(y_test, svm_clf.predict(X_test))*100).round(2)\n",
        "train_score = (accuracy_score(y_train, svm_clf.predict(X_train))*100).round(2)\n",
        "\n",
        "results_df_2 = pd.DataFrame(data=[[\"Tuned Support Vector Machine\", train_score, test_score]], \n",
        "                          columns=['Model', 'Training Accuracy %', 'Testing Accuracy %'])\n",
        "tuning_results_df = tuning_results_df.append(results_df_2, ignore_index=True)\n",
        "tuning_results_df"
      ],
      "execution_count": null,
      "outputs": [
        {
          "output_type": "execute_result",
          "data": {
            "text/html": [
              "<div>\n",
              "<style scoped>\n",
              "    .dataframe tbody tr th:only-of-type {\n",
              "        vertical-align: middle;\n",
              "    }\n",
              "\n",
              "    .dataframe tbody tr th {\n",
              "        vertical-align: top;\n",
              "    }\n",
              "\n",
              "    .dataframe thead th {\n",
              "        text-align: right;\n",
              "    }\n",
              "</style>\n",
              "<table border=\"1\" class=\"dataframe\">\n",
              "  <thead>\n",
              "    <tr style=\"text-align: right;\">\n",
              "      <th></th>\n",
              "      <th>Model</th>\n",
              "      <th>Training Accuracy %</th>\n",
              "      <th>Testing Accuracy %</th>\n",
              "    </tr>\n",
              "  </thead>\n",
              "  <tbody>\n",
              "    <tr>\n",
              "      <th>0</th>\n",
              "      <td>Tuned Logistic Regression</td>\n",
              "      <td>85.31</td>\n",
              "      <td>89.01</td>\n",
              "    </tr>\n",
              "    <tr>\n",
              "      <th>1</th>\n",
              "      <td>Tuned Support Vector Machine</td>\n",
              "      <td>85.78</td>\n",
              "      <td>87.91</td>\n",
              "    </tr>\n",
              "  </tbody>\n",
              "</table>\n",
              "</div>"
            ],
            "text/plain": [
              "                          Model  Training Accuracy %  Testing Accuracy %\n",
              "0     Tuned Logistic Regression                85.31               89.01\n",
              "1  Tuned Support Vector Machine                85.78               87.91"
            ]
          },
          "metadata": {},
          "execution_count": 157
        }
      ]
    },
    {
      "cell_type": "markdown",
      "metadata": {
        "id": "zeA7OAKHKNP8"
      },
      "source": [
        "###Decision Tree Classifier Hyperparameter Tuning"
      ]
    },
    {
      "cell_type": "code",
      "metadata": {
        "colab": {
          "base_uri": "https://localhost:8080/"
        },
        "id": "yflCzXvoKRtN",
        "outputId": "3a3d0ccb-ee87-469d-e55b-ab44c68f8c7f"
      },
      "source": [
        "params = {\"criterion\":(\"gini\", \"entropy\"), \n",
        "          \"splitter\":(\"best\", \"random\"), \n",
        "          \"max_depth\":(list(range(1, 20))), \n",
        "          \"min_samples_split\":[2, 3, 4], \n",
        "          \"min_samples_leaf\":list(range(1, 20))\n",
        "          }\n",
        "\n",
        "tree_clf = DecisionTreeClassifier(random_state=42)\n",
        "tree_cv = GridSearchCV(tree_clf, params, scoring=\"accuracy\", n_jobs=-1, verbose=1, cv=3)\n",
        "tree_cv.fit(X_train, y_train)\n",
        "best_params = tree_cv.best_params_\n",
        "print(f'Best_params: {best_params}')\n",
        "\n",
        "tree_clf = DecisionTreeClassifier(**best_params)\n",
        "tree_clf.fit(X_train, y_train)\n",
        "\n",
        "print_score(tree_clf, X_train, y_train, X_test, y_test, train=True)\n",
        "print_score(tree_clf, X_train, y_train, X_test, y_test, train=False)"
      ],
      "execution_count": null,
      "outputs": [
        {
          "output_type": "stream",
          "name": "stdout",
          "text": [
            "Fitting 3 folds for each of 4332 candidates, totalling 12996 fits\n",
            "Best_params: {'criterion': 'gini', 'max_depth': 5, 'min_samples_leaf': 7, 'min_samples_split': 2, 'splitter': 'random'}\n",
            "Train Result:\n",
            "================================================\n",
            "Accuracy Score: 85.31%\n",
            "_______________________________________________\n",
            "CLASSIFICATION REPORT:\n",
            "                   0           1  accuracy   macro avg  weighted avg\n",
            "precision   0.835052    0.868421  0.853081    0.851736      0.853239\n",
            "recall      0.843750    0.860870  0.853081    0.852310      0.853081\n",
            "f1-score    0.839378    0.864629  0.853081    0.852004      0.853140\n",
            "support    96.000000  115.000000  0.853081  211.000000    211.000000\n",
            "_______________________________________________\n",
            "Confusion Matrix: \n",
            " [[81 15]\n",
            " [16 99]]\n",
            "\n",
            "Test Result:\n",
            "================================================\n",
            "Accuracy Score: 76.92%\n",
            "_______________________________________________\n",
            "CLASSIFICATION REPORT:\n",
            "                   0          1  accuracy  macro avg  weighted avg\n",
            "precision   0.714286   0.833333  0.769231   0.773810      0.778388\n",
            "recall      0.833333   0.714286  0.769231   0.773810      0.769231\n",
            "f1-score    0.769231   0.769231  0.769231   0.769231      0.769231\n",
            "support    42.000000  49.000000  0.769231  91.000000     91.000000\n",
            "_______________________________________________\n",
            "Confusion Matrix: \n",
            " [[35  7]\n",
            " [14 35]]\n",
            "\n"
          ]
        }
      ]
    },
    {
      "cell_type": "code",
      "metadata": {
        "colab": {
          "base_uri": "https://localhost:8080/",
          "height": 317
        },
        "id": "XHw3Msk2Xv2J",
        "outputId": "d6b68878-b0e3-45d9-99e8-f18caaf355ae"
      },
      "source": [
        "#Confusion Matrix DTC (Train)\n",
        "cm_heatmap(tree_clf, X_train, y_train, X_test, y_test, train=True)"
      ],
      "execution_count": null,
      "outputs": [
        {
          "output_type": "stream",
          "name": "stdout",
          "text": [
            "Confusion Matrix: \n",
            " AxesSubplot(0.125,0.125;0.62x0.755)\n",
            "\n"
          ]
        },
        {
          "output_type": "display_data",
          "data": {
            "image/png": "[encoded data removed]",
            "text/plain": [
              "<Figure size 432x288 with 2 Axes>"
            ]
          },
          "metadata": {
            "needs_background": "light"
          }
        }
      ]
    },
    {
      "cell_type": "code",
      "metadata": {
        "colab": {
          "base_uri": "https://localhost:8080/",
          "height": 321
        },
        "id": "jkVHxNqhXzPu",
        "outputId": "15aac9dd-b56a-45d9-b328-51dcc6f18205"
      },
      "source": [
        "#Confusion Matrix DTC (Test)\n",
        "cm_heatmap(tree_clf, X_train, y_train, X_test, y_test, train=False)"
      ],
      "execution_count": null,
      "outputs": [
        {
          "output_type": "stream",
          "name": "stdout",
          "text": [
            "Confusion Matrix: \n",
            " AxesSubplot(0.125,0.125;0.62x0.755)\n",
            "\n"
          ]
        },
        {
          "output_type": "display_data",
          "data": {
            "image/png": "[encoded data removed]",
            "text/plain": [
              "<Figure size 432x288 with 2 Axes>"
            ]
          },
          "metadata": {
            "needs_background": "light"
          }
        }
      ]
    },
    {
      "cell_type": "markdown",
      "metadata": {
        "id": "9JxU-_3lK_OL"
      },
      "source": [
        "Summary until **Decision Tree Classifier** Hyperparameter Tuning"
      ]
    },
    {
      "cell_type": "code",
      "metadata": {
        "colab": {
          "base_uri": "https://localhost:8080/",
          "height": 143
        },
        "id": "7doFU4T_L3Mk",
        "outputId": "13da8990-5365-4b3b-ef0d-e7b2ebe1e19d"
      },
      "source": [
        "test_score = (accuracy_score(y_test, tree_clf.predict(X_test))*100).round(2)\n",
        "train_score = (accuracy_score(y_train, tree_clf.predict(X_train))*100).round(2)\n",
        "\n",
        "results_df_3 = pd.DataFrame(data=[[\"Tuned Decision Tree Classifier\", train_score, test_score]], \n",
        "                          columns=['Model', 'Training Accuracy %', 'Testing Accuracy %'])\n",
        "tuning_results_df = tuning_results_df.append(results_df_3, ignore_index=True)\n",
        "tuning_results_df"
      ],
      "execution_count": null,
      "outputs": [
        {
          "output_type": "execute_result",
          "data": {
            "text/html": [
              "<div>\n",
              "<style scoped>\n",
              "    .dataframe tbody tr th:only-of-type {\n",
              "        vertical-align: middle;\n",
              "    }\n",
              "\n",
              "    .dataframe tbody tr th {\n",
              "        vertical-align: top;\n",
              "    }\n",
              "\n",
              "    .dataframe thead th {\n",
              "        text-align: right;\n",
              "    }\n",
              "</style>\n",
              "<table border=\"1\" class=\"dataframe\">\n",
              "  <thead>\n",
              "    <tr style=\"text-align: right;\">\n",
              "      <th></th>\n",
              "      <th>Model</th>\n",
              "      <th>Training Accuracy %</th>\n",
              "      <th>Testing Accuracy %</th>\n",
              "    </tr>\n",
              "  </thead>\n",
              "  <tbody>\n",
              "    <tr>\n",
              "      <th>0</th>\n",
              "      <td>Tuned Logistic Regression</td>\n",
              "      <td>85.31</td>\n",
              "      <td>89.01</td>\n",
              "    </tr>\n",
              "    <tr>\n",
              "      <th>1</th>\n",
              "      <td>Tuned Support Vector Machine</td>\n",
              "      <td>85.78</td>\n",
              "      <td>87.91</td>\n",
              "    </tr>\n",
              "    <tr>\n",
              "      <th>2</th>\n",
              "      <td>Tuned Decision Tree Classifier</td>\n",
              "      <td>85.31</td>\n",
              "      <td>76.92</td>\n",
              "    </tr>\n",
              "  </tbody>\n",
              "</table>\n",
              "</div>"
            ],
            "text/plain": [
              "                            Model  Training Accuracy %  Testing Accuracy %\n",
              "0       Tuned Logistic Regression                85.31               89.01\n",
              "1    Tuned Support Vector Machine                85.78               87.91\n",
              "2  Tuned Decision Tree Classifier                85.31               76.92"
            ]
          },
          "metadata": {},
          "execution_count": 161
        }
      ]
    },
    {
      "cell_type": "markdown",
      "metadata": {
        "id": "0isc3dIlsxBC"
      },
      "source": [
        "##Summary"
      ]
    },
    {
      "cell_type": "code",
      "metadata": {
        "colab": {
          "base_uri": "https://localhost:8080/",
          "height": 143
        },
        "id": "EQUXbOc_syAF",
        "outputId": "33583ce4-4e0e-48f3-9923-afdf213e654f"
      },
      "source": [
        "results_df"
      ],
      "execution_count": null,
      "outputs": [
        {
          "output_type": "execute_result",
          "data": {
            "text/html": [
              "<div>\n",
              "<style scoped>\n",
              "    .dataframe tbody tr th:only-of-type {\n",
              "        vertical-align: middle;\n",
              "    }\n",
              "\n",
              "    .dataframe tbody tr th {\n",
              "        vertical-align: top;\n",
              "    }\n",
              "\n",
              "    .dataframe thead th {\n",
              "        text-align: right;\n",
              "    }\n",
              "</style>\n",
              "<table border=\"1\" class=\"dataframe\">\n",
              "  <thead>\n",
              "    <tr style=\"text-align: right;\">\n",
              "      <th></th>\n",
              "      <th>Model</th>\n",
              "      <th>Training Accuracy %</th>\n",
              "      <th>Testing Accuracy %</th>\n",
              "    </tr>\n",
              "  </thead>\n",
              "  <tbody>\n",
              "    <tr>\n",
              "      <th>0</th>\n",
              "      <td>Logistic Regression</td>\n",
              "      <td>85.78</td>\n",
              "      <td>86.81</td>\n",
              "    </tr>\n",
              "    <tr>\n",
              "      <th>1</th>\n",
              "      <td>Support Vector Machine</td>\n",
              "      <td>91.94</td>\n",
              "      <td>86.81</td>\n",
              "    </tr>\n",
              "    <tr>\n",
              "      <th>2</th>\n",
              "      <td>Decision Tree Classifier</td>\n",
              "      <td>100.00</td>\n",
              "      <td>80.22</td>\n",
              "    </tr>\n",
              "  </tbody>\n",
              "</table>\n",
              "</div>"
            ],
            "text/plain": [
              "                      Model  Training Accuracy %  Testing Accuracy %\n",
              "0       Logistic Regression                85.78               86.81\n",
              "1    Support Vector Machine                91.94               86.81\n",
              "2  Decision Tree Classifier               100.00               80.22"
            ]
          },
          "metadata": {},
          "execution_count": 162
        }
      ]
    },
    {
      "cell_type": "code",
      "metadata": {
        "colab": {
          "base_uri": "https://localhost:8080/",
          "height": 143
        },
        "id": "YU3D-fYjMBHa",
        "outputId": "b1a0b463-561f-47ac-dbbd-6cef4c88e4aa"
      },
      "source": [
        "tuning_results_df"
      ],
      "execution_count": null,
      "outputs": [
        {
          "output_type": "execute_result",
          "data": {
            "text/html": [
              "<div>\n",
              "<style scoped>\n",
              "    .dataframe tbody tr th:only-of-type {\n",
              "        vertical-align: middle;\n",
              "    }\n",
              "\n",
              "    .dataframe tbody tr th {\n",
              "        vertical-align: top;\n",
              "    }\n",
              "\n",
              "    .dataframe thead th {\n",
              "        text-align: right;\n",
              "    }\n",
              "</style>\n",
              "<table border=\"1\" class=\"dataframe\">\n",
              "  <thead>\n",
              "    <tr style=\"text-align: right;\">\n",
              "      <th></th>\n",
              "      <th>Model</th>\n",
              "      <th>Training Accuracy %</th>\n",
              "      <th>Testing Accuracy %</th>\n",
              "    </tr>\n",
              "  </thead>\n",
              "  <tbody>\n",
              "    <tr>\n",
              "      <th>0</th>\n",
              "      <td>Tuned Logistic Regression</td>\n",
              "      <td>85.31</td>\n",
              "      <td>89.01</td>\n",
              "    </tr>\n",
              "    <tr>\n",
              "      <th>1</th>\n",
              "      <td>Tuned Support Vector Machine</td>\n",
              "      <td>85.78</td>\n",
              "      <td>87.91</td>\n",
              "    </tr>\n",
              "    <tr>\n",
              "      <th>2</th>\n",
              "      <td>Tuned Decision Tree Classifier</td>\n",
              "      <td>85.31</td>\n",
              "      <td>76.92</td>\n",
              "    </tr>\n",
              "  </tbody>\n",
              "</table>\n",
              "</div>"
            ],
            "text/plain": [
              "                            Model  Training Accuracy %  Testing Accuracy %\n",
              "0       Tuned Logistic Regression                85.31               89.01\n",
              "1    Tuned Support Vector Machine                85.78               87.91\n",
              "2  Tuned Decision Tree Classifier                85.31               76.92"
            ]
          },
          "metadata": {},
          "execution_count": 163
        }
      ]
    },
    {
      "cell_type": "markdown",
      "metadata": {
        "id": "oJQAJm7Cyait"
      },
      "source": [
        "Berdasarkan analisis yang telah dilakukan, didapatkan accuracy_score jika dibandingkan setelah dilakukan hyperparameter tuning, nilai accuracy_score mengalami penurunan dan \n",
        "\n",
        "di contoh ini kebetulan kalo pake PCA accuracy nya justru turun, karena jumlah fitur awalnya masih sedikit. tapi ketika jumlah fiturnya cukup banyak, dan ada noise, biasanya pake PCA akan membantu meningkatkan akurasi. setidaknya kita sudah belajar bagaimana cara mengaplikasikan PCA dalam modelling"
      ]
    },
    {
      "cell_type": "markdown",
      "metadata": {
        "id": "u9Nq23QNaCPt"
      },
      "source": [
        "##Tahap 2 (AFTER SMOTE)"
      ]
    },
    {
      "cell_type": "code",
      "metadata": {
        "id": "3_PO4IhYaSgG"
      },
      "source": [
        "#Program print_score\n",
        "from sklearn.metrics import accuracy_score, confusion_matrix, classification_report\n",
        "\n",
        "def print_score_sm(clf, X_train_sm, y_train_sm, X_test, y_test, train=True):\n",
        "    if train:\n",
        "        pred = clf.predict(X_train_sm)\n",
        "        clf_report = pd.DataFrame(classification_report(y_train_sm, pred, output_dict=True))\n",
        "        print(\"Train Result:\\n================================================\")\n",
        "        print(f\"Accuracy Score: {accuracy_score(y_train_sm, pred) * 100:.2f}%\")\n",
        "        print(\"_______________________________________________\")\n",
        "        print(f\"CLASSIFICATION REPORT:\\n{clf_report}\")\n",
        "        print(\"_______________________________________________\")\n",
        "        print(f\"Confusion Matrix: \\n {confusion_matrix(y_train_sm, pred)}\\n\")\n",
        "        \n",
        "    elif train==False:\n",
        "        pred = clf.predict(X_test)\n",
        "        clf_report = pd.DataFrame(classification_report(y_test, pred, output_dict=True))\n",
        "        print(\"Test Result:\\n================================================\")        \n",
        "        print(f\"Accuracy Score: {accuracy_score(y_test, pred) * 100:.2f}%\")\n",
        "        print(\"_______________________________________________\")\n",
        "        print(f\"CLASSIFICATION REPORT:\\n{clf_report}\")\n",
        "        print(\"_______________________________________________\")\n",
        "        print(f\"Confusion Matrix: \\n {confusion_matrix(y_test, pred)}\\n\")"
      ],
      "execution_count": null,
      "outputs": []
    },
    {
      "cell_type": "code",
      "metadata": {
        "id": "Qw2ulHCPbDs8"
      },
      "source": [
        "#Program cm_heatmap_sm\n",
        "\n",
        "def cm_heatmap_sm(clf, X_train_sm, y_train_sm, X_test, y_test, train=True):\n",
        "    if train:\n",
        "        pred = clf.predict(X_train_sm)\n",
        "        clf_report = pd.DataFrame(classification_report(y_train_sm, pred, output_dict=True))\n",
        "        cm = confusion_matrix(y_train_sm, pred)\n",
        "        print(f\"Confusion Matrix: \\n {sns.heatmap(cm, annot=True)}\\n\")\n",
        "\n",
        "    elif train==False:\n",
        "        pred = clf.predict(X_test)\n",
        "        clf_report = pd.DataFrame(classification_report(y_test, pred, output_dict=True))\n",
        "        cm = confusion_matrix(y_test, pred)\n",
        "        print(f\"Confusion Matrix: \\n {sns.heatmap(cm, annot=True)}\\n\")"
      ],
      "execution_count": null,
      "outputs": []
    },
    {
      "cell_type": "markdown",
      "metadata": {
        "id": "I4UFCvHkdo3z"
      },
      "source": [
        "###Logistic Regression"
      ]
    },
    {
      "cell_type": "code",
      "metadata": {
        "colab": {
          "base_uri": "https://localhost:8080/"
        },
        "id": "Z7X5GI98dmfg",
        "outputId": "fae6d733-c270-4e37-b626-98501de7ea82"
      },
      "source": [
        "#Logistic Regression\n",
        "\n",
        "from sklearn.linear_model import LogisticRegression\n",
        "\n",
        "lr_clf = LogisticRegression()\n",
        "lr_clf.fit(X_train_sm, y_train_sm)\n",
        "\n",
        "print_score_sm(lr_clf, X_train_sm, y_train_sm, X_test, y_test, train=True)\n",
        "print_score_sm(lr_clf, X_train_sm, y_train_sm, X_test, y_test, train=False)"
      ],
      "execution_count": null,
      "outputs": [
        {
          "output_type": "stream",
          "name": "stdout",
          "text": [
            "Train Result:\n",
            "================================================\n",
            "Accuracy Score: 85.65%\n",
            "_______________________________________________\n",
            "CLASSIFICATION REPORT:\n",
            "                    0           1  accuracy   macro avg  weighted avg\n",
            "precision    0.872727    0.841667  0.856522    0.857197      0.857197\n",
            "recall       0.834783    0.878261  0.856522    0.856522      0.856522\n",
            "f1-score     0.853333    0.859574  0.856522    0.856454      0.856454\n",
            "support    115.000000  115.000000  0.856522  230.000000    230.000000\n",
            "_______________________________________________\n",
            "Confusion Matrix: \n",
            " [[ 96  19]\n",
            " [ 14 101]]\n",
            "\n",
            "Test Result:\n",
            "================================================\n",
            "Accuracy Score: 87.91%\n",
            "_______________________________________________\n",
            "CLASSIFICATION REPORT:\n",
            "                   0          1  accuracy  macro avg  weighted avg\n",
            "precision   0.844444   0.913043  0.879121   0.878744      0.881382\n",
            "recall      0.904762   0.857143  0.879121   0.880952      0.879121\n",
            "f1-score    0.873563   0.884211  0.879121   0.878887      0.879296\n",
            "support    42.000000  49.000000  0.879121  91.000000     91.000000\n",
            "_______________________________________________\n",
            "Confusion Matrix: \n",
            " [[38  4]\n",
            " [ 7 42]]\n",
            "\n"
          ]
        }
      ]
    },
    {
      "cell_type": "code",
      "metadata": {
        "colab": {
          "base_uri": "https://localhost:8080/",
          "height": 317
        },
        "id": "_BdK1FPb-KHi",
        "outputId": "45cf952b-eee7-46d6-8b94-d495fd5618e9"
      },
      "source": [
        "#Confusion Matrix LR (Train)\n",
        "cm_heatmap_sm(lr_clf, X_train_sm, y_train_sm, X_test, y_test, train=True)"
      ],
      "execution_count": null,
      "outputs": [
        {
          "output_type": "stream",
          "name": "stdout",
          "text": [
            "Confusion Matrix: \n",
            " AxesSubplot(0.125,0.125;0.62x0.755)\n",
            "\n"
          ]
        },
        {
          "output_type": "display_data",
          "data": {
            "image/png": "[encoded data removed]",
            "text/plain": [
              "<Figure size 432x288 with 2 Axes>"
            ]
          },
          "metadata": {
            "needs_background": "light"
          }
        }
      ]
    },
    {
      "cell_type": "code",
      "metadata": {
        "colab": {
          "base_uri": "https://localhost:8080/",
          "height": 317
        },
        "id": "HY407ahL-N_8",
        "outputId": "98f131b9-a2ed-4a21-987f-09d58bfff15a"
      },
      "source": [
        "#Confusion Matrix LR (Test)\n",
        "cm_heatmap_sm(lr_clf, X_train_sm, y_train_sm, X_test, y_test, train=False)"
      ],
      "execution_count": null,
      "outputs": [
        {
          "output_type": "stream",
          "name": "stdout",
          "text": [
            "Confusion Matrix: \n",
            " AxesSubplot(0.125,0.125;0.62x0.755)\n",
            "\n"
          ]
        },
        {
          "output_type": "display_data",
          "data": {
            "image/png": "[encoded data removed]",
            "text/plain": [
              "<Figure size 432x288 with 2 Axes>"
            ]
          },
          "metadata": {
            "needs_background": "light"
          }
        }
      ]
    },
    {
      "cell_type": "code",
      "metadata": {
        "colab": {
          "base_uri": "https://localhost:8080/",
          "height": 81
        },
        "id": "WYekOIg3-Wro",
        "outputId": "3c96dbc6-0eec-484a-89be-1568797d457a"
      },
      "source": [
        "#Summary 1\n",
        "test_score = (accuracy_score(y_test, lr_clf.predict(X_test))*100).round(2)\n",
        "train_score = (accuracy_score(y_train_sm, lr_clf.predict(X_train_sm))*100).round(2)\n",
        "\n",
        "results_df_sm = pd.DataFrame(data=[[\"Logistic Regression (SMOTE)\", train_score, test_score]], \n",
        "                          columns=['Model', 'Training Accuracy %', 'Testing Accuracy %'])\n",
        "results_df_sm"
      ],
      "execution_count": null,
      "outputs": [
        {
          "output_type": "execute_result",
          "data": {
            "text/html": [
              "<div>\n",
              "<style scoped>\n",
              "    .dataframe tbody tr th:only-of-type {\n",
              "        vertical-align: middle;\n",
              "    }\n",
              "\n",
              "    .dataframe tbody tr th {\n",
              "        vertical-align: top;\n",
              "    }\n",
              "\n",
              "    .dataframe thead th {\n",
              "        text-align: right;\n",
              "    }\n",
              "</style>\n",
              "<table border=\"1\" class=\"dataframe\">\n",
              "  <thead>\n",
              "    <tr style=\"text-align: right;\">\n",
              "      <th></th>\n",
              "      <th>Model</th>\n",
              "      <th>Training Accuracy %</th>\n",
              "      <th>Testing Accuracy %</th>\n",
              "    </tr>\n",
              "  </thead>\n",
              "  <tbody>\n",
              "    <tr>\n",
              "      <th>0</th>\n",
              "      <td>Logistic Regression (SMOTE)</td>\n",
              "      <td>86.09</td>\n",
              "      <td>87.91</td>\n",
              "    </tr>\n",
              "  </tbody>\n",
              "</table>\n",
              "</div>"
            ],
            "text/plain": [
              "                         Model  Training Accuracy %  Testing Accuracy %\n",
              "0  Logistic Regression (SMOTE)                86.09               87.91"
            ]
          },
          "metadata": {},
          "execution_count": 274
        }
      ]
    },
    {
      "cell_type": "markdown",
      "metadata": {
        "id": "jieyC0zeev4i"
      },
      "source": [
        "###Support Vector Machine (SVM) Classification"
      ]
    },
    {
      "cell_type": "code",
      "metadata": {
        "colab": {
          "base_uri": "https://localhost:8080/"
        },
        "id": "QHq_aKh1ev4i",
        "outputId": "05348984-5ec2-4e9d-c116-8dcf30550666"
      },
      "source": [
        "#SVM\n",
        "from sklearn.svm import SVC\n",
        "\n",
        "svm_clf = SVC(kernel='rbf', random_state=42, C=1)\n",
        "svm_clf.fit(X_train_sm, y_train_sm)\n",
        "\n",
        "print_score_sm(svm_clf, X_train_sm, y_train_sm, X_test, y_test, train=True)\n",
        "print_score_sm(svm_clf, X_train_sm, y_train_sm, X_test, y_test, train=False)"
      ],
      "execution_count": 44,
      "outputs": [
        {
          "output_type": "stream",
          "name": "stdout",
          "text": [
            "Train Result:\n",
            "================================================\n",
            "Accuracy Score: 92.17%\n",
            "_______________________________________________\n",
            "CLASSIFICATION REPORT:\n",
            "                    0           1  accuracy   macro avg  weighted avg\n",
            "precision    0.936937    0.907563  0.921739    0.922250      0.922250\n",
            "recall       0.904348    0.939130  0.921739    0.921739      0.921739\n",
            "f1-score     0.920354    0.923077  0.921739    0.921715      0.921715\n",
            "support    115.000000  115.000000  0.921739  230.000000    230.000000\n",
            "_______________________________________________\n",
            "Confusion Matrix: \n",
            " [[104  11]\n",
            " [  7 108]]\n",
            "\n",
            "Test Result:\n",
            "================================================\n",
            "Accuracy Score: 85.71%\n",
            "_______________________________________________\n",
            "CLASSIFICATION REPORT:\n",
            "                   0          1  accuracy  macro avg  weighted avg\n",
            "precision   0.822222   0.891304  0.857143   0.856763      0.859420\n",
            "recall      0.880952   0.836735  0.857143   0.858844      0.857143\n",
            "f1-score    0.850575   0.863158  0.857143   0.856866      0.857350\n",
            "support    42.000000  49.000000  0.857143  91.000000     91.000000\n",
            "_______________________________________________\n",
            "Confusion Matrix: \n",
            " [[37  5]\n",
            " [ 8 41]]\n",
            "\n"
          ]
        }
      ]
    },
    {
      "cell_type": "code",
      "metadata": {
        "colab": {
          "base_uri": "https://localhost:8080/",
          "height": 317
        },
        "id": "j-7R5cv9ev4j",
        "outputId": "034f7c5f-9f60-4e7e-dca0-8e65034362e7"
      },
      "source": [
        "#Confusion Matrix SVM (Train)\n",
        "cm_heatmap_sm(svm_clf, X_train_sm, y_train_sm, X_test, y_test, train=True)"
      ],
      "execution_count": null,
      "outputs": [
        {
          "output_type": "stream",
          "name": "stdout",
          "text": [
            "Confusion Matrix: \n",
            " AxesSubplot(0.125,0.125;0.62x0.755)\n",
            "\n"
          ]
        },
        {
          "output_type": "display_data",
          "data": {
            "image/png": "[encoded data removed]",
            "text/plain": [
              "<Figure size 432x288 with 2 Axes>"
            ]
          },
          "metadata": {
            "needs_background": "light"
          }
        }
      ]
    },
    {
      "cell_type": "code",
      "metadata": {
        "colab": {
          "base_uri": "https://localhost:8080/",
          "height": 317
        },
        "id": "NUF8MY4Lev4j",
        "outputId": "204e9369-536b-4a84-8a6d-6e2ea6fce53d"
      },
      "source": [
        "#Confusion Matrix SVM (Test)\n",
        "cm_heatmap_sm(svm_clf, X_train_sm, y_train_sm, X_test, y_test, train=False)"
      ],
      "execution_count": null,
      "outputs": [
        {
          "output_type": "stream",
          "name": "stdout",
          "text": [
            "Confusion Matrix: \n",
            " AxesSubplot(0.125,0.125;0.62x0.755)\n",
            "\n"
          ]
        },
        {
          "output_type": "display_data",
          "data": {
            "image/png": "[encoded data removed]",
            "text/plain": [
              "<Figure size 432x288 with 2 Axes>"
            ]
          },
          "metadata": {
            "needs_background": "light"
          }
        }
      ]
    },
    {
      "cell_type": "markdown",
      "metadata": {
        "id": "NfG2dA5Wev4k"
      },
      "source": [
        "Summary #2"
      ]
    },
    {
      "cell_type": "code",
      "metadata": {
        "colab": {
          "base_uri": "https://localhost:8080/",
          "height": 112
        },
        "id": "_Iw0UjEoev4k",
        "outputId": "e8b99a15-106c-45af-b242-d9273bb5d4c5"
      },
      "source": [
        "#Summary 2\n",
        "test_score = (accuracy_score(y_test, svm_clf.predict(X_test))*100).round(2)\n",
        "train_score = (accuracy_score(y_train_sm, svm_clf.predict(X_train_sm))*100).round(2)\n",
        "\n",
        "results_df_sm2 = pd.DataFrame(data=[[\"Support Vector Machine (SMOTE)\", train_score, test_score]], \n",
        "                          columns=['Model', 'Training Accuracy %', 'Testing Accuracy %'])\n",
        "\n",
        "results_df_sm = results_df_sm.append(results_df_sm2, ignore_index=True)\n",
        "results_df_sm"
      ],
      "execution_count": null,
      "outputs": [
        {
          "output_type": "execute_result",
          "data": {
            "text/html": [
              "<div>\n",
              "<style scoped>\n",
              "    .dataframe tbody tr th:only-of-type {\n",
              "        vertical-align: middle;\n",
              "    }\n",
              "\n",
              "    .dataframe tbody tr th {\n",
              "        vertical-align: top;\n",
              "    }\n",
              "\n",
              "    .dataframe thead th {\n",
              "        text-align: right;\n",
              "    }\n",
              "</style>\n",
              "<table border=\"1\" class=\"dataframe\">\n",
              "  <thead>\n",
              "    <tr style=\"text-align: right;\">\n",
              "      <th></th>\n",
              "      <th>Model</th>\n",
              "      <th>Training Accuracy %</th>\n",
              "      <th>Testing Accuracy %</th>\n",
              "    </tr>\n",
              "  </thead>\n",
              "  <tbody>\n",
              "    <tr>\n",
              "      <th>0</th>\n",
              "      <td>Logistic Regression (SMOTE)</td>\n",
              "      <td>86.09</td>\n",
              "      <td>87.91</td>\n",
              "    </tr>\n",
              "    <tr>\n",
              "      <th>1</th>\n",
              "      <td>Support Vector Machine (SMOTE)</td>\n",
              "      <td>90.43</td>\n",
              "      <td>86.81</td>\n",
              "    </tr>\n",
              "  </tbody>\n",
              "</table>\n",
              "</div>"
            ],
            "text/plain": [
              "                            Model  Training Accuracy %  Testing Accuracy %\n",
              "0     Logistic Regression (SMOTE)                86.09               87.91\n",
              "1  Support Vector Machine (SMOTE)                90.43               86.81"
            ]
          },
          "metadata": {},
          "execution_count": 275
        }
      ]
    },
    {
      "cell_type": "markdown",
      "metadata": {
        "id": "vlbuZIjZ_Jtc"
      },
      "source": [
        "###Decision Tree Classifier"
      ]
    },
    {
      "cell_type": "code",
      "metadata": {
        "colab": {
          "base_uri": "https://localhost:8080/"
        },
        "id": "uYOCGNtA_Jtd",
        "outputId": "77ceeebd-92fc-42f8-c0ac-3d285391097c"
      },
      "source": [
        "#Decision Tree\n",
        "from sklearn.tree import DecisionTreeClassifier\n",
        "\n",
        "tree_clf = DecisionTreeClassifier(random_state=42)\n",
        "tree_clf.fit(X_train_sm, y_train_sm)\n",
        "\n",
        "print_score_sm(tree_clf, X_train_sm, y_train_sm, X_test, y_test, train=True)\n",
        "print_score_sm(tree_clf, X_train_sm, y_train_sm, X_test, y_test, train=False)"
      ],
      "execution_count": 42,
      "outputs": [
        {
          "output_type": "stream",
          "name": "stdout",
          "text": [
            "Train Result:\n",
            "================================================\n",
            "Accuracy Score: 100.00%\n",
            "_______________________________________________\n",
            "CLASSIFICATION REPORT:\n",
            "               0      1  accuracy  macro avg  weighted avg\n",
            "precision    1.0    1.0       1.0        1.0           1.0\n",
            "recall       1.0    1.0       1.0        1.0           1.0\n",
            "f1-score     1.0    1.0       1.0        1.0           1.0\n",
            "support    115.0  115.0       1.0      230.0         230.0\n",
            "_______________________________________________\n",
            "Confusion Matrix: \n",
            " [[115   0]\n",
            " [  0 115]]\n",
            "\n",
            "Test Result:\n",
            "================================================\n",
            "Accuracy Score: 73.63%\n",
            "_______________________________________________\n",
            "CLASSIFICATION REPORT:\n",
            "                   0          1  accuracy  macro avg  weighted avg\n",
            "precision   0.687500   0.790698  0.736264   0.739099      0.743068\n",
            "recall      0.785714   0.693878  0.736264   0.739796      0.736264\n",
            "f1-score    0.733333   0.739130  0.736264   0.736232      0.736455\n",
            "support    42.000000  49.000000  0.736264  91.000000     91.000000\n",
            "_______________________________________________\n",
            "Confusion Matrix: \n",
            " [[33  9]\n",
            " [15 34]]\n",
            "\n"
          ]
        }
      ]
    },
    {
      "cell_type": "code",
      "metadata": {
        "colab": {
          "base_uri": "https://localhost:8080/",
          "height": 317
        },
        "id": "1RpHFAW0_Jte",
        "outputId": "8f4b6cde-5281-415d-a29c-476674fd76c5"
      },
      "source": [
        "#Confusion Matrix DTC (Train)\n",
        "cm_heatmap_sm(tree_clf, X_train_sm, y_train_sm, X_test, y_test, train=True)"
      ],
      "execution_count": null,
      "outputs": [
        {
          "output_type": "stream",
          "name": "stdout",
          "text": [
            "Confusion Matrix: \n",
            " AxesSubplot(0.125,0.125;0.62x0.755)\n",
            "\n"
          ]
        },
        {
          "output_type": "display_data",
          "data": {
            "image/png": "[encoded data removed]",
            "text/plain": [
              "<Figure size 432x288 with 2 Axes>"
            ]
          },
          "metadata": {
            "needs_background": "light"
          }
        }
      ]
    },
    {
      "cell_type": "code",
      "metadata": {
        "colab": {
          "base_uri": "https://localhost:8080/",
          "height": 317
        },
        "id": "gh29cfOd_Jtf",
        "outputId": "722ab5b9-c8a9-412f-da48-ffd47cfd0d1e"
      },
      "source": [
        "#Confusion Matrix DTC (Test)\n",
        "cm_heatmap_sm(tree_clf, X_train_sm, y_train_sm, X_test, y_test, train=False)"
      ],
      "execution_count": null,
      "outputs": [
        {
          "output_type": "stream",
          "name": "stdout",
          "text": [
            "Confusion Matrix: \n",
            " AxesSubplot(0.125,0.125;0.62x0.755)\n",
            "\n"
          ]
        },
        {
          "output_type": "display_data",
          "data": {
            "image/png": "[encoded data removed]",
            "text/plain": [
              "<Figure size 432x288 with 2 Axes>"
            ]
          },
          "metadata": {
            "needs_background": "light"
          }
        }
      ]
    },
    {
      "cell_type": "markdown",
      "metadata": {
        "id": "fB7vmdk-_Jtf"
      },
      "source": [
        "###Summary #2"
      ]
    },
    {
      "cell_type": "code",
      "metadata": {
        "colab": {
          "base_uri": "https://localhost:8080/",
          "height": 143
        },
        "id": "srtyv1f5_Jtg",
        "outputId": "5fd7f275-d9bb-492b-bb30-61f80a795442"
      },
      "source": [
        "test_score = (accuracy_score(y_test, tree_clf.predict(X_test))*100).round(2)\n",
        "train_score = (accuracy_score(y_train_sm, tree_clf.predict(X_train_sm))*100).round(2)\n",
        "\n",
        "results_df_sm3 = pd.DataFrame(data=[[\"Decision Tree Classifier (SMOTE)\", train_score, test_score]], \n",
        "                          columns=['Model', 'Training Accuracy %', 'Testing Accuracy %'])\n",
        "results_df_sm = results_df_sm.append(results_df_sm3, ignore_index=True)\n",
        "results_df_sm"
      ],
      "execution_count": null,
      "outputs": [
        {
          "output_type": "execute_result",
          "data": {
            "text/html": [
              "<div>\n",
              "<style scoped>\n",
              "    .dataframe tbody tr th:only-of-type {\n",
              "        vertical-align: middle;\n",
              "    }\n",
              "\n",
              "    .dataframe tbody tr th {\n",
              "        vertical-align: top;\n",
              "    }\n",
              "\n",
              "    .dataframe thead th {\n",
              "        text-align: right;\n",
              "    }\n",
              "</style>\n",
              "<table border=\"1\" class=\"dataframe\">\n",
              "  <thead>\n",
              "    <tr style=\"text-align: right;\">\n",
              "      <th></th>\n",
              "      <th>Model</th>\n",
              "      <th>Training Accuracy %</th>\n",
              "      <th>Testing Accuracy %</th>\n",
              "    </tr>\n",
              "  </thead>\n",
              "  <tbody>\n",
              "    <tr>\n",
              "      <th>0</th>\n",
              "      <td>Logistic Regression (SMOTE)</td>\n",
              "      <td>86.09</td>\n",
              "      <td>87.91</td>\n",
              "    </tr>\n",
              "    <tr>\n",
              "      <th>1</th>\n",
              "      <td>Support Vector Machine (SMOTE)</td>\n",
              "      <td>90.43</td>\n",
              "      <td>86.81</td>\n",
              "    </tr>\n",
              "    <tr>\n",
              "      <th>2</th>\n",
              "      <td>Decision Tree Classifier (SMOTE)</td>\n",
              "      <td>100.00</td>\n",
              "      <td>78.02</td>\n",
              "    </tr>\n",
              "  </tbody>\n",
              "</table>\n",
              "</div>"
            ],
            "text/plain": [
              "                              Model  Training Accuracy %  Testing Accuracy %\n",
              "0       Logistic Regression (SMOTE)                86.09               87.91\n",
              "1    Support Vector Machine (SMOTE)                90.43               86.81\n",
              "2  Decision Tree Classifier (SMOTE)               100.00               78.02"
            ]
          },
          "metadata": {},
          "execution_count": 278
        }
      ]
    },
    {
      "cell_type": "code",
      "metadata": {
        "id": "0jlQsgBtDpPb",
        "colab": {
          "base_uri": "https://localhost:8080/",
          "height": 345
        },
        "outputId": "1ed94837-f8a9-4167-eef9-1a3ebc2329f2"
      },
      "source": [
        "from sklearn.linear_model import LogisticRegression\n",
        "from sklearn.tree import DecisionTreeClassifier\n",
        "from sklearn.svm import SVC\n",
        "\n",
        "\n",
        "model_lr = lr_clf.fit(X_train_sm, y_train_sm)\n",
        "probs_lr = model_lr.predict_proba(X_test)[:, 1]\n",
        "\n",
        "model_dt = tree_clf.fit(X_train_sm, y_train_sm)\n",
        "probs_dt = model_dt.predict_proba(X_test)[:, 1]\n",
        "\n",
        "model_svm = svm_clf.fit(X_train_sm, y_train_sm)\n",
        "probs_svm = model_svm.predict_proba(X_test)[:, 1]"
      ],
      "execution_count": 51,
      "outputs": [
        {
          "output_type": "error",
          "ename": "AttributeError",
          "evalue": "ignored",
          "traceback": [
            "\u001b[0;31m---------------------------------------------------------------------------\u001b[0m",
            "\u001b[0;31mAttributeError\u001b[0m                            Traceback (most recent call last)",
            "\u001b[0;32m<ipython-input-51-e110aaefd0c0>\u001b[0m in \u001b[0;36m<module>\u001b[0;34m()\u001b[0m\n\u001b[1;32m     11\u001b[0m \u001b[0;34m\u001b[0m\u001b[0m\n\u001b[1;32m     12\u001b[0m \u001b[0mmodel_svm\u001b[0m \u001b[0;34m=\u001b[0m \u001b[0msvm_clf\u001b[0m\u001b[0;34m.\u001b[0m\u001b[0mfit\u001b[0m\u001b[0;34m(\u001b[0m\u001b[0mX_train_sm\u001b[0m\u001b[0;34m,\u001b[0m \u001b[0my_train_sm\u001b[0m\u001b[0;34m)\u001b[0m\u001b[0;34m\u001b[0m\u001b[0;34m\u001b[0m\u001b[0m\n\u001b[0;32m---> 13\u001b[0;31m \u001b[0mprobs_svm\u001b[0m \u001b[0;34m=\u001b[0m \u001b[0mmodel_svm\u001b[0m\u001b[0;34m.\u001b[0m\u001b[0mpredict_proba\u001b[0m\u001b[0;34m(\u001b[0m\u001b[0mX_test\u001b[0m\u001b[0;34m)\u001b[0m\u001b[0;34m[\u001b[0m\u001b[0;34m:\u001b[0m\u001b[0;34m,\u001b[0m \u001b[0;36m1\u001b[0m\u001b[0;34m]\u001b[0m\u001b[0;34m\u001b[0m\u001b[0;34m\u001b[0m\u001b[0m\n\u001b[0m",
            "\u001b[0;32m/usr/local/lib/python3.7/dist-packages/sklearn/utils/metaestimators.py\u001b[0m in \u001b[0;36m__get__\u001b[0;34m(self, obj, owner)\u001b[0m\n\u001b[1;32m    107\u001b[0m             \u001b[0;31m# delegate only on instances, not the classes.\u001b[0m\u001b[0;34m\u001b[0m\u001b[0;34m\u001b[0m\u001b[0;34m\u001b[0m\u001b[0m\n\u001b[1;32m    108\u001b[0m             \u001b[0;31m# this is to allow access to the docstrings.\u001b[0m\u001b[0;34m\u001b[0m\u001b[0;34m\u001b[0m\u001b[0;34m\u001b[0m\u001b[0m\n\u001b[0;32m--> 109\u001b[0;31m             \u001b[0;32mif\u001b[0m \u001b[0;32mnot\u001b[0m \u001b[0mself\u001b[0m\u001b[0;34m.\u001b[0m\u001b[0mcheck\u001b[0m\u001b[0;34m(\u001b[0m\u001b[0mobj\u001b[0m\u001b[0;34m)\u001b[0m\u001b[0;34m:\u001b[0m\u001b[0;34m\u001b[0m\u001b[0;34m\u001b[0m\u001b[0m\n\u001b[0m\u001b[1;32m    110\u001b[0m                 \u001b[0;32mraise\u001b[0m \u001b[0mattr_err\u001b[0m\u001b[0;34m\u001b[0m\u001b[0;34m\u001b[0m\u001b[0m\n\u001b[1;32m    111\u001b[0m \u001b[0;34m\u001b[0m\u001b[0m\n",
            "\u001b[0;32m/usr/local/lib/python3.7/dist-packages/sklearn/svm/_base.py\u001b[0m in \u001b[0;36m_check_proba\u001b[0;34m(self)\u001b[0m\n\u001b[1;32m    799\u001b[0m         \u001b[0;32mif\u001b[0m \u001b[0;32mnot\u001b[0m \u001b[0mself\u001b[0m\u001b[0;34m.\u001b[0m\u001b[0mprobability\u001b[0m\u001b[0;34m:\u001b[0m\u001b[0;34m\u001b[0m\u001b[0;34m\u001b[0m\u001b[0m\n\u001b[1;32m    800\u001b[0m             raise AttributeError(\n\u001b[0;32m--> 801\u001b[0;31m                 \u001b[0;34m\"predict_proba is not available when  probability=False\"\u001b[0m\u001b[0;34m\u001b[0m\u001b[0;34m\u001b[0m\u001b[0m\n\u001b[0m\u001b[1;32m    802\u001b[0m             )\n\u001b[1;32m    803\u001b[0m         \u001b[0;32mif\u001b[0m \u001b[0mself\u001b[0m\u001b[0;34m.\u001b[0m\u001b[0m_impl\u001b[0m \u001b[0;32mnot\u001b[0m \u001b[0;32min\u001b[0m \u001b[0;34m(\u001b[0m\u001b[0;34m\"c_svc\"\u001b[0m\u001b[0;34m,\u001b[0m \u001b[0;34m\"nu_svc\"\u001b[0m\u001b[0;34m)\u001b[0m\u001b[0;34m:\u001b[0m\u001b[0;34m\u001b[0m\u001b[0;34m\u001b[0m\u001b[0m\n",
            "\u001b[0;31mAttributeError\u001b[0m: predict_proba is not available when  probability=False"
          ]
        }
      ]
    },
    {
      "cell_type": "code",
      "metadata": {
        "colab": {
          "base_uri": "https://localhost:8080/",
          "height": 467
        },
        "id": "d2wkv2A0Hkhu",
        "outputId": "0557b9f7-7e90-4946-ffd5-795c98961215"
      },
      "source": [
        "from sklearn.metrics import roc_auc_score, roc_curve\n",
        "\n",
        "auc_lr = roc_auc_score(y_test, probs_lr)\n",
        "fpr_lr, tpr_lr, thresholds_lr = roc_curve(y_test, probs_lr)\n",
        "\n",
        "auc_dt = roc_auc_score(y_test, probs_dt)\n",
        "fpr_dt, tpr_dt, thresholds_dt = roc_curve(y_test, probs_dt)\n",
        "\n",
        "plt.figure(figsize=(12, 7))\n",
        "plt.plot(fpr_lr, tpr_lr, label=f'AUC (Logistic Regression) = {auc_lr:.2f}')\n",
        "plt.plot(fpr_dt, tpr_dt, label=f'AUC (Decision Tree) = {auc_dt:.2f}')\n",
        "plt.plot([0, 1], [0, 1], color='blue', linestyle='--', label='Baseline')\n",
        "plt.title('ROC Curve', size=20)\n",
        "plt.xlabel('False Positive Rate', size=14)\n",
        "plt.ylabel('True Positive Rate', size=14)\n",
        "plt.legend();"
      ],
      "execution_count": 50,
      "outputs": [
        {
          "output_type": "display_data",
          "data": {
            "image/png": "[encoded data removed]",
            "text/plain": [
              "<Figure size 864x504 with 1 Axes>"
            ]
          },
          "metadata": {
            "needs_background": "light"
          }
        }
      ]
    },
    {
      "cell_type": "markdown",
      "metadata": {
        "id": "TuwQbhENAUfo"
      },
      "source": [
        "Summary #2"
      ]
    },
    {
      "cell_type": "code",
      "metadata": {
        "colab": {
          "base_uri": "https://localhost:8080/",
          "height": 143
        },
        "id": "rZln_J9LAWDa",
        "outputId": "3de40cc1-79fe-485d-98bf-67fb3d253475"
      },
      "source": [
        "results_df_sm"
      ],
      "execution_count": null,
      "outputs": [
        {
          "output_type": "execute_result",
          "data": {
            "text/html": [
              "<div>\n",
              "<style scoped>\n",
              "    .dataframe tbody tr th:only-of-type {\n",
              "        vertical-align: middle;\n",
              "    }\n",
              "\n",
              "    .dataframe tbody tr th {\n",
              "        vertical-align: top;\n",
              "    }\n",
              "\n",
              "    .dataframe thead th {\n",
              "        text-align: right;\n",
              "    }\n",
              "</style>\n",
              "<table border=\"1\" class=\"dataframe\">\n",
              "  <thead>\n",
              "    <tr style=\"text-align: right;\">\n",
              "      <th></th>\n",
              "      <th>Model</th>\n",
              "      <th>Training Accuracy %</th>\n",
              "      <th>Testing Accuracy %</th>\n",
              "    </tr>\n",
              "  </thead>\n",
              "  <tbody>\n",
              "    <tr>\n",
              "      <th>0</th>\n",
              "      <td>Logistic Regression (SMOTE)</td>\n",
              "      <td>86.09</td>\n",
              "      <td>87.91</td>\n",
              "    </tr>\n",
              "    <tr>\n",
              "      <th>1</th>\n",
              "      <td>Support Vector Machine (SMOTE)</td>\n",
              "      <td>90.43</td>\n",
              "      <td>86.81</td>\n",
              "    </tr>\n",
              "    <tr>\n",
              "      <th>2</th>\n",
              "      <td>Decision Tree Classifier (SMOTE)</td>\n",
              "      <td>100.00</td>\n",
              "      <td>78.02</td>\n",
              "    </tr>\n",
              "  </tbody>\n",
              "</table>\n",
              "</div>"
            ],
            "text/plain": [
              "                              Model  Training Accuracy %  Testing Accuracy %\n",
              "0       Logistic Regression (SMOTE)                86.09               87.91\n",
              "1    Support Vector Machine (SMOTE)                90.43               86.81\n",
              "2  Decision Tree Classifier (SMOTE)               100.00               78.02"
            ]
          },
          "metadata": {},
          "execution_count": 280
        }
      ]
    },
    {
      "cell_type": "markdown",
      "metadata": {
        "id": "4mXzXap2AcbP"
      },
      "source": [
        "##Hyperparameter Tuning (after smote)"
      ]
    },
    {
      "cell_type": "markdown",
      "metadata": {
        "id": "7sFm9hLfAcbQ"
      },
      "source": [
        "###Logistic Regression Hyperparameter Tuning"
      ]
    },
    {
      "cell_type": "code",
      "metadata": {
        "colab": {
          "base_uri": "https://localhost:8080/"
        },
        "id": "o_ZA3hh4AcbR",
        "outputId": "37133769-02ec-45be-82c7-d6cc395f69ca"
      },
      "source": [
        "from sklearn.model_selection import GridSearchCV\n",
        "\n",
        "params = {\"C\": np.logspace(-4, 4, 20),\n",
        "          \"solver\": [\"liblinear\"]}\n",
        "\n",
        "lr_clf = LogisticRegression()\n",
        "\n",
        "lr_cv = GridSearchCV(lr_clf, params, scoring=\"accuracy\", n_jobs=-1, verbose=1, cv=3)\n",
        "lr_cv.fit(X_train_sm, y_train_sm)\n",
        "best_params = lr_cv.best_params_\n",
        "print(f\"Best parameters: {best_params}\")\n",
        "lr_clf = LogisticRegression(**best_params)\n",
        "\n",
        "lr_clf.fit(X_train_sm, y_train_sm)\n",
        "\n",
        "print_score_sm(lr_clf, X_train_sm, y_train_sm, X_test, y_test, train=True)\n",
        "print_score_sm(lr_clf, X_train_sm, y_train_sm, X_test, y_test, train=False)"
      ],
      "execution_count": null,
      "outputs": [
        {
          "output_type": "stream",
          "name": "stdout",
          "text": [
            "Fitting 3 folds for each of 20 candidates, totalling 60 fits\n",
            "Best parameters: {'C': 1.623776739188721, 'solver': 'liblinear'}\n",
            "Train Result:\n",
            "================================================\n",
            "Accuracy Score: 87.83%\n",
            "_______________________________________________\n",
            "CLASSIFICATION REPORT:\n",
            "                    0           1  accuracy   macro avg  weighted avg\n",
            "precision    0.884956    0.871795  0.878261    0.878375      0.878375\n",
            "recall       0.869565    0.886957  0.878261    0.878261      0.878261\n",
            "f1-score     0.877193    0.879310  0.878261    0.878252      0.878252\n",
            "support    115.000000  115.000000  0.878261  230.000000    230.000000\n",
            "_______________________________________________\n",
            "Confusion Matrix: \n",
            " [[100  15]\n",
            " [ 13 102]]\n",
            "\n",
            "Test Result:\n",
            "================================================\n",
            "Accuracy Score: 87.91%\n",
            "_______________________________________________\n",
            "CLASSIFICATION REPORT:\n",
            "                   0          1  accuracy  macro avg  weighted avg\n",
            "precision   0.844444   0.913043  0.879121   0.878744      0.881382\n",
            "recall      0.904762   0.857143  0.879121   0.880952      0.879121\n",
            "f1-score    0.873563   0.884211  0.879121   0.878887      0.879296\n",
            "support    42.000000  49.000000  0.879121  91.000000     91.000000\n",
            "_______________________________________________\n",
            "Confusion Matrix: \n",
            " [[38  4]\n",
            " [ 7 42]]\n",
            "\n"
          ]
        }
      ]
    },
    {
      "cell_type": "code",
      "metadata": {
        "colab": {
          "base_uri": "https://localhost:8080/",
          "height": 317
        },
        "id": "4cqFuzL5AcbS",
        "outputId": "b32ac5ae-c6e6-4e3c-9e23-e13c2e68da04"
      },
      "source": [
        "#Confusion Matrix LR (Train)\n",
        "cm_heatmap_sm(lr_clf, X_train_sm, y_train_sm, X_test, y_test, train=True)"
      ],
      "execution_count": null,
      "outputs": [
        {
          "output_type": "stream",
          "name": "stdout",
          "text": [
            "Confusion Matrix: \n",
            " AxesSubplot(0.125,0.125;0.62x0.755)\n",
            "\n"
          ]
        },
        {
          "output_type": "display_data",
          "data": {
            "image/png": "[encoded data removed]",
            "text/plain": [
              "<Figure size 432x288 with 2 Axes>"
            ]
          },
          "metadata": {
            "needs_background": "light"
          }
        }
      ]
    },
    {
      "cell_type": "code",
      "metadata": {
        "colab": {
          "base_uri": "https://localhost:8080/",
          "height": 317
        },
        "id": "L--P_je5AcbT",
        "outputId": "67da0d2a-83a1-429c-f71a-37a6793d6c4a"
      },
      "source": [
        "#Confusion Matrix LR (Test)\n",
        "cm_heatmap_sm(lr_clf, X_train_sm, y_train_sm, X_test, y_test, train=False)"
      ],
      "execution_count": null,
      "outputs": [
        {
          "output_type": "stream",
          "name": "stdout",
          "text": [
            "Confusion Matrix: \n",
            " AxesSubplot(0.125,0.125;0.62x0.755)\n",
            "\n"
          ]
        },
        {
          "output_type": "display_data",
          "data": {
            "image/png": "[encoded data removed]",
            "text/plain": [
              "<Figure size 432x288 with 2 Axes>"
            ]
          },
          "metadata": {
            "needs_background": "light"
          }
        }
      ]
    },
    {
      "cell_type": "markdown",
      "metadata": {
        "id": "_vMxEVxhAcbT"
      },
      "source": [
        "Summary of **Logistic Regression** Hyperparameter Tuning"
      ]
    },
    {
      "cell_type": "code",
      "metadata": {
        "colab": {
          "base_uri": "https://localhost:8080/",
          "height": 81
        },
        "id": "k2cYQgB1AcbU",
        "outputId": "63020544-a7e9-4da2-9ba5-c0e5b9d7b197"
      },
      "source": [
        "test_score = (accuracy_score(y_test, lr_clf.predict(X_test))*100).round(2)\n",
        "train_score = (accuracy_score(y_train_sm, lr_clf.predict(X_train_sm))*100).round(2)\n",
        "\n",
        "tuning_results_df_sm = pd.DataFrame(data=[[\"Tuned Logistic Regression (SMOTE)\", train_score, test_score]], \n",
        "                          columns=['Model', 'Training Accuracy %', 'Testing Accuracy %'])\n",
        "tuning_results_df_sm"
      ],
      "execution_count": null,
      "outputs": [
        {
          "output_type": "execute_result",
          "data": {
            "text/html": [
              "<div>\n",
              "<style scoped>\n",
              "    .dataframe tbody tr th:only-of-type {\n",
              "        vertical-align: middle;\n",
              "    }\n",
              "\n",
              "    .dataframe tbody tr th {\n",
              "        vertical-align: top;\n",
              "    }\n",
              "\n",
              "    .dataframe thead th {\n",
              "        text-align: right;\n",
              "    }\n",
              "</style>\n",
              "<table border=\"1\" class=\"dataframe\">\n",
              "  <thead>\n",
              "    <tr style=\"text-align: right;\">\n",
              "      <th></th>\n",
              "      <th>Model</th>\n",
              "      <th>Training Accuracy %</th>\n",
              "      <th>Testing Accuracy %</th>\n",
              "    </tr>\n",
              "  </thead>\n",
              "  <tbody>\n",
              "    <tr>\n",
              "      <th>0</th>\n",
              "      <td>Tuned Logistic Regression (SMOTE)</td>\n",
              "      <td>87.83</td>\n",
              "      <td>87.91</td>\n",
              "    </tr>\n",
              "  </tbody>\n",
              "</table>\n",
              "</div>"
            ],
            "text/plain": [
              "                               Model  Training Accuracy %  Testing Accuracy %\n",
              "0  Tuned Logistic Regression (SMOTE)                87.83               87.91"
            ]
          },
          "metadata": {},
          "execution_count": 249
        }
      ]
    },
    {
      "cell_type": "markdown",
      "metadata": {
        "id": "-fvSJtSVAcbU"
      },
      "source": [
        "###Support Vector Machine Hyperparameter Tuning"
      ]
    },
    {
      "cell_type": "code",
      "metadata": {
        "colab": {
          "base_uri": "https://localhost:8080/"
        },
        "id": "2hIAGd0HAcbV",
        "outputId": "8ea63234-8c55-4efb-e1fe-c26cd3b6c057"
      },
      "source": [
        "svm_clf = SVC(kernel='rbf', gamma=0.1, C=1.0)\n",
        "\n",
        "params = {\"C\":(0.1, 0.5, 1, 2, 5, 10, 20), \n",
        "          \"gamma\":(0.001, 0.01, 0.1, 0.25, 0.5, 0.75, 1), \n",
        "          \"kernel\":('linear', 'poly', 'rbf')}\n",
        "\n",
        "svm_cv = GridSearchCV(svm_clf, params, n_jobs=-1, cv=3, verbose=1, scoring=\"accuracy\")\n",
        "svm_cv.fit(X_train_sm, y_train_sm)\n",
        "best_params = svm_cv.best_params_\n",
        "print(f\"Best params: {best_params}\")\n",
        "\n",
        "svm_clf = SVC(**best_params)\n",
        "svm_clf.fit(X_train_sm, y_train_sm)\n",
        "\n",
        "print_score_sm(svm_clf, X_train_sm, y_train_sm, X_test, y_test, train=True)\n",
        "print_score_sm(svm_clf, X_train_sm, y_train_sm, X_test, y_test, train=False)"
      ],
      "execution_count": null,
      "outputs": [
        {
          "output_type": "stream",
          "name": "stdout",
          "text": [
            "Fitting 3 folds for each of 147 candidates, totalling 441 fits\n",
            "Best params: {'C': 20, 'gamma': 0.01, 'kernel': 'rbf'}\n",
            "Train Result:\n",
            "================================================\n",
            "Accuracy Score: 89.57%\n",
            "_______________________________________________\n",
            "CLASSIFICATION REPORT:\n",
            "                    0           1  accuracy   macro avg  weighted avg\n",
            "precision    0.895652    0.895652  0.895652    0.895652      0.895652\n",
            "recall       0.895652    0.895652  0.895652    0.895652      0.895652\n",
            "f1-score     0.895652    0.895652  0.895652    0.895652      0.895652\n",
            "support    115.000000  115.000000  0.895652  230.000000    230.000000\n",
            "_______________________________________________\n",
            "Confusion Matrix: \n",
            " [[103  12]\n",
            " [ 12 103]]\n",
            "\n",
            "Test Result:\n",
            "================================================\n",
            "Accuracy Score: 86.81%\n",
            "_______________________________________________\n",
            "CLASSIFICATION REPORT:\n",
            "                   0          1  accuracy  macro avg  weighted avg\n",
            "precision   0.826087   0.911111  0.868132   0.868599      0.871869\n",
            "recall      0.904762   0.836735  0.868132   0.870748      0.868132\n",
            "f1-score    0.863636   0.872340  0.868132   0.867988      0.868323\n",
            "support    42.000000  49.000000  0.868132  91.000000     91.000000\n",
            "_______________________________________________\n",
            "Confusion Matrix: \n",
            " [[38  4]\n",
            " [ 8 41]]\n",
            "\n"
          ]
        }
      ]
    },
    {
      "cell_type": "code",
      "metadata": {
        "colab": {
          "base_uri": "https://localhost:8080/",
          "height": 317
        },
        "id": "oTBQIHQoAcbW",
        "outputId": "b418af6a-7f86-4f44-8bc0-3139a445bd43"
      },
      "source": [
        "#Confusion Matrix SVM (Train)\n",
        "cm_heatmap_sm(svm_clf, X_train_sm, y_train_sm, X_test, y_test, train=True)"
      ],
      "execution_count": null,
      "outputs": [
        {
          "output_type": "stream",
          "name": "stdout",
          "text": [
            "Confusion Matrix: \n",
            " AxesSubplot(0.125,0.125;0.62x0.755)\n",
            "\n"
          ]
        },
        {
          "output_type": "display_data",
          "data": {
            "image/png": "[encoded data removed]",
            "text/plain": [
              "<Figure size 432x288 with 2 Axes>"
            ]
          },
          "metadata": {
            "needs_background": "light"
          }
        }
      ]
    },
    {
      "cell_type": "code",
      "metadata": {
        "colab": {
          "base_uri": "https://localhost:8080/",
          "height": 317
        },
        "id": "9SWZ_8ydAcbX",
        "outputId": "d34828b3-8e54-4a03-eceb-ec6c24e1eb8a"
      },
      "source": [
        "#Confusion Matrix SVM (Test)\n",
        "cm_heatmap_sm(svm_clf, X_train_sm, y_train_sm, X_test, y_test, train=False)"
      ],
      "execution_count": null,
      "outputs": [
        {
          "output_type": "stream",
          "name": "stdout",
          "text": [
            "Confusion Matrix: \n",
            " AxesSubplot(0.125,0.125;0.62x0.755)\n",
            "\n"
          ]
        },
        {
          "output_type": "display_data",
          "data": {
            "image/png": "[encoded data removed]",
            "text/plain": [
              "<Figure size 432x288 with 2 Axes>"
            ]
          },
          "metadata": {
            "needs_background": "light"
          }
        }
      ]
    },
    {
      "cell_type": "markdown",
      "metadata": {
        "id": "c2q5-4KnAcbY"
      },
      "source": [
        "Summary until **Support Vectore Machine** Hyperparameter Tuning"
      ]
    },
    {
      "cell_type": "code",
      "metadata": {
        "colab": {
          "base_uri": "https://localhost:8080/",
          "height": 112
        },
        "id": "ZQW3QfWVAcbY",
        "outputId": "ff1f4a78-172f-47ad-9ddf-902b42654fe8"
      },
      "source": [
        "test_score = (accuracy_score(y_test, svm_clf.predict(X_test))*100).round(2)\n",
        "train_score = (accuracy_score(y_train_sm, svm_clf.predict(X_train_sm))*100).round(2)\n",
        "\n",
        "tuning_results_df_sm2 = pd.DataFrame(data=[[\"Tuned Support Vectore Machine (SMOTE)\", train_score, test_score]], \n",
        "                          columns=['Model', 'Training Accuracy %', 'Testing Accuracy %'])\n",
        "\n",
        "tuning_results_df_sm = tuning_results_df_sm.append(tuning_results_df_sm2 , ignore_index=True)\n",
        "tuning_results_df_sm"
      ],
      "execution_count": null,
      "outputs": [
        {
          "output_type": "execute_result",
          "data": {
            "text/html": [
              "<div>\n",
              "<style scoped>\n",
              "    .dataframe tbody tr th:only-of-type {\n",
              "        vertical-align: middle;\n",
              "    }\n",
              "\n",
              "    .dataframe tbody tr th {\n",
              "        vertical-align: top;\n",
              "    }\n",
              "\n",
              "    .dataframe thead th {\n",
              "        text-align: right;\n",
              "    }\n",
              "</style>\n",
              "<table border=\"1\" class=\"dataframe\">\n",
              "  <thead>\n",
              "    <tr style=\"text-align: right;\">\n",
              "      <th></th>\n",
              "      <th>Model</th>\n",
              "      <th>Training Accuracy %</th>\n",
              "      <th>Testing Accuracy %</th>\n",
              "    </tr>\n",
              "  </thead>\n",
              "  <tbody>\n",
              "    <tr>\n",
              "      <th>0</th>\n",
              "      <td>Tuned Logistic Regression (SMOTE)</td>\n",
              "      <td>87.83</td>\n",
              "      <td>87.91</td>\n",
              "    </tr>\n",
              "    <tr>\n",
              "      <th>1</th>\n",
              "      <td>Tuned Support Vectore Machine (SMOTE)</td>\n",
              "      <td>89.57</td>\n",
              "      <td>86.81</td>\n",
              "    </tr>\n",
              "  </tbody>\n",
              "</table>\n",
              "</div>"
            ],
            "text/plain": [
              "                                   Model  ...  Testing Accuracy %\n",
              "0      Tuned Logistic Regression (SMOTE)  ...               87.91\n",
              "1  Tuned Support Vectore Machine (SMOTE)  ...               86.81\n",
              "\n",
              "[2 rows x 3 columns]"
            ]
          },
          "metadata": {},
          "execution_count": 253
        }
      ]
    },
    {
      "cell_type": "markdown",
      "metadata": {
        "id": "VGivqKmPAcbZ"
      },
      "source": [
        "###Decision Tree Classifier Hyperparameter Tuning"
      ]
    },
    {
      "cell_type": "code",
      "metadata": {
        "colab": {
          "base_uri": "https://localhost:8080/"
        },
        "id": "El60vlDHAcba",
        "outputId": "b83aea84-8188-47c2-bbcc-15d347511f11"
      },
      "source": [
        "params = {\"criterion\":(\"gini\", \"entropy\"), \n",
        "          \"splitter\":(\"best\", \"random\"), \n",
        "          \"max_depth\":(list(range(1, 20))), \n",
        "          \"min_samples_split\":[2, 3, 4], \n",
        "          \"min_samples_leaf\":list(range(1, 20))\n",
        "          }\n",
        "\n",
        "tree_clf = DecisionTreeClassifier(random_state=42)\n",
        "tree_cv = GridSearchCV(tree_clf, params, scoring=\"accuracy\", n_jobs=-1, verbose=1, cv=3)\n",
        "tree_cv.fit(X_train_sm, y_train_sm)\n",
        "best_params = tree_cv.best_params_\n",
        "print(f'Best_params: {best_params}')\n",
        "\n",
        "tree_clf = DecisionTreeClassifier(**best_params)\n",
        "tree_clf.fit(X_train_sm, y_train_sm)\n",
        "\n",
        "print_score_sm(tree_clf, X_train_sm, y_train_sm, X_test, y_test, train=True)\n",
        "print_score_sm(tree_clf, X_train_sm, y_train_sm, X_test, y_test, train=False)"
      ],
      "execution_count": null,
      "outputs": [
        {
          "output_type": "stream",
          "name": "stdout",
          "text": [
            "Fitting 3 folds for each of 4332 candidates, totalling 12996 fits\n",
            "Best_params: {'criterion': 'gini', 'max_depth': 4, 'min_samples_leaf': 1, 'min_samples_split': 2, 'splitter': 'random'}\n",
            "Train Result:\n",
            "================================================\n",
            "Accuracy Score: 89.13%\n",
            "_______________________________________________\n",
            "CLASSIFICATION REPORT:\n",
            "                    0           1  accuracy   macro avg  weighted avg\n",
            "precision    0.894737    0.887931  0.891304    0.891334      0.891334\n",
            "recall       0.886957    0.895652  0.891304    0.891304      0.891304\n",
            "f1-score     0.890830    0.891775  0.891304    0.891302      0.891302\n",
            "support    115.000000  115.000000  0.891304  230.000000    230.000000\n",
            "_______________________________________________\n",
            "Confusion Matrix: \n",
            " [[102  13]\n",
            " [ 12 103]]\n",
            "\n",
            "Test Result:\n",
            "================================================\n",
            "Accuracy Score: 75.82%\n",
            "_______________________________________________\n",
            "CLASSIFICATION REPORT:\n",
            "                   0         1  accuracy  macro avg  weighted avg\n",
            "precision   0.738095   0.77551  0.758242   0.756803      0.758242\n",
            "recall      0.738095   0.77551  0.758242   0.756803      0.758242\n",
            "f1-score    0.738095   0.77551  0.758242   0.756803      0.758242\n",
            "support    42.000000  49.00000  0.758242  91.000000     91.000000\n",
            "_______________________________________________\n",
            "Confusion Matrix: \n",
            " [[31 11]\n",
            " [11 38]]\n",
            "\n"
          ]
        }
      ]
    },
    {
      "cell_type": "code",
      "metadata": {
        "colab": {
          "base_uri": "https://localhost:8080/",
          "height": 317
        },
        "id": "z04NjOSOAcba",
        "outputId": "d0f52ca4-2a87-4f8a-a68c-c19883898ffc"
      },
      "source": [
        "#Confusion Matrix DTC (Train)\n",
        "cm_heatmap_sm(tree_clf, X_train_sm, y_train_sm, X_test, y_test, train=True)"
      ],
      "execution_count": null,
      "outputs": [
        {
          "output_type": "stream",
          "name": "stdout",
          "text": [
            "Confusion Matrix: \n",
            " AxesSubplot(0.125,0.125;0.62x0.755)\n",
            "\n"
          ]
        },
        {
          "output_type": "display_data",
          "data": {
            "image/png": "[encoded data removed]",
            "text/plain": [
              "<Figure size 432x288 with 2 Axes>"
            ]
          },
          "metadata": {
            "needs_background": "light"
          }
        }
      ]
    },
    {
      "cell_type": "code",
      "metadata": {
        "colab": {
          "base_uri": "https://localhost:8080/",
          "height": 317
        },
        "id": "ezmaHs2TAcbb",
        "outputId": "e6b11405-a0e2-4283-fc4b-c8b4f6fc870d"
      },
      "source": [
        "#Confusion Matrix DTC (Test)\n",
        "cm_heatmap_sm(tree_clf, X_train_sm, y_train_sm, X_test, y_test, train=False)"
      ],
      "execution_count": null,
      "outputs": [
        {
          "output_type": "stream",
          "name": "stdout",
          "text": [
            "Confusion Matrix: \n",
            " AxesSubplot(0.125,0.125;0.62x0.755)\n",
            "\n"
          ]
        },
        {
          "output_type": "display_data",
          "data": {
            "image/png": "[encoded data removed]",
            "text/plain": [
              "<Figure size 432x288 with 2 Axes>"
            ]
          },
          "metadata": {
            "needs_background": "light"
          }
        }
      ]
    },
    {
      "cell_type": "markdown",
      "metadata": {
        "id": "sB48jaWaAcbc"
      },
      "source": [
        "Summary until **Decision Tree Classifier** Hyperparameter Tuning"
      ]
    },
    {
      "cell_type": "code",
      "metadata": {
        "colab": {
          "base_uri": "https://localhost:8080/",
          "height": 143
        },
        "id": "923rlUGQAcbc",
        "outputId": "9b3a66b2-4169-4fb9-f2fb-97c40764c901"
      },
      "source": [
        "test_score = (accuracy_score(y_test, tree_clf.predict(X_test))*100).round(2)\n",
        "train_score = (accuracy_score(y_train_sm, tree_clf.predict(X_train_sm))*100).round(2)\n",
        "\n",
        "tuning_results_df_sm3 = pd.DataFrame(data=[[\"Tuned Decision Tree Classifier (SMOTE)\", train_score, test_score]], \n",
        "                          columns=['Model', 'Training Accuracy %', 'Testing Accuracy %'])\n",
        "\n",
        "tuning_results_df_sm = tuning_results_df_sm.append(tuning_results_df_sm3 , ignore_index=True)\n",
        "tuning_results_df_sm"
      ],
      "execution_count": null,
      "outputs": [
        {
          "output_type": "execute_result",
          "data": {
            "text/html": [
              "<div>\n",
              "<style scoped>\n",
              "    .dataframe tbody tr th:only-of-type {\n",
              "        vertical-align: middle;\n",
              "    }\n",
              "\n",
              "    .dataframe tbody tr th {\n",
              "        vertical-align: top;\n",
              "    }\n",
              "\n",
              "    .dataframe thead th {\n",
              "        text-align: right;\n",
              "    }\n",
              "</style>\n",
              "<table border=\"1\" class=\"dataframe\">\n",
              "  <thead>\n",
              "    <tr style=\"text-align: right;\">\n",
              "      <th></th>\n",
              "      <th>Model</th>\n",
              "      <th>Training Accuracy %</th>\n",
              "      <th>Testing Accuracy %</th>\n",
              "    </tr>\n",
              "  </thead>\n",
              "  <tbody>\n",
              "    <tr>\n",
              "      <th>0</th>\n",
              "      <td>Tuned Logistic Regression (SMOTE)</td>\n",
              "      <td>87.83</td>\n",
              "      <td>87.91</td>\n",
              "    </tr>\n",
              "    <tr>\n",
              "      <th>1</th>\n",
              "      <td>Tuned Support Vectore Machine (SMOTE)</td>\n",
              "      <td>89.57</td>\n",
              "      <td>86.81</td>\n",
              "    </tr>\n",
              "    <tr>\n",
              "      <th>2</th>\n",
              "      <td>Tuned Decision Tree Classifier (SMOTE)</td>\n",
              "      <td>89.13</td>\n",
              "      <td>75.82</td>\n",
              "    </tr>\n",
              "  </tbody>\n",
              "</table>\n",
              "</div>"
            ],
            "text/plain": [
              "                                    Model  ...  Testing Accuracy %\n",
              "0       Tuned Logistic Regression (SMOTE)  ...               87.91\n",
              "1   Tuned Support Vectore Machine (SMOTE)  ...               86.81\n",
              "2  Tuned Decision Tree Classifier (SMOTE)  ...               75.82\n",
              "\n",
              "[3 rows x 3 columns]"
            ]
          },
          "metadata": {},
          "execution_count": 257
        }
      ]
    },
    {
      "cell_type": "markdown",
      "metadata": {
        "id": "mQTHgD-x6RUr"
      },
      "source": [
        "##Summary"
      ]
    },
    {
      "cell_type": "code",
      "metadata": {
        "colab": {
          "base_uri": "https://localhost:8080/",
          "height": 143
        },
        "id": "yiY8DvAG6U_A",
        "outputId": "5cc0efab-7fa8-4bb3-aa01-eb36cc2d7526"
      },
      "source": [
        "results_df_sm"
      ],
      "execution_count": null,
      "outputs": [
        {
          "output_type": "execute_result",
          "data": {
            "text/html": [
              "<div>\n",
              "<style scoped>\n",
              "    .dataframe tbody tr th:only-of-type {\n",
              "        vertical-align: middle;\n",
              "    }\n",
              "\n",
              "    .dataframe tbody tr th {\n",
              "        vertical-align: top;\n",
              "    }\n",
              "\n",
              "    .dataframe thead th {\n",
              "        text-align: right;\n",
              "    }\n",
              "</style>\n",
              "<table border=\"1\" class=\"dataframe\">\n",
              "  <thead>\n",
              "    <tr style=\"text-align: right;\">\n",
              "      <th></th>\n",
              "      <th>Model</th>\n",
              "      <th>Training Accuracy %</th>\n",
              "      <th>Testing Accuracy %</th>\n",
              "    </tr>\n",
              "  </thead>\n",
              "  <tbody>\n",
              "    <tr>\n",
              "      <th>0</th>\n",
              "      <td>Logistic Regression (SMOTE)</td>\n",
              "      <td>86.09</td>\n",
              "      <td>87.91</td>\n",
              "    </tr>\n",
              "    <tr>\n",
              "      <th>1</th>\n",
              "      <td>Support Vector Machine (SMOTE)</td>\n",
              "      <td>90.43</td>\n",
              "      <td>86.81</td>\n",
              "    </tr>\n",
              "    <tr>\n",
              "      <th>2</th>\n",
              "      <td>Decision Tree Classifier (SMOTE)</td>\n",
              "      <td>100.00</td>\n",
              "      <td>78.02</td>\n",
              "    </tr>\n",
              "  </tbody>\n",
              "</table>\n",
              "</div>"
            ],
            "text/plain": [
              "                              Model  Training Accuracy %  Testing Accuracy %\n",
              "0       Logistic Regression (SMOTE)                86.09               87.91\n",
              "1    Support Vector Machine (SMOTE)                90.43               86.81\n",
              "2  Decision Tree Classifier (SMOTE)               100.00               78.02"
            ]
          },
          "metadata": {},
          "execution_count": 281
        }
      ]
    },
    {
      "cell_type": "code",
      "metadata": {
        "colab": {
          "base_uri": "https://localhost:8080/",
          "height": 143
        },
        "id": "XMoUo4mI7Fz4",
        "outputId": "3b6bbb0b-d85d-467b-df6f-7c1fc6696e8f"
      },
      "source": [
        "tuning_results_df_sm"
      ],
      "execution_count": null,
      "outputs": [
        {
          "output_type": "execute_result",
          "data": {
            "text/html": [
              "<div>\n",
              "<style scoped>\n",
              "    .dataframe tbody tr th:only-of-type {\n",
              "        vertical-align: middle;\n",
              "    }\n",
              "\n",
              "    .dataframe tbody tr th {\n",
              "        vertical-align: top;\n",
              "    }\n",
              "\n",
              "    .dataframe thead th {\n",
              "        text-align: right;\n",
              "    }\n",
              "</style>\n",
              "<table border=\"1\" class=\"dataframe\">\n",
              "  <thead>\n",
              "    <tr style=\"text-align: right;\">\n",
              "      <th></th>\n",
              "      <th>Model</th>\n",
              "      <th>Training Accuracy %</th>\n",
              "      <th>Testing Accuracy %</th>\n",
              "    </tr>\n",
              "  </thead>\n",
              "  <tbody>\n",
              "    <tr>\n",
              "      <th>0</th>\n",
              "      <td>Tuned Logistic Regression (SMOTE)</td>\n",
              "      <td>87.83</td>\n",
              "      <td>87.91</td>\n",
              "    </tr>\n",
              "    <tr>\n",
              "      <th>1</th>\n",
              "      <td>Tuned Support Vectore Machine (SMOTE)</td>\n",
              "      <td>89.57</td>\n",
              "      <td>86.81</td>\n",
              "    </tr>\n",
              "    <tr>\n",
              "      <th>2</th>\n",
              "      <td>Tuned Decision Tree Classifier (SMOTE)</td>\n",
              "      <td>89.13</td>\n",
              "      <td>75.82</td>\n",
              "    </tr>\n",
              "  </tbody>\n",
              "</table>\n",
              "</div>"
            ],
            "text/plain": [
              "                                    Model  ...  Testing Accuracy %\n",
              "0       Tuned Logistic Regression (SMOTE)  ...               87.91\n",
              "1   Tuned Support Vectore Machine (SMOTE)  ...               86.81\n",
              "2  Tuned Decision Tree Classifier (SMOTE)  ...               75.82\n",
              "\n",
              "[3 rows x 3 columns]"
            ]
          },
          "metadata": {},
          "execution_count": 282
        }
      ]
    }
  ]
}